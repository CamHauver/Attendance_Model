{
 "cells": [
  {
   "cell_type": "code",
   "execution_count": null,
   "id": "97138ec5-4258-4f46-a860-0bd9b978244a",
   "metadata": {},
   "outputs": [],
   "source": [
    "#Are there patterns over time in non-member and member attendance based on zip code and demographics? (Month to month)\n",
    "    #Exploratory\n",
    "\n",
    "#What are membership renewal rates? How many times are guests returning before becoming members?\n",
    "    #Probably can't answer this question with this data. Data shows membership re-entry, but does not capture return General Admission.\n",
    "\n",
    "#Model predicted non-member/member attendance considering population increase. What might attendance be like in 10 years?\n",
    "    #Would need to tie in projected population by county/zip code from another data source. Maybe just focus on this data set for now, tackle population projection if there's time\n",
    "    ##For modeL:\n",
    "    ##target variable would be 'member'\n",
    "    ##assign 1 as member (accesscodegroup '3 Members') and 0 as non-member (accesscodegroup '1 GA')\n",
    "\n",
    "#What cities should marketing efforts focus on (proportionately to population) to improve guest attendance?"
   ]
  },
  {
   "cell_type": "code",
   "execution_count": null,
   "id": "4d9fddac-8566-4335-9295-5aa9f13e48e7",
   "metadata": {},
   "outputs": [],
   "source": [
    "# Utah population projections by county: https://tableau.dashboard.utah.edu/t/Business/views/20220111_Detailed_Proj_Vis/ProjectionsWorkbook?%3Adisplay_count=n&%3Aembed=y&%3AisGuestRedirectFromVizportal=y&%3Aorigin=viz_share_link&%3AshowAppBanner=false&%3AshowVizHome=n"
   ]
  },
  {
   "cell_type": "code",
   "execution_count": 56,
   "id": "214a01bf-cb50-4c06-aa7e-3c23216ba80d",
   "metadata": {},
   "outputs": [],
   "source": [
    "# Import Dependencies\n",
    "import pandas as pd\n",
    "import numpy as np"
   ]
  },
  {
   "cell_type": "code",
   "execution_count": 57,
   "id": "ad9dedc0-7c9d-481c-8402-d513daa43afe",
   "metadata": {},
   "outputs": [
    {
     "name": "stderr",
     "output_type": "stream",
     "text": [
      "C:\\Users\\camih\\AppData\\Local\\Temp\\ipykernel_7592\\1484746679.py:4: DtypeWarning: Columns (10) have mixed types. Specify dtype option on import or set low_memory=False.\n",
      "  attendance_df = pd.read_csv(attendance_data_csv)\n"
     ]
    },
    {
     "data": {
      "text/html": [
       "<div>\n",
       "<style scoped>\n",
       "    .dataframe tbody tr th:only-of-type {\n",
       "        vertical-align: middle;\n",
       "    }\n",
       "\n",
       "    .dataframe tbody tr th {\n",
       "        vertical-align: top;\n",
       "    }\n",
       "\n",
       "    .dataframe thead th {\n",
       "        text-align: right;\n",
       "    }\n",
       "</style>\n",
       "<table border=\"1\" class=\"dataframe\">\n",
       "  <thead>\n",
       "    <tr style=\"text-align: right;\">\n",
       "      <th></th>\n",
       "      <th>admits</th>\n",
       "      <th>usedate</th>\n",
       "      <th>plu</th>\n",
       "      <th>pluname</th>\n",
       "      <th>accesscode</th>\n",
       "      <th>accesscodegroup</th>\n",
       "      <th>accesscodename</th>\n",
       "      <th>usageid</th>\n",
       "      <th>saledatetime</th>\n",
       "      <th>salenode</th>\n",
       "      <th>zipcode</th>\n",
       "      <th>city</th>\n",
       "      <th>county</th>\n",
       "      <th>stateloc</th>\n",
       "      <th>subgroup</th>\n",
       "      <th>maingroup</th>\n",
       "    </tr>\n",
       "  </thead>\n",
       "  <tbody>\n",
       "    <tr>\n",
       "      <th>0</th>\n",
       "      <td>1</td>\n",
       "      <td>2/22/22 0:00</td>\n",
       "      <td>GA01010TDP</td>\n",
       "      <td>Adult Admission</td>\n",
       "      <td>108</td>\n",
       "      <td>1 GA</td>\n",
       "      <td>Timed Ticketing GA</td>\n",
       "      <td>10000000</td>\n",
       "      <td>2/22/22 13:46</td>\n",
       "      <td>406</td>\n",
       "      <td>84129</td>\n",
       "      <td>SALT LAKE CITY</td>\n",
       "      <td>Salt Lake</td>\n",
       "      <td>UT</td>\n",
       "      <td>Salt Lake City, Taylorsville</td>\n",
       "      <td>Salt Lake County</td>\n",
       "    </tr>\n",
       "    <tr>\n",
       "      <th>1</th>\n",
       "      <td>1</td>\n",
       "      <td>2/22/22 0:00</td>\n",
       "      <td>GA01055TDP</td>\n",
       "      <td>Teen Admission</td>\n",
       "      <td>108</td>\n",
       "      <td>1 GA</td>\n",
       "      <td>Timed Ticketing GA</td>\n",
       "      <td>10000002</td>\n",
       "      <td>2/22/22 13:46</td>\n",
       "      <td>406</td>\n",
       "      <td>84129</td>\n",
       "      <td>SALT LAKE CITY</td>\n",
       "      <td>Salt Lake</td>\n",
       "      <td>UT</td>\n",
       "      <td>Salt Lake City, Taylorsville</td>\n",
       "      <td>Salt Lake County</td>\n",
       "    </tr>\n",
       "    <tr>\n",
       "      <th>2</th>\n",
       "      <td>1</td>\n",
       "      <td>2/22/22 0:00</td>\n",
       "      <td>GA01060T</td>\n",
       "      <td>2 &amp; Under Admission</td>\n",
       "      <td>108</td>\n",
       "      <td>1 GA</td>\n",
       "      <td>Timed Ticketing GA</td>\n",
       "      <td>10000003</td>\n",
       "      <td>2/22/22 13:46</td>\n",
       "      <td>406</td>\n",
       "      <td>84129</td>\n",
       "      <td>SALT LAKE CITY</td>\n",
       "      <td>Salt Lake</td>\n",
       "      <td>UT</td>\n",
       "      <td>Salt Lake City, Taylorsville</td>\n",
       "      <td>Salt Lake County</td>\n",
       "    </tr>\n",
       "    <tr>\n",
       "      <th>3</th>\n",
       "      <td>0</td>\n",
       "      <td>2/22/22 0:00</td>\n",
       "      <td>TI0003</td>\n",
       "      <td>Tuki's Island Member</td>\n",
       "      <td>450</td>\n",
       "      <td>9 Fun Center</td>\n",
       "      <td>Tuki's Island</td>\n",
       "      <td>10000004</td>\n",
       "      <td>2/22/22 14:04</td>\n",
       "      <td>32</td>\n",
       "      <td>84010</td>\n",
       "      <td>BOUNTIFUL</td>\n",
       "      <td>Davis</td>\n",
       "      <td>UT</td>\n",
       "      <td>Bountiful</td>\n",
       "      <td>Davis</td>\n",
       "    </tr>\n",
       "    <tr>\n",
       "      <th>4</th>\n",
       "      <td>0</td>\n",
       "      <td>2/22/22 0:00</td>\n",
       "      <td>TI0003</td>\n",
       "      <td>Tuki's Island Member</td>\n",
       "      <td>450</td>\n",
       "      <td>9 Fun Center</td>\n",
       "      <td>Tuki's Island</td>\n",
       "      <td>10000005</td>\n",
       "      <td>2/22/22 14:04</td>\n",
       "      <td>32</td>\n",
       "      <td>84010</td>\n",
       "      <td>BOUNTIFUL</td>\n",
       "      <td>Davis</td>\n",
       "      <td>UT</td>\n",
       "      <td>Bountiful</td>\n",
       "      <td>Davis</td>\n",
       "    </tr>\n",
       "  </tbody>\n",
       "</table>\n",
       "</div>"
      ],
      "text/plain": [
       "   admits       usedate                   plu               pluname   \n",
       "0       1  2/22/22 0:00  GA01010TDP                 Adult Admission  \\\n",
       "1       1  2/22/22 0:00  GA01055TDP                  Teen Admission   \n",
       "2       1  2/22/22 0:00  GA01060T               2 & Under Admission   \n",
       "3       0  2/22/22 0:00  TI0003                Tuki's Island Member   \n",
       "4       0  2/22/22 0:00  TI0003                Tuki's Island Member   \n",
       "\n",
       "   accesscode accesscodegroup                  accesscodename   usageid   \n",
       "0         108            1 GA  Timed Ticketing GA              10000000  \\\n",
       "1         108            1 GA  Timed Ticketing GA              10000002   \n",
       "2         108            1 GA  Timed Ticketing GA              10000003   \n",
       "3         450    9 Fun Center  Tuki's Island                   10000004   \n",
       "4         450    9 Fun Center  Tuki's Island                   10000005   \n",
       "\n",
       "    saledatetime  salenode zipcode            city     county stateloc   \n",
       "0  2/22/22 13:46       406   84129  SALT LAKE CITY  Salt Lake       UT  \\\n",
       "1  2/22/22 13:46       406   84129  SALT LAKE CITY  Salt Lake       UT   \n",
       "2  2/22/22 13:46       406   84129  SALT LAKE CITY  Salt Lake       UT   \n",
       "3  2/22/22 14:04        32   84010       BOUNTIFUL      Davis       UT   \n",
       "4  2/22/22 14:04        32   84010       BOUNTIFUL      Davis       UT   \n",
       "\n",
       "                       subgroup         maingroup  \n",
       "0  Salt Lake City, Taylorsville  Salt Lake County  \n",
       "1  Salt Lake City, Taylorsville  Salt Lake County  \n",
       "2  Salt Lake City, Taylorsville  Salt Lake County  \n",
       "3                     Bountiful             Davis  \n",
       "4                     Bountiful             Davis  "
      ]
     },
     "execution_count": 57,
     "metadata": {},
     "output_type": "execute_result"
    }
   ],
   "source": [
    "#Load and read original csv data file\n",
    "attendance_data_csv = \"./Resources/AttendanceATSani.csv\"\n",
    "\n",
    "attendance_df = pd.read_csv(attendance_data_csv)\n",
    "attendance_df.head()"
   ]
  },
  {
   "cell_type": "code",
   "execution_count": 58,
   "id": "96c48c88-c79f-4eb6-ac02-65efe06a3aed",
   "metadata": {},
   "outputs": [
    {
     "data": {
      "text/plain": [
       "1048575"
      ]
     },
     "execution_count": 58,
     "metadata": {},
     "output_type": "execute_result"
    }
   ],
   "source": [
    "#Count rows of original data\n",
    "row_count = len(attendance_df)\n",
    "row_count"
   ]
  },
  {
   "cell_type": "code",
   "execution_count": 59,
   "id": "0e4b4543-f4c5-42fb-964f-4a9fb578f06f",
   "metadata": {},
   "outputs": [
    {
     "data": {
      "text/plain": [
       "admits              int64\n",
       "usedate            object\n",
       "plu                object\n",
       "pluname            object\n",
       "accesscode          int64\n",
       "accesscodegroup    object\n",
       "accesscodename     object\n",
       "usageid             int64\n",
       "saledatetime       object\n",
       "salenode            int64\n",
       "zipcode            object\n",
       "city               object\n",
       "county             object\n",
       "stateloc           object\n",
       "subgroup           object\n",
       "maingroup          object\n",
       "dtype: object"
      ]
     },
     "execution_count": 59,
     "metadata": {},
     "output_type": "execute_result"
    }
   ],
   "source": [
    "#Check data types of original data\n",
    "attendance_df.dtypes"
   ]
  },
  {
   "cell_type": "code",
   "execution_count": 60,
   "id": "e1c3c05d-0634-4e5d-b74a-fea0573d7d11",
   "metadata": {},
   "outputs": [],
   "source": [
    "#Drop all rows containing missing or NULL zipcode values\n",
    "attendance_df.dropna(subset=['zipcode'], inplace=True)\n",
    "\n",
    "attendance_df = attendance_df[attendance_df['zipcode'] != '     ']\n",
    "\n",
    "#clean_attendance_df = attendance_df.dropna(inplace = True)"
   ]
  },
  {
   "cell_type": "code",
   "execution_count": 61,
   "id": "a7d92e50-ffb5-430d-a2e7-55b81a8cde62",
   "metadata": {},
   "outputs": [
    {
     "name": "stdout",
     "output_type": "stream",
     "text": [
      "Data loss from dropped rows containing missing/NULL zipcodes: 103787\n"
     ]
    }
   ],
   "source": [
    "#Count rows of data after dropping missing and NULL zipcodes. Note data loss in printed message\n",
    "dropna_row_count = len(attendance_df)\n",
    "dropna_row_count\n",
    "print(f\"Data loss from dropped rows containing missing/NULL zipcodes: {row_count - dropna_row_count}\")"
   ]
  },
  {
   "cell_type": "code",
   "execution_count": 62,
   "id": "f15427f6-6c98-485d-b7a2-bdd159dd4dc0",
   "metadata": {},
   "outputs": [
    {
     "data": {
      "text/html": [
       "<div>\n",
       "<style scoped>\n",
       "    .dataframe tbody tr th:only-of-type {\n",
       "        vertical-align: middle;\n",
       "    }\n",
       "\n",
       "    .dataframe tbody tr th {\n",
       "        vertical-align: top;\n",
       "    }\n",
       "\n",
       "    .dataframe thead th {\n",
       "        text-align: right;\n",
       "    }\n",
       "</style>\n",
       "<table border=\"1\" class=\"dataframe\">\n",
       "  <thead>\n",
       "    <tr style=\"text-align: right;\">\n",
       "      <th></th>\n",
       "      <th>admits</th>\n",
       "      <th>usedate</th>\n",
       "      <th>plu</th>\n",
       "      <th>pluname</th>\n",
       "      <th>accesscode</th>\n",
       "      <th>accesscodegroup</th>\n",
       "      <th>accesscodename</th>\n",
       "      <th>usageid</th>\n",
       "      <th>saledatetime</th>\n",
       "      <th>salenode</th>\n",
       "      <th>zipcode</th>\n",
       "      <th>city</th>\n",
       "      <th>county</th>\n",
       "      <th>stateloc</th>\n",
       "      <th>subgroup</th>\n",
       "      <th>maingroup</th>\n",
       "    </tr>\n",
       "  </thead>\n",
       "  <tbody>\n",
       "    <tr>\n",
       "      <th>0</th>\n",
       "      <td>1</td>\n",
       "      <td>2/22/22 0:00</td>\n",
       "      <td>GA01010TDP</td>\n",
       "      <td>Adult Admission</td>\n",
       "      <td>108</td>\n",
       "      <td>1 GA</td>\n",
       "      <td>Timed Ticketing GA</td>\n",
       "      <td>10000000</td>\n",
       "      <td>2/22/22 13:46</td>\n",
       "      <td>406</td>\n",
       "      <td>84129</td>\n",
       "      <td>SALT LAKE CITY</td>\n",
       "      <td>Salt Lake</td>\n",
       "      <td>UT</td>\n",
       "      <td>Salt Lake City, Taylorsville</td>\n",
       "      <td>Salt Lake County</td>\n",
       "    </tr>\n",
       "    <tr>\n",
       "      <th>1</th>\n",
       "      <td>1</td>\n",
       "      <td>2/22/22 0:00</td>\n",
       "      <td>GA01055TDP</td>\n",
       "      <td>Teen Admission</td>\n",
       "      <td>108</td>\n",
       "      <td>1 GA</td>\n",
       "      <td>Timed Ticketing GA</td>\n",
       "      <td>10000002</td>\n",
       "      <td>2/22/22 13:46</td>\n",
       "      <td>406</td>\n",
       "      <td>84129</td>\n",
       "      <td>SALT LAKE CITY</td>\n",
       "      <td>Salt Lake</td>\n",
       "      <td>UT</td>\n",
       "      <td>Salt Lake City, Taylorsville</td>\n",
       "      <td>Salt Lake County</td>\n",
       "    </tr>\n",
       "    <tr>\n",
       "      <th>2</th>\n",
       "      <td>1</td>\n",
       "      <td>2/22/22 0:00</td>\n",
       "      <td>GA01060T</td>\n",
       "      <td>2 &amp; Under Admission</td>\n",
       "      <td>108</td>\n",
       "      <td>1 GA</td>\n",
       "      <td>Timed Ticketing GA</td>\n",
       "      <td>10000003</td>\n",
       "      <td>2/22/22 13:46</td>\n",
       "      <td>406</td>\n",
       "      <td>84129</td>\n",
       "      <td>SALT LAKE CITY</td>\n",
       "      <td>Salt Lake</td>\n",
       "      <td>UT</td>\n",
       "      <td>Salt Lake City, Taylorsville</td>\n",
       "      <td>Salt Lake County</td>\n",
       "    </tr>\n",
       "    <tr>\n",
       "      <th>3</th>\n",
       "      <td>0</td>\n",
       "      <td>2/22/22 0:00</td>\n",
       "      <td>TI0003</td>\n",
       "      <td>Tuki's Island Member</td>\n",
       "      <td>450</td>\n",
       "      <td>9 Fun Center</td>\n",
       "      <td>Tuki's Island</td>\n",
       "      <td>10000004</td>\n",
       "      <td>2/22/22 14:04</td>\n",
       "      <td>32</td>\n",
       "      <td>84010</td>\n",
       "      <td>BOUNTIFUL</td>\n",
       "      <td>Davis</td>\n",
       "      <td>UT</td>\n",
       "      <td>Bountiful</td>\n",
       "      <td>Davis</td>\n",
       "    </tr>\n",
       "    <tr>\n",
       "      <th>4</th>\n",
       "      <td>0</td>\n",
       "      <td>2/22/22 0:00</td>\n",
       "      <td>TI0003</td>\n",
       "      <td>Tuki's Island Member</td>\n",
       "      <td>450</td>\n",
       "      <td>9 Fun Center</td>\n",
       "      <td>Tuki's Island</td>\n",
       "      <td>10000005</td>\n",
       "      <td>2/22/22 14:04</td>\n",
       "      <td>32</td>\n",
       "      <td>84010</td>\n",
       "      <td>BOUNTIFUL</td>\n",
       "      <td>Davis</td>\n",
       "      <td>UT</td>\n",
       "      <td>Bountiful</td>\n",
       "      <td>Davis</td>\n",
       "    </tr>\n",
       "  </tbody>\n",
       "</table>\n",
       "</div>"
      ],
      "text/plain": [
       "   admits       usedate                   plu               pluname   \n",
       "0       1  2/22/22 0:00  GA01010TDP                 Adult Admission  \\\n",
       "1       1  2/22/22 0:00  GA01055TDP                  Teen Admission   \n",
       "2       1  2/22/22 0:00  GA01060T               2 & Under Admission   \n",
       "3       0  2/22/22 0:00  TI0003                Tuki's Island Member   \n",
       "4       0  2/22/22 0:00  TI0003                Tuki's Island Member   \n",
       "\n",
       "   accesscode accesscodegroup                  accesscodename   usageid   \n",
       "0         108            1 GA  Timed Ticketing GA              10000000  \\\n",
       "1         108            1 GA  Timed Ticketing GA              10000002   \n",
       "2         108            1 GA  Timed Ticketing GA              10000003   \n",
       "3         450    9 Fun Center  Tuki's Island                   10000004   \n",
       "4         450    9 Fun Center  Tuki's Island                   10000005   \n",
       "\n",
       "    saledatetime  salenode zipcode            city     county stateloc   \n",
       "0  2/22/22 13:46       406   84129  SALT LAKE CITY  Salt Lake       UT  \\\n",
       "1  2/22/22 13:46       406   84129  SALT LAKE CITY  Salt Lake       UT   \n",
       "2  2/22/22 13:46       406   84129  SALT LAKE CITY  Salt Lake       UT   \n",
       "3  2/22/22 14:04        32   84010       BOUNTIFUL      Davis       UT   \n",
       "4  2/22/22 14:04        32   84010       BOUNTIFUL      Davis       UT   \n",
       "\n",
       "                       subgroup         maingroup  \n",
       "0  Salt Lake City, Taylorsville  Salt Lake County  \n",
       "1  Salt Lake City, Taylorsville  Salt Lake County  \n",
       "2  Salt Lake City, Taylorsville  Salt Lake County  \n",
       "3                     Bountiful             Davis  \n",
       "4                     Bountiful             Davis  "
      ]
     },
     "execution_count": 62,
     "metadata": {},
     "output_type": "execute_result"
    }
   ],
   "source": [
    "clean_attendance_df = attendance_df[~attendance_df['zipcode'].isnull()]\n",
    "clean_attendance_df.head()"
   ]
  },
  {
   "cell_type": "code",
   "execution_count": 63,
   "id": "af3d2d83-2956-45f4-99cb-0b2b6aa1eb24",
   "metadata": {},
   "outputs": [],
   "source": [
    "#Method that drops rows in the DataFrame where the specified column contains special characters\n",
    "def drop_rows_with_special_chars(clean_attendance_df, zipcode):\n",
    "    \n",
    "    # Define a pattern for special characters\n",
    "    pattern = r'[^\\w\\s]' \n",
    "\n",
    "    # Filter the DataFrame to keep only rows without special characters\n",
    "    return clean_attendance_df[~clean_attendance_df[zipcode].str.contains(pattern, regex=True, na=False)]\n",
    "\n",
    "clean_attendance_df = drop_rows_with_special_chars(clean_attendance_df, 'zipcode')"
   ]
  },
  {
   "cell_type": "code",
   "execution_count": 64,
   "id": "bcb62628-0075-4d43-a7ca-f0bd78289149",
   "metadata": {},
   "outputs": [],
   "source": [
    "#Convert zipcode object datatype to integer\n",
    "clean_attendance_df['zipcode'] = clean_attendance_df['zipcode'].astype(float)\n",
    "\n",
    "clean_attendance_df['zipcode'] = np.ceil(clean_attendance_df['zipcode']).astype(int)"
   ]
  },
  {
   "cell_type": "code",
   "execution_count": 68,
   "id": "ab167659-1772-4ea0-987b-f6ae5ca9d9e6",
   "metadata": {},
   "outputs": [
    {
     "name": "stdout",
     "output_type": "stream",
     "text": [
      "Further data loss from dropped rows with zipcodes containing special characters: 9\n"
     ]
    }
   ],
   "source": [
    "#Count rows of data after dropping zipcodes containing special characters. Note further data loss in printed message\n",
    "clean_row_count = len(clean_attendance_df)\n",
    "clean_row_count\n",
    "\n",
    "print(f\"Further data loss from dropped rows with zipcodes containing special characters: {dropna_row_count - clean_row_count}\")"
   ]
  },
  {
   "cell_type": "code",
   "execution_count": 69,
   "id": "f8d277a6-829a-4bb9-8b35-60d8bc7e316e",
   "metadata": {},
   "outputs": [],
   "source": [
    "#Replace all NULL values in the dataframe with 'unknown'\n",
    "clean_attendance_df.fillna('unknown', inplace=True)"
   ]
  },
  {
   "cell_type": "code",
   "execution_count": 70,
   "id": "8aa636de-d69e-4951-9cec-fadbb94af776",
   "metadata": {},
   "outputs": [],
   "source": [
    "#Replace 'Blank ZIP Field', 'Uncaptured Zip Codes' with 'unknown' and blank values with 0\n",
    "clean_attendance_df = clean_attendance_df.replace({'Blank ZIP Field':'unknown', 'Uncaptured Zip Codes': 'unknown', '':'0'})"
   ]
  },
  {
   "cell_type": "code",
   "execution_count": 71,
   "id": "357ab355-f21f-4dfc-9d5a-a919fdd01119",
   "metadata": {},
   "outputs": [],
   "source": [
    "#Filter out 'unknown' saledatetimes out of the dataframe\n",
    "clean_attendance_df = clean_attendance_df[~clean_attendance_df['saledatetime'].str.contains('unknown', na=False)]"
   ]
  },
  {
   "cell_type": "code",
   "execution_count": 72,
   "id": "d300b16d-dd61-49e1-9cad-b8ff40d849d5",
   "metadata": {},
   "outputs": [
    {
     "name": "stdout",
     "output_type": "stream",
     "text": [
      "Data loss from dropped rows containing missing/NULL zipcodes: 877\n"
     ]
    }
   ],
   "source": [
    "#Count rows of data after filtering out rows with 'unknown' saledatetimes. Note further data loss in printed message\n",
    "cleanest_row_count = len(clean_attendance_df)\n",
    "cleanest_row_count\n",
    "\n",
    "print(f\"Data loss from dropped rows containing unknown saledatetimes: {clean_row_count - cleanest_row_count}\")"
   ]
  },
  {
   "cell_type": "code",
   "execution_count": 76,
   "id": "c4c7ef47-c8dc-489a-acd3-eaf8c7ee865a",
   "metadata": {},
   "outputs": [
    {
     "name": "stdout",
     "output_type": "stream",
     "text": [
      "Total data loss from cleaning: 104673. Total remaining data row count: 943902\n"
     ]
    }
   ],
   "source": [
    "#Print total data loss from cleaning\n",
    "print(f\"Total data loss from cleaning: {row_count - cleanest_row_count}. Total remaining data row count: {cleanest_row_count}\")"
   ]
  },
  {
   "cell_type": "code",
   "execution_count": 75,
   "id": "c38de81f-cad6-4097-b87a-b45d2caa7fd6",
   "metadata": {},
   "outputs": [
    {
     "data": {
      "text/plain": [
       "array(['GA01010TDP          ', 'GA01055TDP          ',\n",
       "       'GA01060T            ', 'TI0003              ',\n",
       "       'GA01050TDP          ', 'MB00001             ',\n",
       "       'MB00011             ', 'TI0002              ',\n",
       "       'MB00057             ', 'MB00013             ',\n",
       "       'MB00057R            ', 'MB00015             ',\n",
       "       'MPR01               ', 'GA01030TDP          ',\n",
       "       'MPR21               ', 'MB00014-15          ',\n",
       "       'GA01020TDP          ', 'MB00009             ',\n",
       "       'GA01040TDP          ', 'MB00012-15          ',\n",
       "       'TI0001              ', 'MB00057BF           ',\n",
       "       'COMP04001           ', 'MB00002-15          ',\n",
       "       'MPR05               ', 'GA01110             ',\n",
       "       'MPR22               ', 'MPR10               ',\n",
       "       'MB00055R            ', 'SCTF00001           ',\n",
       "       'SCTF00001M          ', 'MB00005             ',\n",
       "       'MB00016-15          ', 'MPR04               ',\n",
       "       'MB00013BF           ', 'MB00003BF           ',\n",
       "       'MB00011BF1          ', 'MB00001BF           ',\n",
       "       'MB00006-15          ', 'MPR14               ',\n",
       "       'MPR02               ', 'MB00008-15          ',\n",
       "       'GA01055T            ', 'GA01050T            ',\n",
       "       'GA01010T            ', 'GA01020T            ',\n",
       "       'MB00020             ', 'MB00058             ',\n",
       "       'MB00054             ', 'MB00007             ',\n",
       "       'MB00016-15BF        ', 'SLCC00001           ',\n",
       "       'MB00053             ', 'GP08930             ',\n",
       "       'GP08020             ', 'GP08910             ',\n",
       "       'GP08920             ', 'GP08520             ',\n",
       "       'MPR11               ', 'MB00003             ',\n",
       "       'MB10560             ', 'MB00057RBF          ',\n",
       "       'MB00012-15BF        ', 'MPR15               ',\n",
       "       'MB00005BF           ', 'GP08911             ',\n",
       "       'EN00003MDP          ', 'MB00021             ',\n",
       "       'MB00010-15          ', 'EN00001DP           ',\n",
       "       'EN00001MDP          ', 'MB00056R            ',\n",
       "       'COMP04001T          ', 'MPR06               ',\n",
       "       'GA01040T            ', 'MPR07               ',\n",
       "       'MB19052             ', 'EN00001M            ',\n",
       "       'GP08940             ', 'BD00005             ',\n",
       "       'BD00008             ', 'MPR08               ',\n",
       "       'MB00014-15BF        ', 'MB00055             ',\n",
       "       'GA01030T-IN         ', 'GA01050T-IN         ',\n",
       "       'MB00009BF           ', 'EN00003M            ',\n",
       "       'MPR12               ', 'EN00001PM           ',\n",
       "       'GRP01055            ', 'GRP01050            ',\n",
       "       'MB00015BF           ', 'GRP01010            ',\n",
       "       'MB19050             ', 'BD00007             ',\n",
       "       'GA01010             ', 'GA01050             ',\n",
       "       'EN00001             ', 'MPR20               ',\n",
       "       'MB12550V            ', 'EN00003DP           ',\n",
       "       'GA01010TDP-L8       ', 'GA01040TDP-L8       ',\n",
       "       'GA01055TDP-L8       ', 'GA01050TDP-L8       ',\n",
       "       'GA01060T-L8         ', 'GA01020TDP-L8       ',\n",
       "       'GA01030TDP-L8       ', 'SE00019             ',\n",
       "       'SE00020             ', 'FR00011             ',\n",
       "       'MB00105             ', 'GP08030             ',\n",
       "       'MEM01010T           ', 'GA01010W            ',\n",
       "       'GA01055W            ', 'GA01050W            ',\n",
       "       'GA01055             ', 'MB00007BF           ',\n",
       "       'EN00001P            ', 'yoga005             ',\n",
       "       'yoga006             ', 'MB00054BF           ',\n",
       "       'GP08950             ', 'GP08220             ',\n",
       "       'MB00056RBF          ', 'GS0004              ',\n",
       "       'GA01040HS           ', 'GA01010HS           ',\n",
       "       'EN00003             ', 'GP00001             ',\n",
       "       'GP00003             ', 'MB12560             ',\n",
       "       'PROP0001            ', 'GP00004             ',\n",
       "       'GP00002             ', 'MB00056             ',\n",
       "       'MPR03               ', 'MB00004-15          ',\n",
       "       'MEM01050T           ', 'GA01040             ',\n",
       "       'MEM01060T           ', 'MB00002-15BF        ',\n",
       "       'MPR17               ', 'GA01060             ',\n",
       "       'GP08520S            ', 'GP08910S            ',\n",
       "       'GP08920S            ', 'MB00059             ',\n",
       "       'MPR09               ', 'MB19050-EN          ',\n",
       "       'BD00003             ', 'MB00059R            ',\n",
       "       'GRP01030            ', 'MB00060             ',\n",
       "       'MB00010-15BF        ', 'GS00011             ',\n",
       "       'GA01030             ', 'MB00055BF           ',\n",
       "       'MB10550             ', 'GP000013            ',\n",
       "       'MB12550             ', 'MB12510V            ',\n",
       "       'MB10560V            ', 'BD20002             ',\n",
       "       'COMP04060           ', 'NUL001              ',\n",
       "       'NUL002              ', 'NUL003              ',\n",
       "       'NUL004              ', 'NUL005              ',\n",
       "       'MPR13               ', 'MPR18               ',\n",
       "       'BD70005             ', 'GA01030T            ',\n",
       "       'BD70004MD           ', 'BD70003M            ',\n",
       "       'COF00002            ', 'BD70001             ',\n",
       "       'MB00006-15BF        ', 'GA01010T-IN         ',\n",
       "       'BD70001M            ', 'BD70002             ',\n",
       "       'BD70003             ', 'MB00038             ',\n",
       "       'HE00006             ', 'SC00005             ',\n",
       "       'SC00002             ', 'BD70004M            ',\n",
       "       'SIG002              ', 'SIG004              ',\n",
       "       'SIG001              ', 'SIG003              ',\n",
       "       'SLC002              ', 'BD70006             ',\n",
       "       'GA01020             ', 'yoga015             ',\n",
       "       'yoga016             ', 'NUL001-VIP          ',\n",
       "       'BD70004             ', 'COMP04005           ',\n",
       "       'HE00001             ', 'EN00004             ',\n",
       "       'GAZ00005            ', 'BD70004D            ',\n",
       "       'ZAP001              ', 'MEM01020T           ',\n",
       "       'ZAP002              ', 'HE00003             ',\n",
       "       'HOTHS2022-CM        ', 'HOTHS2022-AM        ',\n",
       "       'HOTHS2022-AG        ', 'HOTHS2022-CG        ',\n",
       "       'HOTHS2022-DM        ', 'HOTHS2022-2U        ',\n",
       "       'HOTHS2022-DG        ', 'HOTHS2022-VIP       ',\n",
       "       'MB00107             ', 'SIG006              ',\n",
       "       'SIG007              ', 'MB12551V            ',\n",
       "       'VR00001M-P          ', 'VR00001             ',\n",
       "       'SIG008              ', 'VR00001M            ',\n",
       "       'VR00002             ', 'SCAAD00S-3          ',\n",
       "       'SCAAD00S-4          ', '                    ',\n",
       "       'FT00001             ', 'HOTHS2022-AX        ',\n",
       "       'HOTHS2022-CX        ', 'HOTHS2022-DX        ',\n",
       "       'VR00001-A           ', 'SCAAD001M           ',\n",
       "       'SCAAD001            ', 'BD00004             ',\n",
       "       'MB00011BF           ', 'MB00059BF           ',\n",
       "       'MB00059RBF          ', 'MPR23               ',\n",
       "       'MBBF001             ', 'BD70002M            ',\n",
       "       'MPR24               ', 'MPR16               ',\n",
       "       'VR00002V            ', 'FOTS2021-BAO        ',\n",
       "       'GRP01020            ', 'MPR19               ',\n",
       "       'VR00001M-A          ', 'MB19050-IC          ',\n",
       "       'YFP00001            ', 'SIG010              ',\n",
       "       'SIG012              ', 'MB19010             ',\n",
       "       'SIG011              ', 'SIG010M             ',\n",
       "       'SIG013M             ', 'VR00003M            ',\n",
       "       'VR00003             ', 'TI0004              ',\n",
       "       'EN70110             ', 'SUS001              ',\n",
       "       'SUS002              ', 'SUS011              ',\n",
       "       'SUS010              ', 'MB00063             ',\n",
       "       'MB00064             ', 'MB00063R            ',\n",
       "       'GA01040W            '], dtype=object)"
      ]
     },
     "execution_count": 75,
     "metadata": {},
     "output_type": "execute_result"
    }
   ],
   "source": [
    "clean_attendance_df.plu.unique()"
   ]
  },
  {
   "cell_type": "code",
   "execution_count": 77,
   "id": "714b1718-9130-4a00-b745-a26605f665b1",
   "metadata": {},
   "outputs": [
    {
     "data": {
      "text/plain": [
       "array(['Adult Admission', 'Teen Admission', '2 & Under Admission',\n",
       "       \"Tuki's Island Member\", 'Child Admission', 'Child Membership',\n",
       "       'Adult Membership', \"Tuki's Island 2 & Under\",\n",
       "       'Quad Family Membership', 'Family Membership',\n",
       "       'Quad Family Membership Renewal', 'Family Plus Membership',\n",
       "       'Family Membership Promo', 'Military Admission',\n",
       "       'Quad Membership Promo', 'Family Membership 4 Child Renewal',\n",
       "       'Senior Admission', 'Senior Membership', 'Student Admission',\n",
       "       'Adult Membership Renewal', \"Tuki's Island 1 Hr\",\n",
       "       'Quad Family Membership Black Friday', 'All Ages VIP',\n",
       "       'Child Membership Renewal', 'Adult Membership Promo',\n",
       "       'Member Promo GA Admission', 'Child Membership Promo',\n",
       "       'Grandparent Membership Renewal', 'Teen STEM Futures',\n",
       "       'Student Membership', 'Family Plus Membership Renewal',\n",
       "       'Grandparent Plus Promo', 'Family Membership Black Friday',\n",
       "       'Teen Membership Black Friday', 'Adult Membership Black Friday',\n",
       "       'Child Membership Black Friday', 'Student Membership Renewal',\n",
       "       'Grandparent Plus Renewal Promo', 'Family Plus Membership Promo',\n",
       "       'Military Membership Renewal', 'Grandparent Plus Membership',\n",
       "       'Military Membership', 'SLCC Biology Student Pass',\n",
       "       'ADULT SCHOOL (PAID)', 'STUDENT (T1)', 'TEACHER /STAFF',\n",
       "       'CHAPERONE', 'STUDENT (PAID)', 'Teen Membership',\n",
       "       'Family Membership Plus',\n",
       "       'Quad Family Membership Renewal Black Fri',\n",
       "       'Adult Membership Renewal Black Friday',\n",
       "       'Student Membership Black Friday', 'ADULT PROGRAMMING',\n",
       "       'Stringray Feed', 'Senior Membership Renewal', 'Penguin Encounter',\n",
       "       'Grandparent Plus Renewal', 'Timed All Ages VIP',\n",
       "       'Senior Membership Promo', 'Military Membership Promo',\n",
       "       'Aquarium Volunteer', 'CHILD SCHOOL (PAID)', 'Party Ticket',\n",
       "       'Additional Party Guest', 'Student Membership Promo',\n",
       "       'Family Membership Renewal Black Friday', 'Grandparent Membership',\n",
       "       'Senior Membership Black Friday',\n",
       "       'Penguin Encounter - Private Member',\n",
       "       'Corporate Group Sales - Teen Admission',\n",
       "       'Corporate Group Sales - Child Admission',\n",
       "       'Family Plus Membership Black Friday',\n",
       "       'Corporate Group Sales - Adult Admission', 'Aquarium Employee',\n",
       "       'Stingray Feed', 'Adult Admission - Late Til 8',\n",
       "       'Student Admission - Late Til 8', 'Teen Admission - Late Til 8',\n",
       "       'Child Admission - Late Til 8', 'Senior Admission - Late Til 8',\n",
       "       'Military Admission - Late Til 8', 'Boy Scout Workshop Admission',\n",
       "       'Boy Scout Workshop - Addtl Chaperone', 'Special Event',\n",
       "       'STUDENT SN (T1)', 'Member Adult Admission',\n",
       "       'Military Membership Black Friday', 'Penguin Encounter - Private',\n",
       "       'Yoga w/Sharks', 'Yoga w/Sharks - Member',\n",
       "       'Grandparent Plus Membership Black Friday',\n",
       "       'CHILD SCHOOL (UNDER 3)', 'STUDENT (SPONSOR)',\n",
       "       'Grandparent Plus Renewal Black Friday',\n",
       "       'Corporate Group Sale Adult Membership',\n",
       "       'Home School - Student Admission',\n",
       "       'Home School - Teacher Admission', 'Group Adult Admission',\n",
       "       'Group Child 3-12', 'Proposal Adult Admission', 'Group Senior',\n",
       "       'Group Teen 13-17 Admission', 'Grandparent Membership Promo',\n",
       "       'Teen Membership Renewal', 'Child Membership Renewal Black Friday',\n",
       "       'Sorenson STUDENT (PAID)', 'Sorenson TEACHER /STAFF',\n",
       "       'Sorenson CHAPERONE', 'Quad Plus Membership',\n",
       "       'Teen Membership Promo', 'Event Network Employee',\n",
       "       'Party Aquarium Admission', 'Quad Plus Membership Renewal',\n",
       "       'Corporate Group Sales - Military Admissi',\n",
       "       'Quad Plus Membership Upgrade',\n",
       "       'Senior Membership Renewal Black Friday',\n",
       "       'Corporate Group Sale Family Membership',\n",
       "       'Grandparent Membership Black Friday', 'Group Student',\n",
       "       'Individual Membership', 'VIP Child Admission (Under 3)',\n",
       "       'Nights Under Lights- Adult GA Admission',\n",
       "       'Nights Under Lights - Child GA Admission',\n",
       "       'Nights Under Lights - Adult Member',\n",
       "       'Nights Under Lights - Child Member',\n",
       "       'Nights Under Lights 2 & Under Admission',\n",
       "       'Grandparent Membership Renewal Promo', 'Party Room 4',\n",
       "       'Party Room 3', 'Circle of Friends Membership', 'Party Room 1',\n",
       "       'Student Membership Renewal Black Friday', 'Party Room 2',\n",
       "       'Special Event Reservation Guest', 'Summer Camp Attendance',\n",
       "       'Summer Camp Admission', 'Movie on the Plaza - Member Admission',\n",
       "       'Movie on the Plaza - Children 2 & Under',\n",
       "       'Movie on the Plaza - General Admission',\n",
       "       'Expansion Grand Opening', 'Additional Party Ticket',\n",
       "       'Additional Field Trip Adult (PAID)', 'Yoga w/Sharks Child',\n",
       "       'Yoga w/Sharks Child Member', 'Nights Under Lights - VIP',\n",
       "       'Additional Field Trip Child (2 & Under)',\n",
       "       'All Ages VIP (Variable Price)', 'Hosted Event Adult Admission',\n",
       "       'Half Day Rental - Gazebo 05', 'ZAP Day Adult',\n",
       "       'Member Senior Admission', 'ZAP Day Child (Ages 3-17)',\n",
       "       'Additional Field Trip Child (PAID)',\n",
       "       'Special Event Reservation Adult',\n",
       "       'Halloween on the High Seas - Child',\n",
       "       'Halloween on the High Seas - Adult',\n",
       "       'Halloween on the High Seas - Discount',\n",
       "       'Halloween on the High Seas - 2 & Under',\n",
       "       'Halloween on the High Seas - VIP',\n",
       "       '5 Year Family Plus Membership', 'Penguins and Pancakes - Adult',\n",
       "       'Penguins and Pancakes - Child', 'EECO Voyager Admission',\n",
       "       'Penguins and Pancakes - Infant', 'EECO Voyager Admission - VIP',\n",
       "       'Aquarium After Dark', 'unknown', 'Field Trip Reservation',\n",
       "       'Quad Membership', 'Quad Membership Renewal',\n",
       "       'Quad Membership Black Friday',\n",
       "       'Quad Membership Renewal Black Fri', \"Tuki's Island Admission\",\n",
       "       '1 Month Membership Black Friday',\n",
       "       'Quad Plus Membership Black Friday',\n",
       "       'Quad Plus Membership Renewal Black Fri',\n",
       "       'Quad Plus Membership Promo', '1 Month Membership Promo Voucher',\n",
       "       'Grandparent Plus Black Friday',\n",
       "       'EECO Voyager Admission - VIP Voucher',\n",
       "       'Festival of the Seas - Ballet West',\n",
       "       'Corporate  Group Sales - Senior Admissio',\n",
       "       'Icon Culinary Employee', 'Youth & Family Programs Attendance',\n",
       "       'Seas the Day - Adult', 'Seas the Day - Child',\n",
       "       'Lifetime Membership', 'Seas the Day - Discount',\n",
       "       'Seas the Day - Member', 'Seas the Day - Guest',\n",
       "       \"Anniversary Tuki's Island 1 Hr\", 'PENGUIN ENCOUNTERS',\n",
       "       'Sips Under the Sea', 'Sips Under the Sea - Group',\n",
       "       'Sips Under the Sea - VIP', 'Sips Under the Sea - Member',\n",
       "       'Premium Plus Membership Renewal', 'Premium Plus Membership',\n",
       "       'Duo Membership', 'Premium Membership',\n",
       "       'Premium Plus Membership Black Friday',\n",
       "       'Premium Membership Renewal', 'Premium Plus Black Friday'],\n",
       "      dtype=object)"
      ]
     },
     "execution_count": 77,
     "metadata": {},
     "output_type": "execute_result"
    }
   ],
   "source": [
    "clean_attendance_df.pluname.unique()"
   ]
  },
  {
   "cell_type": "code",
   "execution_count": 78,
   "id": "b877e426-a7fb-43ea-8f6b-73262ef982d8",
   "metadata": {},
   "outputs": [
    {
     "data": {
      "text/plain": [
       "array([  108,   450,    11,    21,    20,    10,   150,   100,    24,\n",
       "         415,   310,   311,    23,   210,   200,   502,   501,    31,\n",
       "         106,    30, 91000,   411,   420,   107,   412,   300, 12550,\n",
       "         410,   111,    26,   406,   401,  3000,   112,   414, 95110,\n",
       "       20200,   416,   220, 91001,   413,   407], dtype=int64)"
      ]
     },
     "execution_count": 78,
     "metadata": {},
     "output_type": "execute_result"
    }
   ],
   "source": [
    "clean_attendance_df.accesscode.unique()"
   ]
  },
  {
   "cell_type": "code",
   "execution_count": 79,
   "id": "ffeb47d1-6243-4f8f-ba6a-450c659f7733",
   "metadata": {},
   "outputs": [
    {
     "data": {
      "text/plain": [
       "array(['1 GA', '9 Fun Center', '3 Members', '4 Comp', '9 Camp', '2 Group',\n",
       "       '5 School', '8 EN', 'CHARITABLE', '6 Event', '7 Fac Rental',\n",
       "       'FAM MEM', 'PARTY', '10 Camp', 'MARKETING', 'VR', 'PROMOTION'],\n",
       "      dtype=object)"
      ]
     },
     "execution_count": 79,
     "metadata": {},
     "output_type": "execute_result"
    }
   ],
   "source": [
    "clean_attendance_df.accesscodegroup.unique()"
   ]
  },
  {
   "cell_type": "code",
   "execution_count": 80,
   "id": "b39ea34a-1c53-43b5-9e4b-5453887e28c9",
   "metadata": {},
   "outputs": [
    {
     "data": {
      "text/plain": [
       "array(['Timed Ticketing GA            ', \"Tuki's Island                 \",\n",
       "       'Membership Readmit            ', 'Family Membership Readmit     ',\n",
       "       'Family Membership             ', 'Membership                    ',\n",
       "       'Comp                          ', 'Aquarium Admission            ',\n",
       "       'Grandparent Membership Readmit', 'Youth/Family Program          ',\n",
       "       'Adult                         ', 'Student                       ',\n",
       "       'Grandparent Membership        ', 'Stingray Feed                 ',\n",
       "       'Penguin Encounter             ', 'Volunteer Membership          ',\n",
       "       'Party Admission               ', 'Employee Membership           ',\n",
       "       'CHARITABLE VOUCHER            ', 'Printed Hosted Event          ',\n",
       "       'Facility Rental               ', 'Member Ticketed Admission     ',\n",
       "       'Aquarium Hosted Event         ', 'Group                         ',\n",
       "       'MEMBERSHIP - FAMILY WEB       ', 'Hosted Event                  ',\n",
       "       'Party Room                    ', 'Circle of Friends Membership  ',\n",
       "       'Summer Camp Attendance        ', 'Summer Camp                   ',\n",
       "       'SCIENCE CENTER VIP            ', 'Gazebo Rental                 ',\n",
       "       'Halloween on the High Seas    ', 'MARKETING VOUCHER ADULT       ',\n",
       "       'VIRTUAL REALITY               ', 'Youth & Family Programs       ',\n",
       "       'Field Trip Booking            ', 'PROMOTIONAL VOUCHER           ',\n",
       "       'Festival of the Seas          ', 'Youth Programs Attendance     '],\n",
       "      dtype=object)"
      ]
     },
     "execution_count": 80,
     "metadata": {},
     "output_type": "execute_result"
    }
   ],
   "source": [
    "clean_attendance_df.accesscodename.unique()"
   ]
  },
  {
   "cell_type": "code",
   "execution_count": 81,
   "id": "8c707c4e-0909-45a5-b4f6-8c1e57da2dc9",
   "metadata": {},
   "outputs": [
    {
     "data": {
      "text/plain": [
       "array([84129, 84010, 84125, ..., 60655, 61284, 59904])"
      ]
     },
     "execution_count": 81,
     "metadata": {},
     "output_type": "execute_result"
    }
   ],
   "source": [
    "clean_attendance_df.zipcode.unique()"
   ]
  },
  {
   "cell_type": "code",
   "execution_count": 82,
   "id": "74647d11-aa68-44bd-a839-7e6b87ba1f68",
   "metadata": {},
   "outputs": [
    {
     "data": {
      "text/plain": [
       "array(['SALT LAKE CITY', 'BOUNTIFUL', 'PROVO', ..., 'DUSON', 'HENLAWSON',\n",
       "       'TAYLOR RIDGE'], dtype=object)"
      ]
     },
     "execution_count": 82,
     "metadata": {},
     "output_type": "execute_result"
    }
   ],
   "source": [
    "clean_attendance_df.city.unique()"
   ]
  },
  {
   "cell_type": "code",
   "execution_count": 83,
   "id": "0c36dd74-add7-4375-8d1c-835bef4a276c",
   "metadata": {},
   "outputs": [
    {
     "data": {
      "text/plain": [
       "array(['Salt Lake', 'Davis', 'Utah', 'Uintah', 'Weber', 'unknown',\n",
       "       'Cache', 'Summit', 'Juab', 'Morgan', 'Tooele', 'Beaver', 'Grand',\n",
       "       'Wasatch', 'Box Elder', 'Iron', 'Washington', 'Daggett',\n",
       "       'Duchesne', 'Sanpete', 'Sevier', 'Kane', 'Millard', 'Garfield',\n",
       "       'Rich', 'Emery', 'Carbon', 'Wayne', 'San Juan', 'Piute'],\n",
       "      dtype=object)"
      ]
     },
     "execution_count": 83,
     "metadata": {},
     "output_type": "execute_result"
    }
   ],
   "source": [
    "clean_attendance_df.county.unique()"
   ]
  },
  {
   "cell_type": "code",
   "execution_count": 84,
   "id": "209e7cd8-02d3-43d1-aca1-d9612414157b",
   "metadata": {},
   "outputs": [
    {
     "data": {
      "text/plain": [
       "array(['UT', 'ID', 'unknown', 'CA', 'WY', 'AZ', 'MO', 'IN', 'WA', 'TX',\n",
       "       'CO', 'NY', 'NM', 'FL', 'AR', 'SC', 'ME', 'RI', 'PA', 'MI', 'MT',\n",
       "       'VA', 'MA', 'IL', 'MD', 'IA', 'NV', 'VT', 'NH', 'MN', 'OK', 'HI',\n",
       "       'NJ', 'OH', 'WI', 'KY', 'AK', 'CT', 'GA', 'ND', 'OR', 'NE', 'TN',\n",
       "       'NC', 'LA', 'DE', 'AE', 'PR', 'SD', 'KS', 'MS', 'AL', 'AP', 'DC',\n",
       "       'WV', 'AA', 'VI', 'MP', 'GU'], dtype=object)"
      ]
     },
     "execution_count": 84,
     "metadata": {},
     "output_type": "execute_result"
    }
   ],
   "source": [
    "\n",
    "clean_attendance_df.stateloc.unique()"
   ]
  },
  {
   "cell_type": "code",
   "execution_count": 85,
   "id": "03c2a2cc-30f8-419c-ac40-4feeab7edda1",
   "metadata": {},
   "outputs": [
    {
     "data": {
      "text/plain": [
       "array(['Salt Lake City, Taylorsville', 'Bountiful', 'Salt Lake City',\n",
       "       'Provo', 'West Jordan', 'Vernal', 'Riverton', 'Kaysville',\n",
       "       'American Fork', 'Sandy', 'Midvale', 'Lehi', 'Ogden', 'Clearfield',\n",
       "       'Herriman', 'Saratoga Springs', 'Outside Utah', 'Wellsville',\n",
       "       'South Jordan', 'unknown', 'Draper', 'Orem', 'Park City', 'Nephi',\n",
       "       'Morgan', 'Pleasant Grove', 'West Jordan, West Valley City',\n",
       "       'Tooele', 'Eagle Mountain', 'Milford', 'Logan', 'Moab', 'Alpine',\n",
       "       'Heber City', 'Mantua', 'Syracuse', 'Magna', 'Layton',\n",
       "       'Cedar City', 'Roy', 'Springville', 'Hurricane', 'Santaquin',\n",
       "       'Manila', 'Payson', 'Lindon', 'North Salt Lake', 'Hill Afb',\n",
       "       'Duchesne', 'Altonah', 'Spanish Fork', 'Event, School, etc.',\n",
       "       'Stockton', 'Salem', 'Altamont', 'Woods Cross', 'Tremonton',\n",
       "       'Saint George', 'Talmage', 'Ephraim', 'Midway', 'Centerville',\n",
       "       'Richfield', 'Rush Valley', 'Glendale', 'Delta', 'Santa Clara',\n",
       "       'Ivins', 'Bryce', 'Roosevelt', 'Randolph', 'Brigham City',\n",
       "       'Smithfield', 'Paradise', 'Willard', 'Riverside', 'Kamas',\n",
       "       'Bear River City', 'Farmington', 'Grantsville', 'Hooper',\n",
       "       'Mapleton', 'Garland', 'Bluebell', 'Coalville', 'Hyde Park',\n",
       "       'Garden City', 'Annabella', 'Neola', 'Meadow', 'Jensen', 'Newton',\n",
       "       'Tabiona', 'Providence', 'Manti', 'Mount Pleasant', 'Levan',\n",
       "       'Kanab', 'Mona', 'Fielding', 'Fort Duchesne', 'Hyrum', 'Ferron',\n",
       "       'Price', 'Eden', 'Cedar Valley', 'Oakley', 'Gunlock', 'Helper',\n",
       "       'Centerfield', 'Deweyville', 'Gunnison', 'Myton', 'Fruitland',\n",
       "       'Croydon', 'Bingham Canyon', 'Peoa', 'Dutch John', 'Washington',\n",
       "       'Tridell', 'Huntsville', 'Echo', 'Henefer', 'Fairview', 'Wales',\n",
       "       'Monroe', 'Hinckley', 'Lyman', 'Aneth', 'Fillmore', 'Clarkston',\n",
       "       'Lapoint', 'Mountain Home', 'Junction', 'Monticello', 'Huntington',\n",
       "       'Mendon', 'Bicknell', 'Lewiston', 'Millville', 'Beaver',\n",
       "       'Park Valley', 'Wendover', 'Woodruff', 'Green River', 'Glenwood',\n",
       "       'Leeds', 'Dugway', 'Whiterocks', 'East Carbon', 'Laketown',\n",
       "       'Enterprise', 'Honeyville', 'Collinston', 'Spring City',\n",
       "       'Elsinore', 'Emery', 'Redmond', 'Cache Junction', 'Vernon',\n",
       "       'Goshen', 'Richmond', 'Orangeville', 'Moroni', 'Elmo', 'Elberta',\n",
       "       'Koosharem', 'Lynndyl', 'Blanding', 'Chester', 'Hanna', 'Mayfield',\n",
       "       'Boulder', 'Cornish', 'Wallsburg', 'Orderville', 'New Harmony',\n",
       "       'Loa', 'Hanksville', 'Randlett', 'Mexican Hat', 'Fountain Green',\n",
       "       'Leamington', 'Aurora', 'Sterling', 'Thompson', 'Central',\n",
       "       'Salina', 'Torrey', 'La Verkin', 'Castle Dale', 'Paragonah',\n",
       "       'Newcastle', 'Marysvale', 'Montezuma Creek', 'Dammeron Valley',\n",
       "       'Springdale', 'Portage', 'Parowan', 'Lake Powell',\n",
       "       'Monument Valley', 'Toquerville', 'Sunnyside', 'Eureka', 'Trenton',\n",
       "       'Wellington', 'Hildale', 'Howell', 'Bonanza', 'Circleville',\n",
       "       'Oak City', 'Veyo', 'Corinne', 'Ibapah', 'Minersville',\n",
       "       'Cleveland', 'Kingston', 'Snowville', 'Duck Creek Village',\n",
       "       'Summit', 'Scipio', 'Panguitch', 'Sigurd', 'Holden', 'Clawson',\n",
       "       'Sevier', 'Joseph', 'Axtell', 'Kenilworth', 'Kanosh', 'Fayette',\n",
       "       'Escalante', 'Bluff', 'Teasdale', 'Plymouth', 'Grouse Creek',\n",
       "       'La Sal', 'Cisco', 'Cannonville', 'Garrison', 'Alton',\n",
       "       'Henrieville', 'Kanarraville', 'Greenville', 'Antimony', 'Beryl',\n",
       "       'Virgin', 'Tropic', 'Brian Head', 'Mount Carmel', 'Rockville',\n",
       "       'Pine Valley', 'Hatch'], dtype=object)"
      ]
     },
     "execution_count": 85,
     "metadata": {},
     "output_type": "execute_result"
    }
   ],
   "source": [
    "clean_attendance_df.subgroup.unique()"
   ]
  },
  {
   "cell_type": "code",
   "execution_count": 86,
   "id": "3ddb0453-870d-4a41-ae47-0aeeb5fd8297",
   "metadata": {},
   "outputs": [
    {
     "data": {
      "text/plain": [
       "array(['Salt Lake County', 'Davis', 'Utah County', 'Other Utah Counties',\n",
       "       'Out of State', 'unknown'], dtype=object)"
      ]
     },
     "execution_count": 86,
     "metadata": {},
     "output_type": "execute_result"
    }
   ],
   "source": [
    "clean_attendance_df.maingroup.unique()"
   ]
  },
  {
   "cell_type": "code",
   "execution_count": 87,
   "id": "25d87113-2a9d-4c00-a499-f7e496eb552f",
   "metadata": {},
   "outputs": [],
   "source": [
    "clean_attendance_df.to_csv(\"./Resources/clean_attendance.csv\", index=False)"
   ]
  },
  {
   "cell_type": "code",
   "execution_count": null,
   "id": "a8e0eefc-aec4-46ad-8a3c-0223f42aef43",
   "metadata": {},
   "outputs": [],
   "source": []
  },
  {
   "cell_type": "code",
   "execution_count": null,
   "id": "684625ec-6ec6-4bf4-af5b-182c2450251f",
   "metadata": {},
   "outputs": [],
   "source": []
  }
 ],
 "metadata": {
  "kernelspec": {
   "display_name": "Python 3 (ipykernel)",
   "language": "python",
   "name": "python3"
  },
  "language_info": {
   "codemirror_mode": {
    "name": "ipython",
    "version": 3
   },
   "file_extension": ".py",
   "mimetype": "text/x-python",
   "name": "python",
   "nbconvert_exporter": "python",
   "pygments_lexer": "ipython3",
   "version": "3.11.9"
  }
 },
 "nbformat": 4,
 "nbformat_minor": 5
}
