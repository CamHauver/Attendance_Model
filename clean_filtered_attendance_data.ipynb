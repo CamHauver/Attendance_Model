{
 "cells": [
  {
   "cell_type": "code",
   "execution_count": null,
   "id": "97138ec5-4258-4f46-a860-0bd9b978244a",
   "metadata": {},
   "outputs": [],
   "source": [
    "#Are there patterns over time in non-member and member attendance based on zip code and demographics? (Month to month)\n",
    "    #Exploratory\n",
    "\n",
    "#What are membership renewal rates? How many times are guests returning before becoming members?\n",
    "    #Probably can't answer this question with this data. Data shows membership re-entry, but does not capture return General Admission.\n",
    "\n",
    "#Model predicted non-member/member attendance considering population increase. What might attendance be like in 10 years?\n",
    "    #Would need to tie in projected population by county/zip code from another data source. Maybe just focus on this data set for now, tackle population projection if there's time\n",
    "    ##For modeL:\n",
    "    ##target variable would be 'member'\n",
    "    ##assign 1 as member (accesscodegroup '3 Members') and 0 as non-member (accesscodegroup '1 GA')\n",
    "\n",
    "#What cities should marketing efforts focus on (proportionately to population) to improve guest attendance?"
   ]
  },
  {
   "cell_type": "code",
   "execution_count": null,
   "id": "4d9fddac-8566-4335-9295-5aa9f13e48e7",
   "metadata": {},
   "outputs": [],
   "source": [
    "# Utah population projections by county: https://tableau.dashboard.utah.edu/t/Business/views/20220111_Detailed_Proj_Vis/ProjectionsWorkbook?%3Adisplay_count=n&%3Aembed=y&%3AisGuestRedirectFromVizportal=y&%3Aorigin=viz_share_link&%3AshowAppBanner=false&%3AshowVizHome=n"
   ]
  },
  {
   "cell_type": "code",
   "execution_count": 1,
   "id": "214a01bf-cb50-4c06-aa7e-3c23216ba80d",
   "metadata": {},
   "outputs": [],
   "source": [
    "# Import Dependencies\n",
    "import pandas as pd\n",
    "import numpy as np"
   ]
  },
  {
   "cell_type": "code",
   "execution_count": 2,
   "id": "ad9dedc0-7c9d-481c-8402-d513daa43afe",
   "metadata": {},
   "outputs": [
    {
     "data": {
      "text/html": [
       "<div>\n",
       "<style scoped>\n",
       "    .dataframe tbody tr th:only-of-type {\n",
       "        vertical-align: middle;\n",
       "    }\n",
       "\n",
       "    .dataframe tbody tr th {\n",
       "        vertical-align: top;\n",
       "    }\n",
       "\n",
       "    .dataframe thead th {\n",
       "        text-align: right;\n",
       "    }\n",
       "</style>\n",
       "<table border=\"1\" class=\"dataframe\">\n",
       "  <thead>\n",
       "    <tr style=\"text-align: right;\">\n",
       "      <th></th>\n",
       "      <th>admits</th>\n",
       "      <th>usedate</th>\n",
       "      <th>plu</th>\n",
       "      <th>pluname</th>\n",
       "      <th>accesscode</th>\n",
       "      <th>accesscodegroup</th>\n",
       "      <th>accesscodename</th>\n",
       "      <th>usageid</th>\n",
       "      <th>saledatetime</th>\n",
       "      <th>salenode</th>\n",
       "      <th>zipcode</th>\n",
       "      <th>city</th>\n",
       "      <th>county</th>\n",
       "      <th>stateloc</th>\n",
       "      <th>subgroup</th>\n",
       "      <th>maingroup</th>\n",
       "    </tr>\n",
       "  </thead>\n",
       "  <tbody>\n",
       "    <tr>\n",
       "      <th>0</th>\n",
       "      <td>1</td>\n",
       "      <td>2022-02-22 00:00:00</td>\n",
       "      <td>GA01010TDP</td>\n",
       "      <td>Adult Admission</td>\n",
       "      <td>108</td>\n",
       "      <td>1 GA</td>\n",
       "      <td>Timed Ticketing GA</td>\n",
       "      <td>10000000</td>\n",
       "      <td>2022-02-22 13:46:00</td>\n",
       "      <td>406</td>\n",
       "      <td>84129</td>\n",
       "      <td>SALT LAKE CITY</td>\n",
       "      <td>Salt Lake</td>\n",
       "      <td>UT</td>\n",
       "      <td>Salt Lake City, Taylorsville</td>\n",
       "      <td>Salt Lake County</td>\n",
       "    </tr>\n",
       "    <tr>\n",
       "      <th>1</th>\n",
       "      <td>1</td>\n",
       "      <td>2022-02-22 00:00:00</td>\n",
       "      <td>GA01055TDP</td>\n",
       "      <td>Teen Admission</td>\n",
       "      <td>108</td>\n",
       "      <td>1 GA</td>\n",
       "      <td>Timed Ticketing GA</td>\n",
       "      <td>10000002</td>\n",
       "      <td>2022-02-22 13:46:00</td>\n",
       "      <td>406</td>\n",
       "      <td>84129</td>\n",
       "      <td>SALT LAKE CITY</td>\n",
       "      <td>Salt Lake</td>\n",
       "      <td>UT</td>\n",
       "      <td>Salt Lake City, Taylorsville</td>\n",
       "      <td>Salt Lake County</td>\n",
       "    </tr>\n",
       "    <tr>\n",
       "      <th>2</th>\n",
       "      <td>1</td>\n",
       "      <td>2022-02-22 00:00:00</td>\n",
       "      <td>GA01060T</td>\n",
       "      <td>2 &amp; Under Admission</td>\n",
       "      <td>108</td>\n",
       "      <td>1 GA</td>\n",
       "      <td>Timed Ticketing GA</td>\n",
       "      <td>10000003</td>\n",
       "      <td>2022-02-22 13:46:00</td>\n",
       "      <td>406</td>\n",
       "      <td>84129</td>\n",
       "      <td>SALT LAKE CITY</td>\n",
       "      <td>Salt Lake</td>\n",
       "      <td>UT</td>\n",
       "      <td>Salt Lake City, Taylorsville</td>\n",
       "      <td>Salt Lake County</td>\n",
       "    </tr>\n",
       "    <tr>\n",
       "      <th>3</th>\n",
       "      <td>0</td>\n",
       "      <td>2022-02-22 00:00:00</td>\n",
       "      <td>TI0003</td>\n",
       "      <td>Tuki's Island Member</td>\n",
       "      <td>450</td>\n",
       "      <td>9 Fun Center</td>\n",
       "      <td>Tuki's Island</td>\n",
       "      <td>10000004</td>\n",
       "      <td>2022-02-22 14:04:00</td>\n",
       "      <td>32</td>\n",
       "      <td>84010</td>\n",
       "      <td>BOUNTIFUL</td>\n",
       "      <td>Davis</td>\n",
       "      <td>UT</td>\n",
       "      <td>Bountiful</td>\n",
       "      <td>Davis</td>\n",
       "    </tr>\n",
       "    <tr>\n",
       "      <th>4</th>\n",
       "      <td>0</td>\n",
       "      <td>2022-02-22 00:00:00</td>\n",
       "      <td>TI0003</td>\n",
       "      <td>Tuki's Island Member</td>\n",
       "      <td>450</td>\n",
       "      <td>9 Fun Center</td>\n",
       "      <td>Tuki's Island</td>\n",
       "      <td>10000005</td>\n",
       "      <td>2022-02-22 14:04:00</td>\n",
       "      <td>32</td>\n",
       "      <td>84010</td>\n",
       "      <td>BOUNTIFUL</td>\n",
       "      <td>Davis</td>\n",
       "      <td>UT</td>\n",
       "      <td>Bountiful</td>\n",
       "      <td>Davis</td>\n",
       "    </tr>\n",
       "  </tbody>\n",
       "</table>\n",
       "</div>"
      ],
      "text/plain": [
       "   admits              usedate                   plu               pluname   \n",
       "0       1  2022-02-22 00:00:00  GA01010TDP                 Adult Admission  \\\n",
       "1       1  2022-02-22 00:00:00  GA01055TDP                  Teen Admission   \n",
       "2       1  2022-02-22 00:00:00  GA01060T               2 & Under Admission   \n",
       "3       0  2022-02-22 00:00:00  TI0003                Tuki's Island Member   \n",
       "4       0  2022-02-22 00:00:00  TI0003                Tuki's Island Member   \n",
       "\n",
       "   accesscode accesscodegroup                  accesscodename   usageid   \n",
       "0         108            1 GA  Timed Ticketing GA              10000000  \\\n",
       "1         108            1 GA  Timed Ticketing GA              10000002   \n",
       "2         108            1 GA  Timed Ticketing GA              10000003   \n",
       "3         450    9 Fun Center  Tuki's Island                   10000004   \n",
       "4         450    9 Fun Center  Tuki's Island                   10000005   \n",
       "\n",
       "          saledatetime  salenode  zipcode            city     county stateloc   \n",
       "0  2022-02-22 13:46:00       406    84129  SALT LAKE CITY  Salt Lake       UT  \\\n",
       "1  2022-02-22 13:46:00       406    84129  SALT LAKE CITY  Salt Lake       UT   \n",
       "2  2022-02-22 13:46:00       406    84129  SALT LAKE CITY  Salt Lake       UT   \n",
       "3  2022-02-22 14:04:00        32    84010       BOUNTIFUL      Davis       UT   \n",
       "4  2022-02-22 14:04:00        32    84010       BOUNTIFUL      Davis       UT   \n",
       "\n",
       "                       subgroup         maingroup  \n",
       "0  Salt Lake City, Taylorsville  Salt Lake County  \n",
       "1  Salt Lake City, Taylorsville  Salt Lake County  \n",
       "2  Salt Lake City, Taylorsville  Salt Lake County  \n",
       "3                     Bountiful             Davis  \n",
       "4                     Bountiful             Davis  "
      ]
     },
     "execution_count": 2,
     "metadata": {},
     "output_type": "execute_result"
    }
   ],
   "source": [
    "#Load and csv exported from sql\n",
    "attendance_data_csv = \"./Resources/attendance_data_sql.csv\"\n",
    "\n",
    "attendance_df = pd.read_csv(attendance_data_csv)\n",
    "attendance_df.head()"
   ]
  },
  {
   "cell_type": "code",
   "execution_count": 3,
   "id": "5bb9e9f3-f5ca-487b-aa89-670f72c64276",
   "metadata": {},
   "outputs": [
    {
     "data": {
      "text/plain": [
       "943902"
      ]
     },
     "execution_count": 3,
     "metadata": {},
     "output_type": "execute_result"
    }
   ],
   "source": [
    "#Count rows of sql data\n",
    "row_count = len(attendance_df)\n",
    "row_count"
   ]
  },
  {
   "cell_type": "code",
   "execution_count": 4,
   "id": "0e4b4543-f4c5-42fb-964f-4a9fb578f06f",
   "metadata": {},
   "outputs": [
    {
     "data": {
      "text/plain": [
       "admits              int64\n",
       "usedate            object\n",
       "plu                object\n",
       "pluname            object\n",
       "accesscode          int64\n",
       "accesscodegroup    object\n",
       "accesscodename     object\n",
       "usageid             int64\n",
       "saledatetime       object\n",
       "salenode            int64\n",
       "zipcode             int64\n",
       "city               object\n",
       "county             object\n",
       "stateloc           object\n",
       "subgroup           object\n",
       "maingroup          object\n",
       "dtype: object"
      ]
     },
     "execution_count": 4,
     "metadata": {},
     "output_type": "execute_result"
    }
   ],
   "source": [
    "#Check data types of sql data\n",
    "attendance_df.dtypes"
   ]
  },
  {
   "cell_type": "code",
   "execution_count": 5,
   "id": "2488215f-9687-455e-8e72-5352c5c8b875",
   "metadata": {},
   "outputs": [],
   "source": [
    "#Convert usedate column to datetime datatype\n",
    "attendance_df['usedate'] = pd.to_datetime(attendance_df.usedate)"
   ]
  },
  {
   "cell_type": "code",
   "execution_count": 6,
   "id": "fb376060-b646-492b-91f3-a2b40cfa3602",
   "metadata": {},
   "outputs": [],
   "source": [
    "#Convert saledatetime to datetime datatype\n",
    "attendance_df['saledatetime'] = pd.to_datetime(attendance_df.saledatetime, format='%Y-%m-%d %H:%M:%S', errors='coerce')\n"
   ]
  },
  {
   "cell_type": "code",
   "execution_count": 7,
   "id": "e15626b7-802a-4af4-a02f-a9e4cf1efd2d",
   "metadata": {},
   "outputs": [],
   "source": [
    "attendance_df['year'] = attendance_df['saledatetime'].dt.year\n",
    "attendance_df['month'] = attendance_df['saledatetime'].dt.month\n",
    "attendance_df['day'] = attendance_df['saledatetime'].dt.day"
   ]
  },
  {
   "cell_type": "code",
   "execution_count": 8,
   "id": "776f6931-154e-4ebe-ba56-8b791a66e315",
   "metadata": {},
   "outputs": [
    {
     "data": {
      "text/plain": [
       "2000"
      ]
     },
     "execution_count": 8,
     "metadata": {},
     "output_type": "execute_result"
    }
   ],
   "source": [
    "#Check for earliest year recorded in data\n",
    "attendance_df.year.min()"
   ]
  },
  {
   "cell_type": "code",
   "execution_count": 9,
   "id": "f6d0afd4-d82a-460c-9f46-0a351ca57f60",
   "metadata": {},
   "outputs": [
    {
     "data": {
      "text/plain": [
       "2023"
      ]
     },
     "execution_count": 9,
     "metadata": {},
     "output_type": "execute_result"
    }
   ],
   "source": [
    "#Check for lastest year recorded in data\n",
    "attendance_df.year.max()"
   ]
  },
  {
   "cell_type": "code",
   "execution_count": 10,
   "id": "6cf6abfc-8e4b-4eec-b52f-d300f7c42094",
   "metadata": {},
   "outputs": [],
   "source": [
    "#Filter dataframe to include data after 2021 only\n",
    "date_filtered_attendance_df = attendance_df[(attendance_df['saledatetime'] > '2021-01-01')]\n",
    "date_filtered_attendance_df.reset_index(drop=True, inplace=True)"
   ]
  },
  {
   "cell_type": "code",
   "execution_count": 11,
   "id": "3ee9d565-5aa1-4340-aef1-c39636b325c3",
   "metadata": {},
   "outputs": [
    {
     "data": {
      "text/plain": [
       "2021"
      ]
     },
     "execution_count": 11,
     "metadata": {},
     "output_type": "execute_result"
    }
   ],
   "source": [
    "#Check for earliest year recorded in date filtered data\n",
    "date_filtered_attendance_df.year.min()"
   ]
  },
  {
   "cell_type": "code",
   "execution_count": 12,
   "id": "29adcb94-7010-438a-9a74-b560267b8ec6",
   "metadata": {},
   "outputs": [
    {
     "data": {
      "text/plain": [
       "2023"
      ]
     },
     "execution_count": 12,
     "metadata": {},
     "output_type": "execute_result"
    }
   ],
   "source": [
    "#Check for lastest year recorded in date filtered data\n",
    "date_filtered_attendance_df.year.max()"
   ]
  },
  {
   "cell_type": "code",
   "execution_count": 13,
   "id": "d423087e-5224-4a26-8b0f-36912d018729",
   "metadata": {},
   "outputs": [
    {
     "name": "stdout",
     "output_type": "stream",
     "text": [
      "Further data loss from filtering data by date (>2021): 63624\n"
     ]
    }
   ],
   "source": [
    "#Count rows of data after filtering off data earlier than 2021. Note data loss in printed message. \n",
    "#*Note that overall data loss from cleaning and filtering is 168,296\n",
    "date_filtered_row_count = len(date_filtered_attendance_df)\n",
    "date_filtered_row_count\n",
    "print(f\"Further data loss from filtering data by date (>2021): {row_count - date_filtered_row_count}\")"
   ]
  },
  {
   "cell_type": "code",
   "execution_count": 14,
   "id": "ace2e53c-22fa-4622-8630-a04bfd8cf25b",
   "metadata": {},
   "outputs": [
    {
     "name": "stdout",
     "output_type": "stream",
     "text": [
      "Total remaining data row count: 880278\n"
     ]
    }
   ],
   "source": [
    "#Print total data loss from filtering dates\n",
    "print(f\"Total remaining data row count: {date_filtered_row_count}\")"
   ]
  },
  {
   "cell_type": "code",
   "execution_count": 15,
   "id": "c38de81f-cad6-4097-b87a-b45d2caa7fd6",
   "metadata": {},
   "outputs": [
    {
     "data": {
      "text/plain": [
       "array(['GA01010TDP          ', 'GA01055TDP          ',\n",
       "       'GA01060T            ', 'TI0003              ',\n",
       "       'GA01050TDP          ', 'MB00001             ',\n",
       "       'MB00011             ', 'TI0002              ',\n",
       "       'MB00057             ', 'MB00013             ',\n",
       "       'MB00057R            ', 'MB00015             ',\n",
       "       'MPR01               ', 'GA01030TDP          ',\n",
       "       'MPR21               ', 'MB00014-15          ',\n",
       "       'GA01020TDP          ', 'MB00009             ',\n",
       "       'GA01040TDP          ', 'MB00012-15          ',\n",
       "       'TI0001              ', 'MB00057BF           ',\n",
       "       'COMP04001           ', 'MB00002-15          ',\n",
       "       'MPR05               ', 'GA01110             ',\n",
       "       'MPR22               ', 'MPR10               ',\n",
       "       'MB00055R            ', 'SCTF00001           ',\n",
       "       'SCTF00001M          ', 'MB00005             ',\n",
       "       'MB00016-15          ', 'MPR04               ',\n",
       "       'MB00013BF           ', 'MB00003BF           ',\n",
       "       'MB00011BF1          ', 'MB00001BF           ',\n",
       "       'MB00006-15          ', 'MPR14               ',\n",
       "       'MPR02               ', 'MB00008-15          ',\n",
       "       'GA01055T            ', 'GA01050T            ',\n",
       "       'GA01010T            ', 'GA01020T            ',\n",
       "       'MB00020             ', 'MB00058             ',\n",
       "       'MB00054             ', 'MB00007             ',\n",
       "       'MB00016-15BF        ', 'SLCC00001           ',\n",
       "       'MB00053             ', 'GP08930             ',\n",
       "       'GP08020             ', 'GP08910             ',\n",
       "       'GP08920             ', 'GP08520             ',\n",
       "       'MPR11               ', 'MB00003             ',\n",
       "       'MB10560             ', 'MB00057RBF          ',\n",
       "       'MB00012-15BF        ', 'MPR15               ',\n",
       "       'MB00005BF           ', 'GP08911             ',\n",
       "       'EN00003MDP          ', 'MB00021             ',\n",
       "       'MB00010-15          ', 'EN00001DP           ',\n",
       "       'EN00001MDP          ', 'MB00056R            ',\n",
       "       'COMP04001T          ', 'MPR06               ',\n",
       "       'GA01040T            ', 'MPR07               ',\n",
       "       'EN00001M            ', 'GP08940             ',\n",
       "       'BD00005             ', 'BD00008             ',\n",
       "       'MPR08               ', 'MB00014-15BF        ',\n",
       "       'MB00055             ', 'GA01030T-IN         ',\n",
       "       'GA01050T-IN         ', 'MB00009BF           ',\n",
       "       'EN00003M            ', 'MPR12               ',\n",
       "       'EN00001PM           ', 'GRP01055            ',\n",
       "       'GRP01050            ', 'MB00015BF           ',\n",
       "       'GRP01010            ', 'MB19050             ',\n",
       "       'BD00007             ', 'EN00001             ',\n",
       "       'MPR20               ', 'MB12550V            ',\n",
       "       'EN00003DP           ', 'GA01010             ',\n",
       "       'GA01010TDP-L8       ', 'GA01040TDP-L8       ',\n",
       "       'GA01055TDP-L8       ', 'GA01050TDP-L8       ',\n",
       "       'GA01060T-L8         ', 'GA01020TDP-L8       ',\n",
       "       'GA01030TDP-L8       ', 'SE00019             ',\n",
       "       'SE00020             ', 'FR00011             ',\n",
       "       'GA01050             ', 'MB00105             ',\n",
       "       'GP08030             ', 'MEM01010T           ',\n",
       "       'GA01055             ', 'MB00007BF           ',\n",
       "       'EN00001P            ', 'yoga005             ',\n",
       "       'yoga006             ', 'MB00054BF           ',\n",
       "       'GP08950             ', 'GP08220             ',\n",
       "       'MB00056RBF          ', 'GS0004              ',\n",
       "       'GA01040HS           ', 'GA01010HS           ',\n",
       "       'EN00003             ', 'GP00001             ',\n",
       "       'GP00003             ', 'MB12560             ',\n",
       "       'PROP0001            ', 'GP00004             ',\n",
       "       'GP00002             ', 'MB00056             ',\n",
       "       'MPR03               ', 'MB00004-15          ',\n",
       "       'MEM01050T           ', 'GA01040             ',\n",
       "       'MEM01060T           ', 'MB00002-15BF        ',\n",
       "       'MPR17               ', 'GA01060             ',\n",
       "       'GP08520S            ', 'GP08910S            ',\n",
       "       'GP08920S            ', 'MB00059             ',\n",
       "       'MPR09               ', 'MB19050-EN          ',\n",
       "       'BD00003             ', 'MB00059R            ',\n",
       "       'GRP01030            ', 'MB00060             ',\n",
       "       'MB00010-15BF        ', 'GS00011             ',\n",
       "       'GA01030             ', 'MB00055BF           ',\n",
       "       'MB10550             ', 'GP000013            ',\n",
       "       'MB12550             ', 'MB12510V            ',\n",
       "       'MB10560V            ', 'BD20002             ',\n",
       "       'COMP04060           ', 'NUL001              ',\n",
       "       'NUL002              ', 'NUL003              ',\n",
       "       'NUL004              ', 'NUL005              ',\n",
       "       'MPR13               ', 'MPR18               ',\n",
       "       'BD70005             ', 'GA01030T            ',\n",
       "       'BD70004MD           ', 'BD70003M            ',\n",
       "       'COF00002            ', 'BD70001             ',\n",
       "       'MB00006-15BF        ', 'GA01010T-IN         ',\n",
       "       'BD70001M            ', 'BD70002             ',\n",
       "       'BD70003             ', 'MB00038             ',\n",
       "       'HE00006             ', 'SC00005             ',\n",
       "       'SC00002             ', 'BD70004M            ',\n",
       "       'SIG002              ', 'SIG004              ',\n",
       "       'SIG001              ', 'SIG003              ',\n",
       "       'MB19052             ', 'BD70006             ',\n",
       "       'yoga015             ', 'yoga016             ',\n",
       "       'NUL001-VIP          ', 'BD70004             ',\n",
       "       'COMP04005           ', 'HE00001             ',\n",
       "       'EN00004             ', 'GAZ00005            ',\n",
       "       'BD70004D            ', 'ZAP001              ',\n",
       "       'MEM01020T           ', 'ZAP002              ',\n",
       "       'HE00003             ', 'HOTHS2022-CM        ',\n",
       "       'HOTHS2022-AM        ', 'HOTHS2022-AG        ',\n",
       "       'HOTHS2022-CG        ', 'HOTHS2022-DM        ',\n",
       "       'HOTHS2022-2U        ', 'HOTHS2022-DG        ',\n",
       "       'HOTHS2022-VIP       ', 'SIG006              ',\n",
       "       'SIG007              ', 'MB12551V            ',\n",
       "       'VR00001M-P          ', 'VR00001             ',\n",
       "       'SIG008              ', 'VR00001M            ',\n",
       "       'VR00002             ', 'SCAAD00S-3          ',\n",
       "       'SCAAD00S-4          ', 'FT00001             ',\n",
       "       'HOTHS2022-AX        ', 'HOTHS2022-CX        ',\n",
       "       'HOTHS2022-DX        ', 'VR00001-A           ',\n",
       "       'SCAAD001M           ', 'SCAAD001            ',\n",
       "       'MB00011BF           ', 'MB00059BF           ',\n",
       "       'MB00059RBF          ', 'MPR23               ',\n",
       "       'MBBF001             ', 'BD70002M            ',\n",
       "       'MPR24               ', 'MPR16               ',\n",
       "       'VR00002V            ', 'FOTS2021-BAO        ',\n",
       "       'GRP01020            ', 'MPR19               ',\n",
       "       'VR00001M-A          ', 'MB19050-IC          ',\n",
       "       'YFP00001            ', 'SIG010              ',\n",
       "       'SIG012              ', 'SIG011              ',\n",
       "       'SIG010M             ', 'SIG013M             ',\n",
       "       'VR00003M            ', 'VR00003             ',\n",
       "       'EN70110             ', 'SUS001              ',\n",
       "       'SUS002              ', 'SUS011              ',\n",
       "       'SUS010              ', 'MB00063             ',\n",
       "       'MB00064             ', 'MB00063R            '], dtype=object)"
      ]
     },
     "execution_count": 15,
     "metadata": {},
     "output_type": "execute_result"
    }
   ],
   "source": [
    "#Inspect plu column for issues by listing all unique values\n",
    "date_filtered_attendance_df.plu.unique()"
   ]
  },
  {
   "cell_type": "code",
   "execution_count": 16,
   "id": "714b1718-9130-4a00-b745-a26605f665b1",
   "metadata": {},
   "outputs": [
    {
     "data": {
      "text/plain": [
       "array(['Adult Admission', 'Teen Admission', '2 & Under Admission',\n",
       "       \"Tuki's Island Member\", 'Child Admission', 'Child Membership',\n",
       "       'Adult Membership', \"Tuki's Island 2 & Under\",\n",
       "       'Quad Family Membership', 'Family Membership',\n",
       "       'Quad Family Membership Renewal', 'Family Plus Membership',\n",
       "       'Family Membership Promo', 'Military Admission',\n",
       "       'Quad Membership Promo', 'Family Membership 4 Child Renewal',\n",
       "       'Senior Admission', 'Senior Membership', 'Student Admission',\n",
       "       'Adult Membership Renewal', \"Tuki's Island 1 Hr\",\n",
       "       'Quad Family Membership Black Friday', 'All Ages VIP',\n",
       "       'Child Membership Renewal', 'Adult Membership Promo',\n",
       "       'Member Promo GA Admission', 'Child Membership Promo',\n",
       "       'Grandparent Membership Renewal', 'Teen STEM Futures',\n",
       "       'Student Membership', 'Family Plus Membership Renewal',\n",
       "       'Grandparent Plus Promo', 'Family Membership Black Friday',\n",
       "       'Teen Membership Black Friday', 'Adult Membership Black Friday',\n",
       "       'Child Membership Black Friday', 'Student Membership Renewal',\n",
       "       'Grandparent Plus Renewal Promo', 'Family Plus Membership Promo',\n",
       "       'Military Membership Renewal', 'Grandparent Plus Membership',\n",
       "       'Military Membership', 'SLCC Biology Student Pass',\n",
       "       'ADULT SCHOOL (PAID)', 'STUDENT (T1)', 'TEACHER /STAFF',\n",
       "       'CHAPERONE', 'STUDENT (PAID)', 'Teen Membership',\n",
       "       'Family Membership Plus',\n",
       "       'Quad Family Membership Renewal Black Fri',\n",
       "       'Adult Membership Renewal Black Friday',\n",
       "       'Student Membership Black Friday', 'ADULT PROGRAMMING',\n",
       "       'Stringray Feed', 'Senior Membership Renewal', 'Penguin Encounter',\n",
       "       'Grandparent Plus Renewal', 'Timed All Ages VIP',\n",
       "       'Senior Membership Promo', 'Military Membership Promo',\n",
       "       'CHILD SCHOOL (PAID)', 'Party Ticket', 'Additional Party Guest',\n",
       "       'Student Membership Promo',\n",
       "       'Family Membership Renewal Black Friday', 'Grandparent Membership',\n",
       "       'Senior Membership Black Friday',\n",
       "       'Penguin Encounter - Private Member',\n",
       "       'Corporate Group Sales - Teen Admission',\n",
       "       'Corporate Group Sales - Child Admission',\n",
       "       'Family Plus Membership Black Friday',\n",
       "       'Corporate Group Sales - Adult Admission', 'Aquarium Employee',\n",
       "       'Stingray Feed', 'Adult Admission - Late Til 8',\n",
       "       'Student Admission - Late Til 8', 'Teen Admission - Late Til 8',\n",
       "       'Child Admission - Late Til 8', 'Senior Admission - Late Til 8',\n",
       "       'Military Admission - Late Til 8', 'Boy Scout Workshop Admission',\n",
       "       'Boy Scout Workshop - Addtl Chaperone', 'Special Event',\n",
       "       'STUDENT SN (T1)', 'Member Adult Admission',\n",
       "       'Military Membership Black Friday', 'Penguin Encounter - Private',\n",
       "       'Yoga w/Sharks', 'Yoga w/Sharks - Member',\n",
       "       'Grandparent Plus Membership Black Friday',\n",
       "       'CHILD SCHOOL (UNDER 3)', 'STUDENT (SPONSOR)',\n",
       "       'Grandparent Plus Renewal Black Friday',\n",
       "       'Corporate Group Sale Adult Membership',\n",
       "       'Home School - Student Admission',\n",
       "       'Home School - Teacher Admission', 'Group Adult Admission',\n",
       "       'Group Child 3-12', 'Proposal Adult Admission', 'Group Senior',\n",
       "       'Group Teen 13-17 Admission', 'Grandparent Membership Promo',\n",
       "       'Teen Membership Renewal', 'Child Membership Renewal Black Friday',\n",
       "       'Sorenson STUDENT (PAID)', 'Sorenson TEACHER /STAFF',\n",
       "       'Sorenson CHAPERONE', 'Quad Plus Membership',\n",
       "       'Teen Membership Promo', 'Event Network Employee',\n",
       "       'Party Aquarium Admission', 'Quad Plus Membership Renewal',\n",
       "       'Corporate Group Sales - Military Admissi',\n",
       "       'Quad Plus Membership Upgrade',\n",
       "       'Senior Membership Renewal Black Friday',\n",
       "       'Corporate Group Sale Family Membership',\n",
       "       'Grandparent Membership Black Friday', 'Group Student',\n",
       "       'Individual Membership', 'VIP Child Admission (Under 3)',\n",
       "       'Nights Under Lights- Adult GA Admission',\n",
       "       'Nights Under Lights - Child GA Admission',\n",
       "       'Nights Under Lights - Adult Member',\n",
       "       'Nights Under Lights - Child Member',\n",
       "       'Nights Under Lights 2 & Under Admission',\n",
       "       'Grandparent Membership Renewal Promo', 'Party Room 4',\n",
       "       'Party Room 3', 'Circle of Friends Membership', 'Party Room 1',\n",
       "       'Student Membership Renewal Black Friday', 'Party Room 2',\n",
       "       'Special Event Reservation Guest', 'Summer Camp Attendance',\n",
       "       'Summer Camp Admission', 'Movie on the Plaza - Member Admission',\n",
       "       'Movie on the Plaza - Children 2 & Under',\n",
       "       'Movie on the Plaza - General Admission', 'Aquarium Volunteer',\n",
       "       'Additional Party Ticket', 'Additional Field Trip Adult (PAID)',\n",
       "       'Yoga w/Sharks Child', 'Yoga w/Sharks Child Member',\n",
       "       'Nights Under Lights - VIP',\n",
       "       'Additional Field Trip Child (2 & Under)',\n",
       "       'All Ages VIP (Variable Price)', 'Hosted Event Adult Admission',\n",
       "       'Half Day Rental - Gazebo 05', 'ZAP Day Adult',\n",
       "       'Member Senior Admission', 'ZAP Day Child (Ages 3-17)',\n",
       "       'Additional Field Trip Child (PAID)',\n",
       "       'Special Event Reservation Adult',\n",
       "       'Halloween on the High Seas - Child',\n",
       "       'Halloween on the High Seas - Adult',\n",
       "       'Halloween on the High Seas - Discount',\n",
       "       'Halloween on the High Seas - 2 & Under',\n",
       "       'Halloween on the High Seas - VIP',\n",
       "       'Penguins and Pancakes - Adult', 'Penguins and Pancakes - Child',\n",
       "       'EECO Voyager Admission', 'Penguins and Pancakes - Infant',\n",
       "       'EECO Voyager Admission - VIP', 'Aquarium After Dark',\n",
       "       'Field Trip Reservation', 'Quad Membership',\n",
       "       'Quad Membership Renewal', 'Quad Membership Black Friday',\n",
       "       'Quad Membership Renewal Black Fri',\n",
       "       '1 Month Membership Black Friday',\n",
       "       'Quad Plus Membership Black Friday',\n",
       "       'Quad Plus Membership Renewal Black Fri',\n",
       "       'Quad Plus Membership Promo', '1 Month Membership Promo Voucher',\n",
       "       'Grandparent Plus Black Friday',\n",
       "       'EECO Voyager Admission - VIP Voucher',\n",
       "       'Festival of the Seas - Ballet West',\n",
       "       'Corporate  Group Sales - Senior Admissio',\n",
       "       'Icon Culinary Employee', 'Youth & Family Programs Attendance',\n",
       "       'Seas the Day - Adult', 'Seas the Day - Child',\n",
       "       'Seas the Day - Discount', 'Seas the Day - Member',\n",
       "       'Seas the Day - Guest', 'PENGUIN ENCOUNTERS', 'Sips Under the Sea',\n",
       "       'Sips Under the Sea - Group', 'Sips Under the Sea - VIP',\n",
       "       'Sips Under the Sea - Member', 'Premium Plus Membership Renewal',\n",
       "       'Premium Plus Membership', 'Duo Membership', 'Premium Membership',\n",
       "       'Premium Plus Membership Black Friday',\n",
       "       'Premium Membership Renewal', 'Premium Plus Black Friday'],\n",
       "      dtype=object)"
      ]
     },
     "execution_count": 16,
     "metadata": {},
     "output_type": "execute_result"
    }
   ],
   "source": [
    "#Inspect pluname column for issues by listing all unique values\n",
    "date_filtered_attendance_df.pluname.unique()"
   ]
  },
  {
   "cell_type": "code",
   "execution_count": 17,
   "id": "b877e426-a7fb-43ea-8f6b-73262ef982d8",
   "metadata": {},
   "outputs": [
    {
     "data": {
      "text/plain": [
       "array([  108,   450,    11,    21,    20,    10,   150,   100,    24,\n",
       "         415,   310,   311,    23,   210,   200,   502,   501,   106,\n",
       "          30, 91000,   411,   420,   107,   412,   300, 12550,   410,\n",
       "         111,    26,   406,   401,    31,   112,   414, 95110, 20200,\n",
       "         416,   220, 91001,   413,   407], dtype=int64)"
      ]
     },
     "execution_count": 17,
     "metadata": {},
     "output_type": "execute_result"
    }
   ],
   "source": [
    "#Inspect accesscode column for issues by listing all unique values\n",
    "date_filtered_attendance_df.accesscode.unique()"
   ]
  },
  {
   "cell_type": "code",
   "execution_count": 18,
   "id": "ffeb47d1-6243-4f8f-ba6a-450c659f7733",
   "metadata": {},
   "outputs": [
    {
     "data": {
      "text/plain": [
       "array(['1 GA', '9 Fun Center', '3 Members', '4 Comp', '9 Camp', '2 Group',\n",
       "       '5 School', '8 EN', 'CHARITABLE', '6 Event', '7 Fac Rental',\n",
       "       'FAM MEM', 'PARTY', '10 Camp', 'MARKETING', 'VR', 'PROMOTION'],\n",
       "      dtype=object)"
      ]
     },
     "execution_count": 18,
     "metadata": {},
     "output_type": "execute_result"
    }
   ],
   "source": [
    "#Inspect accesscodegroup column for issues by listing all unique values\n",
    "date_filtered_attendance_df.accesscodegroup.unique()"
   ]
  },
  {
   "cell_type": "code",
   "execution_count": 19,
   "id": "b39ea34a-1c53-43b5-9e4b-5453887e28c9",
   "metadata": {},
   "outputs": [
    {
     "data": {
      "text/plain": [
       "array(['Timed Ticketing GA            ', \"Tuki's Island                 \",\n",
       "       'Membership Readmit            ', 'Family Membership Readmit     ',\n",
       "       'Family Membership             ', 'Membership                    ',\n",
       "       'Comp                          ', 'Aquarium Admission            ',\n",
       "       'Grandparent Membership Readmit', 'Youth/Family Program          ',\n",
       "       'Adult                         ', 'Student                       ',\n",
       "       'Grandparent Membership        ', 'Stingray Feed                 ',\n",
       "       'Penguin Encounter             ', 'Party Admission               ',\n",
       "       'Employee Membership           ', 'CHARITABLE VOUCHER            ',\n",
       "       'Printed Hosted Event          ', 'Facility Rental               ',\n",
       "       'Member Ticketed Admission     ', 'Aquarium Hosted Event         ',\n",
       "       'Group                         ', 'MEMBERSHIP - FAMILY WEB       ',\n",
       "       'Hosted Event                  ', 'Party Room                    ',\n",
       "       'Circle of Friends Membership  ', 'Summer Camp Attendance        ',\n",
       "       'Summer Camp                   ', 'Volunteer Membership          ',\n",
       "       'Gazebo Rental                 ', 'Halloween on the High Seas    ',\n",
       "       'MARKETING VOUCHER ADULT       ', 'VIRTUAL REALITY               ',\n",
       "       'Youth & Family Programs       ', 'Field Trip Booking            ',\n",
       "       'PROMOTIONAL VOUCHER           ', 'Festival of the Seas          ',\n",
       "       'Youth Programs Attendance     '], dtype=object)"
      ]
     },
     "execution_count": 19,
     "metadata": {},
     "output_type": "execute_result"
    }
   ],
   "source": [
    "#Inspect accesscodename column for issues by listing all unique values\n",
    "date_filtered_attendance_df.accesscodename.unique()"
   ]
  },
  {
   "cell_type": "code",
   "execution_count": 20,
   "id": "8c707c4e-0909-45a5-b4f6-8c1e57da2dc9",
   "metadata": {},
   "outputs": [
    {
     "data": {
      "text/plain": [
       "9849"
      ]
     },
     "execution_count": 20,
     "metadata": {},
     "output_type": "execute_result"
    }
   ],
   "source": [
    "#Check the number of unique zipcode values\n",
    "date_filtered_attendance_df.zipcode.nunique()"
   ]
  },
  {
   "cell_type": "code",
   "execution_count": 21,
   "id": "74647d11-aa68-44bd-a839-7e6b87ba1f68",
   "metadata": {},
   "outputs": [
    {
     "data": {
      "text/plain": [
       "5054"
      ]
     },
     "execution_count": 21,
     "metadata": {},
     "output_type": "execute_result"
    }
   ],
   "source": [
    "#Check the number of unique city values\n",
    "date_filtered_attendance_df.city.nunique()"
   ]
  },
  {
   "cell_type": "code",
   "execution_count": 22,
   "id": "0c36dd74-add7-4375-8d1c-835bef4a276c",
   "metadata": {},
   "outputs": [
    {
     "data": {
      "text/plain": [
       "array(['Salt Lake', 'Davis', 'Utah', 'Uintah', 'Weber', 'unknown',\n",
       "       'Cache', 'Summit', 'Juab', 'Morgan', 'Tooele', 'Beaver', 'Grand',\n",
       "       'Wasatch', 'Box Elder', 'Iron', 'Washington', 'Daggett',\n",
       "       'Duchesne', 'Sanpete', 'Sevier', 'Kane', 'Millard', 'Garfield',\n",
       "       'Rich', 'Emery', 'Carbon', 'Wayne', 'Piute', 'San Juan'],\n",
       "      dtype=object)"
      ]
     },
     "execution_count": 22,
     "metadata": {},
     "output_type": "execute_result"
    }
   ],
   "source": [
    "#Inspect county column for issues by listing all unique values\n",
    "date_filtered_attendance_df.county.unique()"
   ]
  },
  {
   "cell_type": "code",
   "execution_count": 23,
   "id": "209e7cd8-02d3-43d1-aca1-d9612414157b",
   "metadata": {},
   "outputs": [
    {
     "data": {
      "text/plain": [
       "array(['UT', 'ID', 'unknown', 'CA', 'WY', 'AZ', 'MO', 'IN', 'WA', 'TX',\n",
       "       'CO', 'NY', 'NM', 'FL', 'AR', 'SC', 'ME', 'RI', 'PA', 'MI', 'MT',\n",
       "       'VA', 'MA', 'IL', 'MD', 'IA', 'NV', 'VT', 'NH', 'MN', 'OK', 'HI',\n",
       "       'NJ', 'OH', 'WI', 'KY', 'AK', 'CT', 'GA', 'ND', 'OR', 'NE', 'TN',\n",
       "       'NC', 'LA', 'DE', 'AE', 'PR', 'SD', 'KS', 'MS', 'AL', 'AP', 'DC',\n",
       "       'WV', 'AA', 'VI', 'MP', 'GU'], dtype=object)"
      ]
     },
     "execution_count": 23,
     "metadata": {},
     "output_type": "execute_result"
    }
   ],
   "source": [
    "#Inspect stateloc column for issues by listing all unique values\n",
    "date_filtered_attendance_df.stateloc.unique()"
   ]
  },
  {
   "cell_type": "code",
   "execution_count": 24,
   "id": "03c2a2cc-30f8-419c-ac40-4feeab7edda1",
   "metadata": {},
   "outputs": [
    {
     "data": {
      "text/plain": [
       "array(['Salt Lake City, Taylorsville', 'Bountiful', 'Salt Lake City',\n",
       "       'Provo', 'West Jordan', 'Vernal', 'Riverton', 'Kaysville',\n",
       "       'American Fork', 'Sandy', 'Midvale', 'Lehi', 'Ogden', 'Clearfield',\n",
       "       'Herriman', 'Saratoga Springs', 'Outside Utah', 'Wellsville',\n",
       "       'South Jordan', 'unknown', 'Draper', 'Orem', 'Park City', 'Nephi',\n",
       "       'Morgan', 'Pleasant Grove', 'West Jordan, West Valley City',\n",
       "       'Tooele', 'Eagle Mountain', 'Milford', 'Logan', 'Moab', 'Alpine',\n",
       "       'Heber City', 'Mantua', 'Syracuse', 'Magna', 'Layton',\n",
       "       'Cedar City', 'Roy', 'Springville', 'Hurricane', 'Santaquin',\n",
       "       'Manila', 'Payson', 'Lindon', 'North Salt Lake', 'Hill Afb',\n",
       "       'Duchesne', 'Altonah', 'Spanish Fork', 'Event, School, etc.',\n",
       "       'Stockton', 'Salem', 'Altamont', 'Woods Cross', 'Tremonton',\n",
       "       'Saint George', 'Talmage', 'Ephraim', 'Midway', 'Centerville',\n",
       "       'Richfield', 'Rush Valley', 'Glendale', 'Delta', 'Santa Clara',\n",
       "       'Ivins', 'Bryce', 'Roosevelt', 'Randolph', 'Brigham City',\n",
       "       'Smithfield', 'Paradise', 'Willard', 'Riverside', 'Kamas',\n",
       "       'Bear River City', 'Farmington', 'Grantsville', 'Hooper',\n",
       "       'Mapleton', 'Garland', 'Bluebell', 'Coalville', 'Hyde Park',\n",
       "       'Garden City', 'Annabella', 'Neola', 'Meadow', 'Jensen', 'Newton',\n",
       "       'Tabiona', 'Providence', 'Manti', 'Mount Pleasant', 'Levan',\n",
       "       'Kanab', 'Mona', 'Fielding', 'Fort Duchesne', 'Hyrum', 'Ferron',\n",
       "       'Price', 'Eden', 'Cedar Valley', 'Oakley', 'Gunlock', 'Helper',\n",
       "       'Centerfield', 'Deweyville', 'Gunnison', 'Myton', 'Fruitland',\n",
       "       'Croydon', 'Bingham Canyon', 'Peoa', 'Dutch John', 'Washington',\n",
       "       'Tridell', 'Huntsville', 'Echo', 'Henefer', 'Fairview', 'Wales',\n",
       "       'Monroe', 'Hinckley', 'Lyman', 'Fillmore', 'Clarkston', 'Lapoint',\n",
       "       'Mountain Home', 'Junction', 'Monticello', 'Huntington', 'Mendon',\n",
       "       'Bicknell', 'Lewiston', 'Millville', 'Beaver', 'Park Valley',\n",
       "       'Wendover', 'Woodruff', 'Green River', 'Glenwood', 'Leeds',\n",
       "       'Dugway', 'Whiterocks', 'East Carbon', 'Laketown', 'Enterprise',\n",
       "       'Honeyville', 'Collinston', 'Spring City', 'Elsinore', 'Emery',\n",
       "       'Redmond', 'Cache Junction', 'Vernon', 'Goshen', 'Richmond',\n",
       "       'Orangeville', 'Moroni', 'Elmo', 'Elberta', 'Koosharem', 'Lynndyl',\n",
       "       'Blanding', 'Chester', 'Hanna', 'Mayfield', 'Boulder', 'Cornish',\n",
       "       'Wallsburg', 'Orderville', 'New Harmony', 'Loa', 'Hanksville',\n",
       "       'Randlett', 'Mexican Hat', 'Fountain Green', 'Leamington',\n",
       "       'Aurora', 'Sterling', 'Thompson', 'Central', 'Salina', 'Torrey',\n",
       "       'Aneth', 'La Verkin', 'Castle Dale', 'Paragonah', 'Newcastle',\n",
       "       'Marysvale', 'Montezuma Creek', 'Dammeron Valley', 'Springdale',\n",
       "       'Portage', 'Parowan', 'Lake Powell', 'Monument Valley',\n",
       "       'Toquerville', 'Sunnyside', 'Eureka', 'Trenton', 'Wellington',\n",
       "       'Hildale', 'Howell', 'Bonanza', 'Circleville', 'Oak City', 'Veyo',\n",
       "       'Corinne', 'Ibapah', 'Minersville', 'Cleveland', 'Kingston',\n",
       "       'Snowville', 'Duck Creek Village', 'Summit', 'Scipio', 'Panguitch',\n",
       "       'Sigurd', 'Holden', 'Clawson', 'Sevier', 'Joseph', 'Axtell',\n",
       "       'Kenilworth', 'Kanosh', 'Fayette', 'Escalante', 'Bluff',\n",
       "       'Teasdale', 'Plymouth', 'Grouse Creek', 'La Sal', 'Cisco',\n",
       "       'Cannonville', 'Garrison', 'Alton', 'Henrieville', 'Kanarraville',\n",
       "       'Greenville', 'Antimony', 'Beryl', 'Virgin', 'Tropic',\n",
       "       'Brian Head', 'Mount Carmel', 'Rockville', 'Pine Valley', 'Hatch'],\n",
       "      dtype=object)"
      ]
     },
     "execution_count": 24,
     "metadata": {},
     "output_type": "execute_result"
    }
   ],
   "source": [
    "#Inspect subgroup column for issues by listing all unique values\n",
    "date_filtered_attendance_df.subgroup.unique()"
   ]
  },
  {
   "cell_type": "code",
   "execution_count": 25,
   "id": "3ddb0453-870d-4a41-ae47-0aeeb5fd8297",
   "metadata": {},
   "outputs": [
    {
     "data": {
      "text/plain": [
       "array(['Salt Lake County', 'Davis', 'Utah County', 'Other Utah Counties',\n",
       "       'Out of State', 'unknown'], dtype=object)"
      ]
     },
     "execution_count": 25,
     "metadata": {},
     "output_type": "execute_result"
    }
   ],
   "source": [
    "#Inspect maingroup column for issues by listing all unique values\n",
    "date_filtered_attendance_df.maingroup.unique()"
   ]
  },
  {
   "cell_type": "code",
   "execution_count": 26,
   "id": "684625ec-6ec6-4bf4-af5b-182c2450251f",
   "metadata": {},
   "outputs": [
    {
     "data": {
      "text/html": [
       "<div>\n",
       "<style scoped>\n",
       "    .dataframe tbody tr th:only-of-type {\n",
       "        vertical-align: middle;\n",
       "    }\n",
       "\n",
       "    .dataframe tbody tr th {\n",
       "        vertical-align: top;\n",
       "    }\n",
       "\n",
       "    .dataframe thead th {\n",
       "        text-align: right;\n",
       "    }\n",
       "</style>\n",
       "<table border=\"1\" class=\"dataframe\">\n",
       "  <thead>\n",
       "    <tr style=\"text-align: right;\">\n",
       "      <th></th>\n",
       "      <th>admits</th>\n",
       "      <th>usedate</th>\n",
       "      <th>plu</th>\n",
       "      <th>pluname</th>\n",
       "      <th>accesscode</th>\n",
       "      <th>accesscodegroup</th>\n",
       "      <th>accesscodename</th>\n",
       "      <th>usageid</th>\n",
       "      <th>saledatetime</th>\n",
       "      <th>salenode</th>\n",
       "      <th>zipcode</th>\n",
       "      <th>city</th>\n",
       "      <th>county</th>\n",
       "      <th>stateloc</th>\n",
       "      <th>subgroup</th>\n",
       "      <th>maingroup</th>\n",
       "      <th>year</th>\n",
       "      <th>month</th>\n",
       "      <th>day</th>\n",
       "    </tr>\n",
       "  </thead>\n",
       "  <tbody>\n",
       "    <tr>\n",
       "      <th>0</th>\n",
       "      <td>1</td>\n",
       "      <td>2022-02-22</td>\n",
       "      <td>GA01010TDP</td>\n",
       "      <td>Adult Admission</td>\n",
       "      <td>108</td>\n",
       "      <td>1 GA</td>\n",
       "      <td>Timed Ticketing GA</td>\n",
       "      <td>10000000</td>\n",
       "      <td>2022-02-22 13:46:00</td>\n",
       "      <td>406</td>\n",
       "      <td>84129</td>\n",
       "      <td>SALT LAKE CITY</td>\n",
       "      <td>Salt Lake</td>\n",
       "      <td>UT</td>\n",
       "      <td>Salt Lake City, Taylorsville</td>\n",
       "      <td>Salt Lake County</td>\n",
       "      <td>2022</td>\n",
       "      <td>2</td>\n",
       "      <td>22</td>\n",
       "    </tr>\n",
       "    <tr>\n",
       "      <th>1</th>\n",
       "      <td>1</td>\n",
       "      <td>2022-02-22</td>\n",
       "      <td>GA01055TDP</td>\n",
       "      <td>Teen Admission</td>\n",
       "      <td>108</td>\n",
       "      <td>1 GA</td>\n",
       "      <td>Timed Ticketing GA</td>\n",
       "      <td>10000002</td>\n",
       "      <td>2022-02-22 13:46:00</td>\n",
       "      <td>406</td>\n",
       "      <td>84129</td>\n",
       "      <td>SALT LAKE CITY</td>\n",
       "      <td>Salt Lake</td>\n",
       "      <td>UT</td>\n",
       "      <td>Salt Lake City, Taylorsville</td>\n",
       "      <td>Salt Lake County</td>\n",
       "      <td>2022</td>\n",
       "      <td>2</td>\n",
       "      <td>22</td>\n",
       "    </tr>\n",
       "    <tr>\n",
       "      <th>2</th>\n",
       "      <td>1</td>\n",
       "      <td>2022-02-22</td>\n",
       "      <td>GA01060T</td>\n",
       "      <td>2 &amp; Under Admission</td>\n",
       "      <td>108</td>\n",
       "      <td>1 GA</td>\n",
       "      <td>Timed Ticketing GA</td>\n",
       "      <td>10000003</td>\n",
       "      <td>2022-02-22 13:46:00</td>\n",
       "      <td>406</td>\n",
       "      <td>84129</td>\n",
       "      <td>SALT LAKE CITY</td>\n",
       "      <td>Salt Lake</td>\n",
       "      <td>UT</td>\n",
       "      <td>Salt Lake City, Taylorsville</td>\n",
       "      <td>Salt Lake County</td>\n",
       "      <td>2022</td>\n",
       "      <td>2</td>\n",
       "      <td>22</td>\n",
       "    </tr>\n",
       "    <tr>\n",
       "      <th>3</th>\n",
       "      <td>1</td>\n",
       "      <td>2022-02-22</td>\n",
       "      <td>GA01060T</td>\n",
       "      <td>2 &amp; Under Admission</td>\n",
       "      <td>108</td>\n",
       "      <td>1 GA</td>\n",
       "      <td>Timed Ticketing GA</td>\n",
       "      <td>10000007</td>\n",
       "      <td>2022-02-22 14:04:00</td>\n",
       "      <td>11</td>\n",
       "      <td>84125</td>\n",
       "      <td>SALT LAKE CITY</td>\n",
       "      <td>Salt Lake</td>\n",
       "      <td>UT</td>\n",
       "      <td>Salt Lake City</td>\n",
       "      <td>Salt Lake County</td>\n",
       "      <td>2022</td>\n",
       "      <td>2</td>\n",
       "      <td>22</td>\n",
       "    </tr>\n",
       "    <tr>\n",
       "      <th>4</th>\n",
       "      <td>1</td>\n",
       "      <td>2022-02-22</td>\n",
       "      <td>GA01010TDP</td>\n",
       "      <td>Adult Admission</td>\n",
       "      <td>108</td>\n",
       "      <td>1 GA</td>\n",
       "      <td>Timed Ticketing GA</td>\n",
       "      <td>10000008</td>\n",
       "      <td>2022-02-22 14:04:00</td>\n",
       "      <td>11</td>\n",
       "      <td>84125</td>\n",
       "      <td>SALT LAKE CITY</td>\n",
       "      <td>Salt Lake</td>\n",
       "      <td>UT</td>\n",
       "      <td>Salt Lake City</td>\n",
       "      <td>Salt Lake County</td>\n",
       "      <td>2022</td>\n",
       "      <td>2</td>\n",
       "      <td>22</td>\n",
       "    </tr>\n",
       "    <tr>\n",
       "      <th>...</th>\n",
       "      <td>...</td>\n",
       "      <td>...</td>\n",
       "      <td>...</td>\n",
       "      <td>...</td>\n",
       "      <td>...</td>\n",
       "      <td>...</td>\n",
       "      <td>...</td>\n",
       "      <td>...</td>\n",
       "      <td>...</td>\n",
       "      <td>...</td>\n",
       "      <td>...</td>\n",
       "      <td>...</td>\n",
       "      <td>...</td>\n",
       "      <td>...</td>\n",
       "      <td>...</td>\n",
       "      <td>...</td>\n",
       "      <td>...</td>\n",
       "      <td>...</td>\n",
       "      <td>...</td>\n",
       "    </tr>\n",
       "    <tr>\n",
       "      <th>681524</th>\n",
       "      <td>1</td>\n",
       "      <td>2023-03-25</td>\n",
       "      <td>GA01050TDP</td>\n",
       "      <td>Child Admission</td>\n",
       "      <td>108</td>\n",
       "      <td>1 GA</td>\n",
       "      <td>Timed Ticketing GA</td>\n",
       "      <td>11295071</td>\n",
       "      <td>2023-03-25 15:46:00</td>\n",
       "      <td>16</td>\n",
       "      <td>84654</td>\n",
       "      <td>SALINA</td>\n",
       "      <td>Sevier</td>\n",
       "      <td>UT</td>\n",
       "      <td>Salina</td>\n",
       "      <td>Other Utah Counties</td>\n",
       "      <td>2023</td>\n",
       "      <td>3</td>\n",
       "      <td>25</td>\n",
       "    </tr>\n",
       "    <tr>\n",
       "      <th>681525</th>\n",
       "      <td>1</td>\n",
       "      <td>2023-03-25</td>\n",
       "      <td>GA01050TDP</td>\n",
       "      <td>Child Admission</td>\n",
       "      <td>108</td>\n",
       "      <td>1 GA</td>\n",
       "      <td>Timed Ticketing GA</td>\n",
       "      <td>11295072</td>\n",
       "      <td>2023-03-25 15:46:00</td>\n",
       "      <td>16</td>\n",
       "      <td>84654</td>\n",
       "      <td>SALINA</td>\n",
       "      <td>Sevier</td>\n",
       "      <td>UT</td>\n",
       "      <td>Salina</td>\n",
       "      <td>Other Utah Counties</td>\n",
       "      <td>2023</td>\n",
       "      <td>3</td>\n",
       "      <td>25</td>\n",
       "    </tr>\n",
       "    <tr>\n",
       "      <th>681526</th>\n",
       "      <td>1</td>\n",
       "      <td>2023-03-25</td>\n",
       "      <td>GA01020TDP</td>\n",
       "      <td>Senior Admission</td>\n",
       "      <td>108</td>\n",
       "      <td>1 GA</td>\n",
       "      <td>Timed Ticketing GA</td>\n",
       "      <td>11295076</td>\n",
       "      <td>2023-03-25 15:47:00</td>\n",
       "      <td>16</td>\n",
       "      <td>84047</td>\n",
       "      <td>MIDVALE</td>\n",
       "      <td>Salt Lake</td>\n",
       "      <td>UT</td>\n",
       "      <td>Midvale</td>\n",
       "      <td>Salt Lake County</td>\n",
       "      <td>2023</td>\n",
       "      <td>3</td>\n",
       "      <td>25</td>\n",
       "    </tr>\n",
       "    <tr>\n",
       "      <th>681527</th>\n",
       "      <td>1</td>\n",
       "      <td>2023-03-25</td>\n",
       "      <td>GA01010TDP</td>\n",
       "      <td>Adult Admission</td>\n",
       "      <td>108</td>\n",
       "      <td>1 GA</td>\n",
       "      <td>Timed Ticketing GA</td>\n",
       "      <td>11295077</td>\n",
       "      <td>2023-03-25 15:47:00</td>\n",
       "      <td>16</td>\n",
       "      <td>84047</td>\n",
       "      <td>MIDVALE</td>\n",
       "      <td>Salt Lake</td>\n",
       "      <td>UT</td>\n",
       "      <td>Midvale</td>\n",
       "      <td>Salt Lake County</td>\n",
       "      <td>2023</td>\n",
       "      <td>3</td>\n",
       "      <td>25</td>\n",
       "    </tr>\n",
       "    <tr>\n",
       "      <th>681528</th>\n",
       "      <td>1</td>\n",
       "      <td>2023-03-25</td>\n",
       "      <td>GA01010TDP</td>\n",
       "      <td>Adult Admission</td>\n",
       "      <td>108</td>\n",
       "      <td>1 GA</td>\n",
       "      <td>Timed Ticketing GA</td>\n",
       "      <td>11295078</td>\n",
       "      <td>2023-03-25 15:47:00</td>\n",
       "      <td>16</td>\n",
       "      <td>84047</td>\n",
       "      <td>MIDVALE</td>\n",
       "      <td>Salt Lake</td>\n",
       "      <td>UT</td>\n",
       "      <td>Midvale</td>\n",
       "      <td>Salt Lake County</td>\n",
       "      <td>2023</td>\n",
       "      <td>3</td>\n",
       "      <td>25</td>\n",
       "    </tr>\n",
       "  </tbody>\n",
       "</table>\n",
       "<p>681529 rows × 19 columns</p>\n",
       "</div>"
      ],
      "text/plain": [
       "        admits    usedate                   plu              pluname   \n",
       "0            1 2022-02-22  GA01010TDP                Adult Admission  \\\n",
       "1            1 2022-02-22  GA01055TDP                 Teen Admission   \n",
       "2            1 2022-02-22  GA01060T              2 & Under Admission   \n",
       "3            1 2022-02-22  GA01060T              2 & Under Admission   \n",
       "4            1 2022-02-22  GA01010TDP                Adult Admission   \n",
       "...        ...        ...                   ...                  ...   \n",
       "681524       1 2023-03-25  GA01050TDP                Child Admission   \n",
       "681525       1 2023-03-25  GA01050TDP                Child Admission   \n",
       "681526       1 2023-03-25  GA01020TDP               Senior Admission   \n",
       "681527       1 2023-03-25  GA01010TDP                Adult Admission   \n",
       "681528       1 2023-03-25  GA01010TDP                Adult Admission   \n",
       "\n",
       "        accesscode accesscodegroup                  accesscodename   usageid   \n",
       "0              108            1 GA  Timed Ticketing GA              10000000  \\\n",
       "1              108            1 GA  Timed Ticketing GA              10000002   \n",
       "2              108            1 GA  Timed Ticketing GA              10000003   \n",
       "3              108            1 GA  Timed Ticketing GA              10000007   \n",
       "4              108            1 GA  Timed Ticketing GA              10000008   \n",
       "...            ...             ...                             ...       ...   \n",
       "681524         108            1 GA  Timed Ticketing GA              11295071   \n",
       "681525         108            1 GA  Timed Ticketing GA              11295072   \n",
       "681526         108            1 GA  Timed Ticketing GA              11295076   \n",
       "681527         108            1 GA  Timed Ticketing GA              11295077   \n",
       "681528         108            1 GA  Timed Ticketing GA              11295078   \n",
       "\n",
       "              saledatetime  salenode  zipcode            city     county   \n",
       "0      2022-02-22 13:46:00       406    84129  SALT LAKE CITY  Salt Lake  \\\n",
       "1      2022-02-22 13:46:00       406    84129  SALT LAKE CITY  Salt Lake   \n",
       "2      2022-02-22 13:46:00       406    84129  SALT LAKE CITY  Salt Lake   \n",
       "3      2022-02-22 14:04:00        11    84125  SALT LAKE CITY  Salt Lake   \n",
       "4      2022-02-22 14:04:00        11    84125  SALT LAKE CITY  Salt Lake   \n",
       "...                    ...       ...      ...             ...        ...   \n",
       "681524 2023-03-25 15:46:00        16    84654          SALINA     Sevier   \n",
       "681525 2023-03-25 15:46:00        16    84654          SALINA     Sevier   \n",
       "681526 2023-03-25 15:47:00        16    84047         MIDVALE  Salt Lake   \n",
       "681527 2023-03-25 15:47:00        16    84047         MIDVALE  Salt Lake   \n",
       "681528 2023-03-25 15:47:00        16    84047         MIDVALE  Salt Lake   \n",
       "\n",
       "       stateloc                      subgroup            maingroup  year   \n",
       "0            UT  Salt Lake City, Taylorsville     Salt Lake County  2022  \\\n",
       "1            UT  Salt Lake City, Taylorsville     Salt Lake County  2022   \n",
       "2            UT  Salt Lake City, Taylorsville     Salt Lake County  2022   \n",
       "3            UT                Salt Lake City     Salt Lake County  2022   \n",
       "4            UT                Salt Lake City     Salt Lake County  2022   \n",
       "...         ...                           ...                  ...   ...   \n",
       "681524       UT                        Salina  Other Utah Counties  2023   \n",
       "681525       UT                        Salina  Other Utah Counties  2023   \n",
       "681526       UT                       Midvale     Salt Lake County  2023   \n",
       "681527       UT                       Midvale     Salt Lake County  2023   \n",
       "681528       UT                       Midvale     Salt Lake County  2023   \n",
       "\n",
       "        month  day  \n",
       "0           2   22  \n",
       "1           2   22  \n",
       "2           2   22  \n",
       "3           2   22  \n",
       "4           2   22  \n",
       "...       ...  ...  \n",
       "681524      3   25  \n",
       "681525      3   25  \n",
       "681526      3   25  \n",
       "681527      3   25  \n",
       "681528      3   25  \n",
       "\n",
       "[681529 rows x 19 columns]"
      ]
     },
     "execution_count": 26,
     "metadata": {},
     "output_type": "execute_result"
    }
   ],
   "source": [
    "#Filter dataframe to include only general admission ('1 GA') and membership ticketing ('3 Members', 'FAM MEM'), excluding all other transactions.\n",
    "membership_ga_filtered_attendance_df = date_filtered_attendance_df[date_filtered_attendance_df['accesscodegroup'].isin(['1 GA', '3 Members', 'FAM MEM'])]\n",
    "membership_ga_filtered_attendance_df.reset_index(drop=True, inplace=True)\n",
    "membership_ga_filtered_attendance_df"
   ]
  },
  {
   "cell_type": "code",
   "execution_count": 27,
   "id": "2b729514-c524-42bf-bd53-d4bb77c8b96a",
   "metadata": {},
   "outputs": [
    {
     "data": {
      "text/plain": [
       "681529"
      ]
     },
     "execution_count": 27,
     "metadata": {},
     "output_type": "execute_result"
    }
   ],
   "source": [
    "membership_ga_row_count = len(membership_ga_filtered_attendance_df)\n",
    "membership_ga_row_count"
   ]
  },
  {
   "cell_type": "code",
   "execution_count": 28,
   "id": "181392e9-a3e5-474a-ad7d-6c725f7553ba",
   "metadata": {},
   "outputs": [
    {
     "name": "stderr",
     "output_type": "stream",
     "text": [
      "C:\\Users\\camih\\AppData\\Local\\Temp\\ipykernel_33648\\249562459.py:1: SettingWithCopyWarning: \n",
      "A value is trying to be set on a copy of a slice from a DataFrame.\n",
      "Try using .loc[row_indexer,col_indexer] = value instead\n",
      "\n",
      "See the caveats in the documentation: https://pandas.pydata.org/pandas-docs/stable/user_guide/indexing.html#returning-a-view-versus-a-copy\n",
      "  membership_ga_filtered_attendance_df['member'] = np.where(membership_ga_filtered_attendance_df['accesscodegroup'] == '1 GA', 0, 1)\n"
     ]
    },
    {
     "data": {
      "text/html": [
       "<div>\n",
       "<style scoped>\n",
       "    .dataframe tbody tr th:only-of-type {\n",
       "        vertical-align: middle;\n",
       "    }\n",
       "\n",
       "    .dataframe tbody tr th {\n",
       "        vertical-align: top;\n",
       "    }\n",
       "\n",
       "    .dataframe thead th {\n",
       "        text-align: right;\n",
       "    }\n",
       "</style>\n",
       "<table border=\"1\" class=\"dataframe\">\n",
       "  <thead>\n",
       "    <tr style=\"text-align: right;\">\n",
       "      <th></th>\n",
       "      <th>admits</th>\n",
       "      <th>usedate</th>\n",
       "      <th>plu</th>\n",
       "      <th>pluname</th>\n",
       "      <th>accesscode</th>\n",
       "      <th>accesscodegroup</th>\n",
       "      <th>accesscodename</th>\n",
       "      <th>usageid</th>\n",
       "      <th>saledatetime</th>\n",
       "      <th>salenode</th>\n",
       "      <th>zipcode</th>\n",
       "      <th>city</th>\n",
       "      <th>county</th>\n",
       "      <th>stateloc</th>\n",
       "      <th>subgroup</th>\n",
       "      <th>maingroup</th>\n",
       "      <th>year</th>\n",
       "      <th>month</th>\n",
       "      <th>day</th>\n",
       "      <th>member</th>\n",
       "    </tr>\n",
       "  </thead>\n",
       "  <tbody>\n",
       "    <tr>\n",
       "      <th>0</th>\n",
       "      <td>1</td>\n",
       "      <td>2022-02-22</td>\n",
       "      <td>GA01010TDP</td>\n",
       "      <td>Adult Admission</td>\n",
       "      <td>108</td>\n",
       "      <td>1 GA</td>\n",
       "      <td>Timed Ticketing GA</td>\n",
       "      <td>10000000</td>\n",
       "      <td>2022-02-22 13:46:00</td>\n",
       "      <td>406</td>\n",
       "      <td>84129</td>\n",
       "      <td>SALT LAKE CITY</td>\n",
       "      <td>Salt Lake</td>\n",
       "      <td>UT</td>\n",
       "      <td>Salt Lake City, Taylorsville</td>\n",
       "      <td>Salt Lake County</td>\n",
       "      <td>2022</td>\n",
       "      <td>2</td>\n",
       "      <td>22</td>\n",
       "      <td>0</td>\n",
       "    </tr>\n",
       "    <tr>\n",
       "      <th>1</th>\n",
       "      <td>1</td>\n",
       "      <td>2022-02-22</td>\n",
       "      <td>GA01055TDP</td>\n",
       "      <td>Teen Admission</td>\n",
       "      <td>108</td>\n",
       "      <td>1 GA</td>\n",
       "      <td>Timed Ticketing GA</td>\n",
       "      <td>10000002</td>\n",
       "      <td>2022-02-22 13:46:00</td>\n",
       "      <td>406</td>\n",
       "      <td>84129</td>\n",
       "      <td>SALT LAKE CITY</td>\n",
       "      <td>Salt Lake</td>\n",
       "      <td>UT</td>\n",
       "      <td>Salt Lake City, Taylorsville</td>\n",
       "      <td>Salt Lake County</td>\n",
       "      <td>2022</td>\n",
       "      <td>2</td>\n",
       "      <td>22</td>\n",
       "      <td>0</td>\n",
       "    </tr>\n",
       "    <tr>\n",
       "      <th>2</th>\n",
       "      <td>1</td>\n",
       "      <td>2022-02-22</td>\n",
       "      <td>GA01060T</td>\n",
       "      <td>2 &amp; Under Admission</td>\n",
       "      <td>108</td>\n",
       "      <td>1 GA</td>\n",
       "      <td>Timed Ticketing GA</td>\n",
       "      <td>10000003</td>\n",
       "      <td>2022-02-22 13:46:00</td>\n",
       "      <td>406</td>\n",
       "      <td>84129</td>\n",
       "      <td>SALT LAKE CITY</td>\n",
       "      <td>Salt Lake</td>\n",
       "      <td>UT</td>\n",
       "      <td>Salt Lake City, Taylorsville</td>\n",
       "      <td>Salt Lake County</td>\n",
       "      <td>2022</td>\n",
       "      <td>2</td>\n",
       "      <td>22</td>\n",
       "      <td>0</td>\n",
       "    </tr>\n",
       "    <tr>\n",
       "      <th>3</th>\n",
       "      <td>1</td>\n",
       "      <td>2022-02-22</td>\n",
       "      <td>GA01060T</td>\n",
       "      <td>2 &amp; Under Admission</td>\n",
       "      <td>108</td>\n",
       "      <td>1 GA</td>\n",
       "      <td>Timed Ticketing GA</td>\n",
       "      <td>10000007</td>\n",
       "      <td>2022-02-22 14:04:00</td>\n",
       "      <td>11</td>\n",
       "      <td>84125</td>\n",
       "      <td>SALT LAKE CITY</td>\n",
       "      <td>Salt Lake</td>\n",
       "      <td>UT</td>\n",
       "      <td>Salt Lake City</td>\n",
       "      <td>Salt Lake County</td>\n",
       "      <td>2022</td>\n",
       "      <td>2</td>\n",
       "      <td>22</td>\n",
       "      <td>0</td>\n",
       "    </tr>\n",
       "    <tr>\n",
       "      <th>4</th>\n",
       "      <td>1</td>\n",
       "      <td>2022-02-22</td>\n",
       "      <td>GA01010TDP</td>\n",
       "      <td>Adult Admission</td>\n",
       "      <td>108</td>\n",
       "      <td>1 GA</td>\n",
       "      <td>Timed Ticketing GA</td>\n",
       "      <td>10000008</td>\n",
       "      <td>2022-02-22 14:04:00</td>\n",
       "      <td>11</td>\n",
       "      <td>84125</td>\n",
       "      <td>SALT LAKE CITY</td>\n",
       "      <td>Salt Lake</td>\n",
       "      <td>UT</td>\n",
       "      <td>Salt Lake City</td>\n",
       "      <td>Salt Lake County</td>\n",
       "      <td>2022</td>\n",
       "      <td>2</td>\n",
       "      <td>22</td>\n",
       "      <td>0</td>\n",
       "    </tr>\n",
       "    <tr>\n",
       "      <th>...</th>\n",
       "      <td>...</td>\n",
       "      <td>...</td>\n",
       "      <td>...</td>\n",
       "      <td>...</td>\n",
       "      <td>...</td>\n",
       "      <td>...</td>\n",
       "      <td>...</td>\n",
       "      <td>...</td>\n",
       "      <td>...</td>\n",
       "      <td>...</td>\n",
       "      <td>...</td>\n",
       "      <td>...</td>\n",
       "      <td>...</td>\n",
       "      <td>...</td>\n",
       "      <td>...</td>\n",
       "      <td>...</td>\n",
       "      <td>...</td>\n",
       "      <td>...</td>\n",
       "      <td>...</td>\n",
       "      <td>...</td>\n",
       "    </tr>\n",
       "    <tr>\n",
       "      <th>95</th>\n",
       "      <td>1</td>\n",
       "      <td>2022-02-22</td>\n",
       "      <td>GA01010TDP</td>\n",
       "      <td>Adult Admission</td>\n",
       "      <td>108</td>\n",
       "      <td>1 GA</td>\n",
       "      <td>Timed Ticketing GA</td>\n",
       "      <td>10000199</td>\n",
       "      <td>2022-02-22 14:28:00</td>\n",
       "      <td>13</td>\n",
       "      <td>84045</td>\n",
       "      <td>SARATOGA SPRINGS</td>\n",
       "      <td>Utah</td>\n",
       "      <td>UT</td>\n",
       "      <td>Saratoga Springs</td>\n",
       "      <td>Utah County</td>\n",
       "      <td>2022</td>\n",
       "      <td>2</td>\n",
       "      <td>22</td>\n",
       "      <td>0</td>\n",
       "    </tr>\n",
       "    <tr>\n",
       "      <th>96</th>\n",
       "      <td>1</td>\n",
       "      <td>2022-02-22</td>\n",
       "      <td>GA01060T</td>\n",
       "      <td>2 &amp; Under Admission</td>\n",
       "      <td>108</td>\n",
       "      <td>1 GA</td>\n",
       "      <td>Timed Ticketing GA</td>\n",
       "      <td>10000200</td>\n",
       "      <td>2022-02-22 14:28:00</td>\n",
       "      <td>13</td>\n",
       "      <td>84045</td>\n",
       "      <td>SARATOGA SPRINGS</td>\n",
       "      <td>Utah</td>\n",
       "      <td>UT</td>\n",
       "      <td>Saratoga Springs</td>\n",
       "      <td>Utah County</td>\n",
       "      <td>2022</td>\n",
       "      <td>2</td>\n",
       "      <td>22</td>\n",
       "      <td>0</td>\n",
       "    </tr>\n",
       "    <tr>\n",
       "      <th>97</th>\n",
       "      <td>2</td>\n",
       "      <td>2022-02-22</td>\n",
       "      <td>MB00057</td>\n",
       "      <td>Quad Family Membership</td>\n",
       "      <td>21</td>\n",
       "      <td>3 Members</td>\n",
       "      <td>Family Membership Readmit</td>\n",
       "      <td>10000201</td>\n",
       "      <td>2022-01-21 00:00:00</td>\n",
       "      <td>11</td>\n",
       "      <td>84096</td>\n",
       "      <td>HERRIMAN</td>\n",
       "      <td>Salt Lake</td>\n",
       "      <td>UT</td>\n",
       "      <td>Herriman</td>\n",
       "      <td>Salt Lake County</td>\n",
       "      <td>2022</td>\n",
       "      <td>1</td>\n",
       "      <td>21</td>\n",
       "      <td>1</td>\n",
       "    </tr>\n",
       "    <tr>\n",
       "      <th>98</th>\n",
       "      <td>1</td>\n",
       "      <td>2022-02-22</td>\n",
       "      <td>MB00012-15</td>\n",
       "      <td>Adult Membership Renewal</td>\n",
       "      <td>11</td>\n",
       "      <td>3 Members</td>\n",
       "      <td>Membership Readmit</td>\n",
       "      <td>10000209</td>\n",
       "      <td>2021-10-14 00:00:00</td>\n",
       "      <td>15</td>\n",
       "      <td>84081</td>\n",
       "      <td>WEST JORDAN</td>\n",
       "      <td>Salt Lake</td>\n",
       "      <td>UT</td>\n",
       "      <td>West Jordan, West Valley City</td>\n",
       "      <td>Salt Lake County</td>\n",
       "      <td>2021</td>\n",
       "      <td>10</td>\n",
       "      <td>14</td>\n",
       "      <td>1</td>\n",
       "    </tr>\n",
       "    <tr>\n",
       "      <th>99</th>\n",
       "      <td>1</td>\n",
       "      <td>2022-02-22</td>\n",
       "      <td>MB00001</td>\n",
       "      <td>Child Membership</td>\n",
       "      <td>11</td>\n",
       "      <td>3 Members</td>\n",
       "      <td>Membership Readmit</td>\n",
       "      <td>10000210</td>\n",
       "      <td>2021-10-14 00:00:00</td>\n",
       "      <td>15</td>\n",
       "      <td>84081</td>\n",
       "      <td>WEST JORDAN</td>\n",
       "      <td>Salt Lake</td>\n",
       "      <td>UT</td>\n",
       "      <td>West Jordan, West Valley City</td>\n",
       "      <td>Salt Lake County</td>\n",
       "      <td>2021</td>\n",
       "      <td>10</td>\n",
       "      <td>14</td>\n",
       "      <td>1</td>\n",
       "    </tr>\n",
       "  </tbody>\n",
       "</table>\n",
       "<p>100 rows × 20 columns</p>\n",
       "</div>"
      ],
      "text/plain": [
       "    admits    usedate                   plu                   pluname   \n",
       "0        1 2022-02-22  GA01010TDP                     Adult Admission  \\\n",
       "1        1 2022-02-22  GA01055TDP                      Teen Admission   \n",
       "2        1 2022-02-22  GA01060T                   2 & Under Admission   \n",
       "3        1 2022-02-22  GA01060T                   2 & Under Admission   \n",
       "4        1 2022-02-22  GA01010TDP                     Adult Admission   \n",
       "..     ...        ...                   ...                       ...   \n",
       "95       1 2022-02-22  GA01010TDP                     Adult Admission   \n",
       "96       1 2022-02-22  GA01060T                   2 & Under Admission   \n",
       "97       2 2022-02-22  MB00057                 Quad Family Membership   \n",
       "98       1 2022-02-22  MB00012-15            Adult Membership Renewal   \n",
       "99       1 2022-02-22  MB00001                       Child Membership   \n",
       "\n",
       "    accesscode accesscodegroup                  accesscodename   usageid   \n",
       "0          108            1 GA  Timed Ticketing GA              10000000  \\\n",
       "1          108            1 GA  Timed Ticketing GA              10000002   \n",
       "2          108            1 GA  Timed Ticketing GA              10000003   \n",
       "3          108            1 GA  Timed Ticketing GA              10000007   \n",
       "4          108            1 GA  Timed Ticketing GA              10000008   \n",
       "..         ...             ...                             ...       ...   \n",
       "95         108            1 GA  Timed Ticketing GA              10000199   \n",
       "96         108            1 GA  Timed Ticketing GA              10000200   \n",
       "97          21       3 Members  Family Membership Readmit       10000201   \n",
       "98          11       3 Members  Membership Readmit              10000209   \n",
       "99          11       3 Members  Membership Readmit              10000210   \n",
       "\n",
       "          saledatetime  salenode  zipcode              city     county   \n",
       "0  2022-02-22 13:46:00       406    84129    SALT LAKE CITY  Salt Lake  \\\n",
       "1  2022-02-22 13:46:00       406    84129    SALT LAKE CITY  Salt Lake   \n",
       "2  2022-02-22 13:46:00       406    84129    SALT LAKE CITY  Salt Lake   \n",
       "3  2022-02-22 14:04:00        11    84125    SALT LAKE CITY  Salt Lake   \n",
       "4  2022-02-22 14:04:00        11    84125    SALT LAKE CITY  Salt Lake   \n",
       "..                 ...       ...      ...               ...        ...   \n",
       "95 2022-02-22 14:28:00        13    84045  SARATOGA SPRINGS       Utah   \n",
       "96 2022-02-22 14:28:00        13    84045  SARATOGA SPRINGS       Utah   \n",
       "97 2022-01-21 00:00:00        11    84096          HERRIMAN  Salt Lake   \n",
       "98 2021-10-14 00:00:00        15    84081       WEST JORDAN  Salt Lake   \n",
       "99 2021-10-14 00:00:00        15    84081       WEST JORDAN  Salt Lake   \n",
       "\n",
       "   stateloc                       subgroup         maingroup  year  month   \n",
       "0        UT   Salt Lake City, Taylorsville  Salt Lake County  2022      2  \\\n",
       "1        UT   Salt Lake City, Taylorsville  Salt Lake County  2022      2   \n",
       "2        UT   Salt Lake City, Taylorsville  Salt Lake County  2022      2   \n",
       "3        UT                 Salt Lake City  Salt Lake County  2022      2   \n",
       "4        UT                 Salt Lake City  Salt Lake County  2022      2   \n",
       "..      ...                            ...               ...   ...    ...   \n",
       "95       UT               Saratoga Springs       Utah County  2022      2   \n",
       "96       UT               Saratoga Springs       Utah County  2022      2   \n",
       "97       UT                       Herriman  Salt Lake County  2022      1   \n",
       "98       UT  West Jordan, West Valley City  Salt Lake County  2021     10   \n",
       "99       UT  West Jordan, West Valley City  Salt Lake County  2021     10   \n",
       "\n",
       "    day  member  \n",
       "0    22       0  \n",
       "1    22       0  \n",
       "2    22       0  \n",
       "3    22       0  \n",
       "4    22       0  \n",
       "..  ...     ...  \n",
       "95   22       0  \n",
       "96   22       0  \n",
       "97   21       1  \n",
       "98   14       1  \n",
       "99   14       1  \n",
       "\n",
       "[100 rows x 20 columns]"
      ]
     },
     "execution_count": 28,
     "metadata": {},
     "output_type": "execute_result"
    }
   ],
   "source": [
    "membership_ga_filtered_attendance_df['member'] = np.where(membership_ga_filtered_attendance_df['accesscodegroup'] == '1 GA', 0, 1)\n",
    "membership_ga_filtered_attendance_df.head(100)"
   ]
  },
  {
   "cell_type": "code",
   "execution_count": 29,
   "id": "df0aeb5e-6ea4-4c44-84d1-2060124a362b",
   "metadata": {},
   "outputs": [
    {
     "data": {
      "text/plain": [
       "member\n",
       "0    538091\n",
       "1    143438\n",
       "Name: count, dtype: int64"
      ]
     },
     "execution_count": 29,
     "metadata": {},
     "output_type": "execute_result"
    }
   ],
   "source": [
    "membership_ga_filtered_attendance_df['member'].value_counts()\n",
    "#oversampling. Model will be skewed to \"non-member\" with this data set. \n",
    "#Use Imbalanced-Learn Module: https://www.geeksforgeeks.org/imbalanced-learn-module-in-python/"
   ]
  },
  {
   "cell_type": "code",
   "execution_count": 31,
   "id": "dd41f6e9-f8e1-45f3-89ea-26d985ba64aa",
   "metadata": {},
   "outputs": [
    {
     "data": {
      "text/plain": [
       "array([ 1,  4,  6,  3,  2,  5,  9, 13,  8,  7, 10, 11, -1, 16, 14, 12, 15],\n",
       "      dtype=int64)"
      ]
     },
     "execution_count": 31,
     "metadata": {},
     "output_type": "execute_result"
    }
   ],
   "source": [
    "membership_ga_filtered_attendance_df.admits.unique()"
   ]
  },
  {
   "cell_type": "code",
   "execution_count": 36,
   "id": "cb1aadf7-0b9a-4202-9b45-d8cc957b8f8e",
   "metadata": {},
   "outputs": [
    {
     "data": {
      "text/plain": [
       "9603"
      ]
     },
     "execution_count": 36,
     "metadata": {},
     "output_type": "execute_result"
    }
   ],
   "source": [
    "membership_ga_filtered_attendance_df.zipcode.nunique()"
   ]
  },
  {
   "cell_type": "code",
   "execution_count": 37,
   "id": "9bf0de35-efda-4e68-bfed-eab0f698c0ec",
   "metadata": {},
   "outputs": [
    {
     "data": {
      "text/plain": [
       "4981"
      ]
     },
     "execution_count": 37,
     "metadata": {},
     "output_type": "execute_result"
    }
   ],
   "source": [
    "membership_ga_filtered_attendance_df.city.nunique()"
   ]
  },
  {
   "cell_type": "code",
   "execution_count": 38,
   "id": "83739b87-768e-4399-9c50-3ab9a6fed465",
   "metadata": {},
   "outputs": [
    {
     "data": {
      "text/plain": [
       "array(['Salt Lake', 'Utah', 'Uintah', 'Davis', 'Weber', 'unknown',\n",
       "       'Cache', 'Summit', 'Juab', 'Morgan', 'Beaver', 'Grand', 'Tooele',\n",
       "       'Wasatch', 'Box Elder', 'Iron', 'Washington', 'Daggett',\n",
       "       'Duchesne', 'Sanpete', 'Sevier', 'Kane', 'Millard', 'Rich',\n",
       "       'Emery', 'Carbon', 'Wayne', 'Piute', 'San Juan', 'Garfield'],\n",
       "      dtype=object)"
      ]
     },
     "execution_count": 38,
     "metadata": {},
     "output_type": "execute_result"
    }
   ],
   "source": [
    "membership_ga_filtered_attendance_df.county.unique()"
   ]
  },
  {
   "cell_type": "code",
   "execution_count": 39,
   "id": "f24d6d70-a6bd-42b5-ae63-40b5148f2bca",
   "metadata": {},
   "outputs": [
    {
     "data": {
      "text/plain": [
       "array(['Timed Ticketing GA            ', 'Membership Readmit            ',\n",
       "       'Family Membership Readmit     ', 'Family Membership             ',\n",
       "       'Membership                    ', 'Aquarium Admission            ',\n",
       "       'Grandparent Membership Readmit', 'Grandparent Membership        ',\n",
       "       'Party Admission               ', 'Employee Membership           ',\n",
       "       'Member Ticketed Admission     ', 'MEMBERSHIP - FAMILY WEB       ',\n",
       "       'Circle of Friends Membership  ', 'Volunteer Membership          '],\n",
       "      dtype=object)"
      ]
     },
     "execution_count": 39,
     "metadata": {},
     "output_type": "execute_result"
    }
   ],
   "source": [
    "membership_ga_filtered_attendance_df.accesscodename.unique()"
   ]
  },
  {
   "cell_type": "code",
   "execution_count": 40,
   "id": "abc55a7b-f53b-402a-a81b-67526ce9b7ba",
   "metadata": {},
   "outputs": [
    {
     "data": {
      "text/plain": [
       "array(['Adult Admission', 'Teen Admission', '2 & Under Admission',\n",
       "       'Child Admission', 'Child Membership', 'Adult Membership',\n",
       "       'Quad Family Membership', 'Family Membership',\n",
       "       'Quad Family Membership Renewal', 'Family Plus Membership',\n",
       "       'Family Membership Promo', 'Military Admission',\n",
       "       'Quad Membership Promo', 'Family Membership 4 Child Renewal',\n",
       "       'Senior Admission', 'Senior Membership', 'Student Admission',\n",
       "       'Adult Membership Renewal', 'Quad Family Membership Black Friday',\n",
       "       'Child Membership Renewal', 'Adult Membership Promo',\n",
       "       'Member Promo GA Admission', 'Child Membership Promo',\n",
       "       'Grandparent Membership Renewal', 'Student Membership',\n",
       "       'Family Plus Membership Renewal', 'Grandparent Plus Promo',\n",
       "       'Family Membership Black Friday', 'Teen Membership Black Friday',\n",
       "       'Adult Membership Black Friday', 'Child Membership Black Friday',\n",
       "       'Student Membership Renewal', 'Grandparent Plus Renewal Promo',\n",
       "       'Family Plus Membership Promo', 'Military Membership Renewal',\n",
       "       'Grandparent Plus Membership', 'Military Membership',\n",
       "       'SLCC Biology Student Pass', 'Teen Membership',\n",
       "       'Family Membership Plus',\n",
       "       'Quad Family Membership Renewal Black Fri',\n",
       "       'Adult Membership Renewal Black Friday',\n",
       "       'Student Membership Black Friday', 'Senior Membership Renewal',\n",
       "       'Grandparent Plus Renewal', 'Senior Membership Promo',\n",
       "       'Military Membership Promo', 'Party Ticket',\n",
       "       'Additional Party Guest', 'Student Membership Promo',\n",
       "       'Family Membership Renewal Black Friday', 'Grandparent Membership',\n",
       "       'Senior Membership Black Friday',\n",
       "       'Corporate Group Sales - Teen Admission',\n",
       "       'Corporate Group Sales - Child Admission',\n",
       "       'Family Plus Membership Black Friday',\n",
       "       'Corporate Group Sales - Adult Admission', 'Aquarium Employee',\n",
       "       'Adult Admission - Late Til 8', 'Student Admission - Late Til 8',\n",
       "       'Teen Admission - Late Til 8', 'Child Admission - Late Til 8',\n",
       "       'Senior Admission - Late Til 8', 'Military Admission - Late Til 8',\n",
       "       'Member Adult Admission', 'Military Membership Black Friday',\n",
       "       'Grandparent Plus Membership Black Friday',\n",
       "       'Grandparent Plus Renewal Black Friday',\n",
       "       'Corporate Group Sale Adult Membership',\n",
       "       'Proposal Adult Admission', 'Grandparent Membership Promo',\n",
       "       'Teen Membership Renewal', 'Child Membership Renewal Black Friday',\n",
       "       'Quad Plus Membership', 'Teen Membership Promo',\n",
       "       'Event Network Employee', 'Party Aquarium Admission',\n",
       "       'Quad Plus Membership Renewal',\n",
       "       'Corporate Group Sales - Military Admissi',\n",
       "       'Quad Plus Membership Upgrade',\n",
       "       'Senior Membership Renewal Black Friday',\n",
       "       'Corporate Group Sale Family Membership',\n",
       "       'Grandparent Membership Black Friday',\n",
       "       'Grandparent Membership Renewal Promo',\n",
       "       'Circle of Friends Membership',\n",
       "       'Student Membership Renewal Black Friday', 'Aquarium Volunteer',\n",
       "       'Additional Party Ticket', 'ZAP Day Adult',\n",
       "       'Member Senior Admission', 'ZAP Day Child (Ages 3-17)',\n",
       "       'Quad Membership', 'Quad Membership Renewal',\n",
       "       'Quad Membership Black Friday',\n",
       "       'Quad Membership Renewal Black Fri',\n",
       "       '1 Month Membership Black Friday',\n",
       "       'Quad Plus Membership Black Friday',\n",
       "       'Quad Plus Membership Renewal Black Fri',\n",
       "       'Quad Plus Membership Promo', 'Grandparent Plus Black Friday',\n",
       "       'Corporate  Group Sales - Senior Admissio',\n",
       "       'Icon Culinary Employee', 'Premium Plus Membership Renewal',\n",
       "       'Premium Plus Membership', 'Duo Membership', 'Premium Membership',\n",
       "       'Premium Plus Membership Black Friday',\n",
       "       'Premium Membership Renewal', 'Premium Plus Black Friday'],\n",
       "      dtype=object)"
      ]
     },
     "execution_count": 40,
     "metadata": {},
     "output_type": "execute_result"
    }
   ],
   "source": [
    "membership_ga_filtered_attendance_df.pluname.unique()"
   ]
  },
  {
   "cell_type": "code",
   "execution_count": 41,
   "id": "52012efd-698b-438f-aa7f-7ab887a67c43",
   "metadata": {},
   "outputs": [
    {
     "data": {
      "text/plain": [
       "109"
      ]
     },
     "execution_count": 41,
     "metadata": {},
     "output_type": "execute_result"
    }
   ],
   "source": [
    "membership_ga_filtered_attendance_df.pluname.nunique()"
   ]
  },
  {
   "cell_type": "code",
   "execution_count": 42,
   "id": "0cd996c4-7f57-46f1-af99-ca21558f810c",
   "metadata": {},
   "outputs": [
    {
     "data": {
      "text/plain": [
       "array(['UT', 'ID', 'unknown', 'CA', 'WY', 'AZ', 'MO', 'IN', 'WA', 'CO',\n",
       "       'NY', 'NM', 'FL', 'AR', 'SC', 'ME', 'RI', 'MI', 'TX', 'MT', 'VA',\n",
       "       'MA', 'IL', 'MD', 'IA', 'NV', 'VT', 'NH', 'PA', 'MN', 'OK', 'HI',\n",
       "       'NJ', 'OH', 'WI', 'KY', 'AK', 'CT', 'GA', 'ND', 'OR', 'NE', 'TN',\n",
       "       'NC', 'LA', 'DE', 'AE', 'PR', 'SD', 'KS', 'MS', 'AL', 'AP', 'DC',\n",
       "       'WV', 'AA', 'VI', 'MP', 'GU'], dtype=object)"
      ]
     },
     "execution_count": 42,
     "metadata": {},
     "output_type": "execute_result"
    }
   ],
   "source": [
    "membership_ga_filtered_attendance_df.stateloc.unique()"
   ]
  },
  {
   "cell_type": "code",
   "execution_count": 43,
   "id": "26d76a18-cb42-409b-87c2-15ad7d74ed70",
   "metadata": {},
   "outputs": [
    {
     "data": {
      "text/plain": [
       "array(['Salt Lake County', 'Utah County', 'Other Utah Counties', 'Davis',\n",
       "       'Out of State', 'unknown'], dtype=object)"
      ]
     },
     "execution_count": 43,
     "metadata": {},
     "output_type": "execute_result"
    }
   ],
   "source": [
    "membership_ga_filtered_attendance_df.maingroup.unique()"
   ]
  },
  {
   "cell_type": "code",
   "execution_count": 44,
   "id": "1c86836a-b8e5-4902-92f6-99c8275b9382",
   "metadata": {},
   "outputs": [
    {
     "name": "stderr",
     "output_type": "stream",
     "text": [
      "C:\\Users\\camih\\AppData\\Local\\Temp\\ipykernel_33648\\4277843128.py:4: SettingWithCopyWarning: \n",
      "A value is trying to be set on a copy of a slice from a DataFrame.\n",
      "Try using .loc[row_indexer,col_indexer] = value instead\n",
      "\n",
      "See the caveats in the documentation: https://pandas.pydata.org/pandas-docs/stable/user_guide/indexing.html#returning-a-view-versus-a-copy\n",
      "  membership_ga_filtered_attendance_df['salt_lake_county'] = np.where((membership_ga_filtered_attendance_df['maingroup'] == 'Salt Lake County'), 1, 0)\n",
      "C:\\Users\\camih\\AppData\\Local\\Temp\\ipykernel_33648\\4277843128.py:6: SettingWithCopyWarning: \n",
      "A value is trying to be set on a copy of a slice from a DataFrame.\n",
      "Try using .loc[row_indexer,col_indexer] = value instead\n",
      "\n",
      "See the caveats in the documentation: https://pandas.pydata.org/pandas-docs/stable/user_guide/indexing.html#returning-a-view-versus-a-copy\n",
      "  membership_ga_filtered_attendance_df['out_of_state'] = np.where((membership_ga_filtered_attendance_df['maingroup'] == 'Out of State'), 1, 0)\n",
      "C:\\Users\\camih\\AppData\\Local\\Temp\\ipykernel_33648\\4277843128.py:8: SettingWithCopyWarning: \n",
      "A value is trying to be set on a copy of a slice from a DataFrame.\n",
      "Try using .loc[row_indexer,col_indexer] = value instead\n",
      "\n",
      "See the caveats in the documentation: https://pandas.pydata.org/pandas-docs/stable/user_guide/indexing.html#returning-a-view-versus-a-copy\n",
      "  membership_ga_filtered_attendance_df['utah_county'] = np.where((membership_ga_filtered_attendance_df['maingroup'] == 'Utah County'), 1, 0)\n",
      "C:\\Users\\camih\\AppData\\Local\\Temp\\ipykernel_33648\\4277843128.py:10: SettingWithCopyWarning: \n",
      "A value is trying to be set on a copy of a slice from a DataFrame.\n",
      "Try using .loc[row_indexer,col_indexer] = value instead\n",
      "\n",
      "See the caveats in the documentation: https://pandas.pydata.org/pandas-docs/stable/user_guide/indexing.html#returning-a-view-versus-a-copy\n",
      "  membership_ga_filtered_attendance_df['other_in_state_county'] = np.where((membership_ga_filtered_attendance_df['maingroup'] == 'Other Utah Counties'), 1, 0)\n",
      "C:\\Users\\camih\\AppData\\Local\\Temp\\ipykernel_33648\\4277843128.py:12: SettingWithCopyWarning: \n",
      "A value is trying to be set on a copy of a slice from a DataFrame.\n",
      "Try using .loc[row_indexer,col_indexer] = value instead\n",
      "\n",
      "See the caveats in the documentation: https://pandas.pydata.org/pandas-docs/stable/user_guide/indexing.html#returning-a-view-versus-a-copy\n",
      "  membership_ga_filtered_attendance_df['davis_county'] = np.where((membership_ga_filtered_attendance_df['maingroup'] == 'Davis'), 1, 0)\n",
      "C:\\Users\\camih\\AppData\\Local\\Temp\\ipykernel_33648\\4277843128.py:14: SettingWithCopyWarning: \n",
      "A value is trying to be set on a copy of a slice from a DataFrame.\n",
      "Try using .loc[row_indexer,col_indexer] = value instead\n",
      "\n",
      "See the caveats in the documentation: https://pandas.pydata.org/pandas-docs/stable/user_guide/indexing.html#returning-a-view-versus-a-copy\n",
      "  membership_ga_filtered_attendance_df['unknown_county'] = np.where((membership_ga_filtered_attendance_df['maingroup'] == 'unknown'), 1, 0)\n"
     ]
    }
   ],
   "source": [
    "#Group 'maingroup' county info into separate columns\n",
    "\n",
    "#Salt Lake County\n",
    "membership_ga_filtered_attendance_df['salt_lake_county'] = np.where((membership_ga_filtered_attendance_df['maingroup'] == 'Salt Lake County'), 1, 0)\n",
    "#Out of State\n",
    "membership_ga_filtered_attendance_df['out_of_state'] = np.where((membership_ga_filtered_attendance_df['maingroup'] == 'Out of State'), 1, 0)\n",
    "#Utah County\n",
    "membership_ga_filtered_attendance_df['utah_county'] = np.where((membership_ga_filtered_attendance_df['maingroup'] == 'Utah County'), 1, 0)\n",
    "#Other Utah Counties\n",
    "membership_ga_filtered_attendance_df['other_in_state_county'] = np.where((membership_ga_filtered_attendance_df['maingroup'] == 'Other Utah Counties'), 1, 0)\n",
    "#Davis\n",
    "membership_ga_filtered_attendance_df['davis_county'] = np.where((membership_ga_filtered_attendance_df['maingroup'] == 'Davis'), 1, 0)\n",
    "#unknown\n",
    "membership_ga_filtered_attendance_df['unknown_county'] = np.where((membership_ga_filtered_attendance_df['maingroup'] == 'unknown'), 1, 0)"
   ]
  },
  {
   "cell_type": "code",
   "execution_count": 45,
   "id": "96ccd63a-f017-4c24-8410-e9c658fca576",
   "metadata": {},
   "outputs": [
    {
     "name": "stderr",
     "output_type": "stream",
     "text": [
      "C:\\Users\\camih\\AppData\\Local\\Temp\\ipykernel_33648\\2981508442.py:5: SettingWithCopyWarning: \n",
      "A value is trying to be set on a copy of a slice from a DataFrame.\n",
      "Try using .loc[row_indexer,col_indexer] = value instead\n",
      "\n",
      "See the caveats in the documentation: https://pandas.pydata.org/pandas-docs/stable/user_guide/indexing.html#returning-a-view-versus-a-copy\n",
      "  membership_ga_filtered_attendance_df['small_family_group'] = np.where(\n",
      "C:\\Users\\camih\\AppData\\Local\\Temp\\ipykernel_33648\\2981508442.py:10: SettingWithCopyWarning: \n",
      "A value is trying to be set on a copy of a slice from a DataFrame.\n",
      "Try using .loc[row_indexer,col_indexer] = value instead\n",
      "\n",
      "See the caveats in the documentation: https://pandas.pydata.org/pandas-docs/stable/user_guide/indexing.html#returning-a-view-versus-a-copy\n",
      "  membership_ga_filtered_attendance_df['medium_family_group'] = np.where(\n",
      "C:\\Users\\camih\\AppData\\Local\\Temp\\ipykernel_33648\\2981508442.py:15: SettingWithCopyWarning: \n",
      "A value is trying to be set on a copy of a slice from a DataFrame.\n",
      "Try using .loc[row_indexer,col_indexer] = value instead\n",
      "\n",
      "See the caveats in the documentation: https://pandas.pydata.org/pandas-docs/stable/user_guide/indexing.html#returning-a-view-versus-a-copy\n",
      "  membership_ga_filtered_attendance_df['large_family_group'] = np.where(\n",
      "C:\\Users\\camih\\AppData\\Local\\Temp\\ipykernel_33648\\2981508442.py:20: SettingWithCopyWarning: \n",
      "A value is trying to be set on a copy of a slice from a DataFrame.\n",
      "Try using .loc[row_indexer,col_indexer] = value instead\n",
      "\n",
      "See the caveats in the documentation: https://pandas.pydata.org/pandas-docs/stable/user_guide/indexing.html#returning-a-view-versus-a-copy\n",
      "  membership_ga_filtered_attendance_df['adult'] = np.where((membership_ga_filtered_attendance_df['pluname'].str.contains('Adult')), 1, 0)\n",
      "C:\\Users\\camih\\AppData\\Local\\Temp\\ipykernel_33648\\2981508442.py:22: SettingWithCopyWarning: \n",
      "A value is trying to be set on a copy of a slice from a DataFrame.\n",
      "Try using .loc[row_indexer,col_indexer] = value instead\n",
      "\n",
      "See the caveats in the documentation: https://pandas.pydata.org/pandas-docs/stable/user_guide/indexing.html#returning-a-view-versus-a-copy\n",
      "  membership_ga_filtered_attendance_df['student'] = np.where((membership_ga_filtered_attendance_df['pluname'].str.contains('Student')), 1, 0)\n",
      "C:\\Users\\camih\\AppData\\Local\\Temp\\ipykernel_33648\\2981508442.py:24: SettingWithCopyWarning: \n",
      "A value is trying to be set on a copy of a slice from a DataFrame.\n",
      "Try using .loc[row_indexer,col_indexer] = value instead\n",
      "\n",
      "See the caveats in the documentation: https://pandas.pydata.org/pandas-docs/stable/user_guide/indexing.html#returning-a-view-versus-a-copy\n",
      "  membership_ga_filtered_attendance_df['military'] = np.where((membership_ga_filtered_attendance_df['pluname'].str.contains('Military')), 1, 0)\n",
      "C:\\Users\\camih\\AppData\\Local\\Temp\\ipykernel_33648\\2981508442.py:26: SettingWithCopyWarning: \n",
      "A value is trying to be set on a copy of a slice from a DataFrame.\n",
      "Try using .loc[row_indexer,col_indexer] = value instead\n",
      "\n",
      "See the caveats in the documentation: https://pandas.pydata.org/pandas-docs/stable/user_guide/indexing.html#returning-a-view-versus-a-copy\n",
      "  membership_ga_filtered_attendance_df['teen'] = np.where((membership_ga_filtered_attendance_df['pluname'].str.contains('Teen')), 1, 0)\n",
      "C:\\Users\\camih\\AppData\\Local\\Temp\\ipykernel_33648\\2981508442.py:28: SettingWithCopyWarning: \n",
      "A value is trying to be set on a copy of a slice from a DataFrame.\n",
      "Try using .loc[row_indexer,col_indexer] = value instead\n",
      "\n",
      "See the caveats in the documentation: https://pandas.pydata.org/pandas-docs/stable/user_guide/indexing.html#returning-a-view-versus-a-copy\n",
      "  membership_ga_filtered_attendance_df['child'] = np.where((membership_ga_filtered_attendance_df['pluname'].str.contains('Child')), 1, 0)\n",
      "C:\\Users\\camih\\AppData\\Local\\Temp\\ipykernel_33648\\2981508442.py:30: SettingWithCopyWarning: \n",
      "A value is trying to be set on a copy of a slice from a DataFrame.\n",
      "Try using .loc[row_indexer,col_indexer] = value instead\n",
      "\n",
      "See the caveats in the documentation: https://pandas.pydata.org/pandas-docs/stable/user_guide/indexing.html#returning-a-view-versus-a-copy\n",
      "  membership_ga_filtered_attendance_df['two_and_under'] = np.where((membership_ga_filtered_attendance_df['pluname'].str.contains('2 & Under')), 1, 0)\n",
      "C:\\Users\\camih\\AppData\\Local\\Temp\\ipykernel_33648\\2981508442.py:32: SettingWithCopyWarning: \n",
      "A value is trying to be set on a copy of a slice from a DataFrame.\n",
      "Try using .loc[row_indexer,col_indexer] = value instead\n",
      "\n",
      "See the caveats in the documentation: https://pandas.pydata.org/pandas-docs/stable/user_guide/indexing.html#returning-a-view-versus-a-copy\n",
      "  membership_ga_filtered_attendance_df['senior'] = np.where((membership_ga_filtered_attendance_df['pluname'].str.contains('Senior', 'Grandparent')), 1, 0)\n"
     ]
    },
    {
     "data": {
      "text/html": [
       "<div>\n",
       "<style scoped>\n",
       "    .dataframe tbody tr th:only-of-type {\n",
       "        vertical-align: middle;\n",
       "    }\n",
       "\n",
       "    .dataframe tbody tr th {\n",
       "        vertical-align: top;\n",
       "    }\n",
       "\n",
       "    .dataframe thead th {\n",
       "        text-align: right;\n",
       "    }\n",
       "</style>\n",
       "<table border=\"1\" class=\"dataframe\">\n",
       "  <thead>\n",
       "    <tr style=\"text-align: right;\">\n",
       "      <th></th>\n",
       "      <th>admits</th>\n",
       "      <th>usedate</th>\n",
       "      <th>plu</th>\n",
       "      <th>pluname</th>\n",
       "      <th>accesscode</th>\n",
       "      <th>accesscodegroup</th>\n",
       "      <th>accesscodename</th>\n",
       "      <th>usageid</th>\n",
       "      <th>saledatetime</th>\n",
       "      <th>salenode</th>\n",
       "      <th>...</th>\n",
       "      <th>small_family_group</th>\n",
       "      <th>medium_family_group</th>\n",
       "      <th>large_family_group</th>\n",
       "      <th>adult</th>\n",
       "      <th>student</th>\n",
       "      <th>military</th>\n",
       "      <th>teen</th>\n",
       "      <th>child</th>\n",
       "      <th>two_and_under</th>\n",
       "      <th>senior</th>\n",
       "    </tr>\n",
       "  </thead>\n",
       "  <tbody>\n",
       "    <tr>\n",
       "      <th>0</th>\n",
       "      <td>1</td>\n",
       "      <td>2022-02-22</td>\n",
       "      <td>GA01010TDP</td>\n",
       "      <td>Adult Admission</td>\n",
       "      <td>108</td>\n",
       "      <td>1 GA</td>\n",
       "      <td>Timed Ticketing GA</td>\n",
       "      <td>10000000</td>\n",
       "      <td>2022-02-22 13:46:00</td>\n",
       "      <td>406</td>\n",
       "      <td>...</td>\n",
       "      <td>0</td>\n",
       "      <td>0</td>\n",
       "      <td>0</td>\n",
       "      <td>1</td>\n",
       "      <td>0</td>\n",
       "      <td>0</td>\n",
       "      <td>0</td>\n",
       "      <td>0</td>\n",
       "      <td>0</td>\n",
       "      <td>0</td>\n",
       "    </tr>\n",
       "    <tr>\n",
       "      <th>1</th>\n",
       "      <td>1</td>\n",
       "      <td>2022-02-22</td>\n",
       "      <td>GA01055TDP</td>\n",
       "      <td>Teen Admission</td>\n",
       "      <td>108</td>\n",
       "      <td>1 GA</td>\n",
       "      <td>Timed Ticketing GA</td>\n",
       "      <td>10000002</td>\n",
       "      <td>2022-02-22 13:46:00</td>\n",
       "      <td>406</td>\n",
       "      <td>...</td>\n",
       "      <td>0</td>\n",
       "      <td>0</td>\n",
       "      <td>0</td>\n",
       "      <td>0</td>\n",
       "      <td>0</td>\n",
       "      <td>0</td>\n",
       "      <td>1</td>\n",
       "      <td>0</td>\n",
       "      <td>0</td>\n",
       "      <td>0</td>\n",
       "    </tr>\n",
       "    <tr>\n",
       "      <th>2</th>\n",
       "      <td>1</td>\n",
       "      <td>2022-02-22</td>\n",
       "      <td>GA01060T</td>\n",
       "      <td>2 &amp; Under Admission</td>\n",
       "      <td>108</td>\n",
       "      <td>1 GA</td>\n",
       "      <td>Timed Ticketing GA</td>\n",
       "      <td>10000003</td>\n",
       "      <td>2022-02-22 13:46:00</td>\n",
       "      <td>406</td>\n",
       "      <td>...</td>\n",
       "      <td>0</td>\n",
       "      <td>0</td>\n",
       "      <td>0</td>\n",
       "      <td>0</td>\n",
       "      <td>0</td>\n",
       "      <td>0</td>\n",
       "      <td>0</td>\n",
       "      <td>0</td>\n",
       "      <td>1</td>\n",
       "      <td>0</td>\n",
       "    </tr>\n",
       "    <tr>\n",
       "      <th>3</th>\n",
       "      <td>1</td>\n",
       "      <td>2022-02-22</td>\n",
       "      <td>GA01060T</td>\n",
       "      <td>2 &amp; Under Admission</td>\n",
       "      <td>108</td>\n",
       "      <td>1 GA</td>\n",
       "      <td>Timed Ticketing GA</td>\n",
       "      <td>10000007</td>\n",
       "      <td>2022-02-22 14:04:00</td>\n",
       "      <td>11</td>\n",
       "      <td>...</td>\n",
       "      <td>0</td>\n",
       "      <td>0</td>\n",
       "      <td>0</td>\n",
       "      <td>0</td>\n",
       "      <td>0</td>\n",
       "      <td>0</td>\n",
       "      <td>0</td>\n",
       "      <td>0</td>\n",
       "      <td>1</td>\n",
       "      <td>0</td>\n",
       "    </tr>\n",
       "    <tr>\n",
       "      <th>4</th>\n",
       "      <td>1</td>\n",
       "      <td>2022-02-22</td>\n",
       "      <td>GA01010TDP</td>\n",
       "      <td>Adult Admission</td>\n",
       "      <td>108</td>\n",
       "      <td>1 GA</td>\n",
       "      <td>Timed Ticketing GA</td>\n",
       "      <td>10000008</td>\n",
       "      <td>2022-02-22 14:04:00</td>\n",
       "      <td>11</td>\n",
       "      <td>...</td>\n",
       "      <td>0</td>\n",
       "      <td>0</td>\n",
       "      <td>0</td>\n",
       "      <td>1</td>\n",
       "      <td>0</td>\n",
       "      <td>0</td>\n",
       "      <td>0</td>\n",
       "      <td>0</td>\n",
       "      <td>0</td>\n",
       "      <td>0</td>\n",
       "    </tr>\n",
       "    <tr>\n",
       "      <th>...</th>\n",
       "      <td>...</td>\n",
       "      <td>...</td>\n",
       "      <td>...</td>\n",
       "      <td>...</td>\n",
       "      <td>...</td>\n",
       "      <td>...</td>\n",
       "      <td>...</td>\n",
       "      <td>...</td>\n",
       "      <td>...</td>\n",
       "      <td>...</td>\n",
       "      <td>...</td>\n",
       "      <td>...</td>\n",
       "      <td>...</td>\n",
       "      <td>...</td>\n",
       "      <td>...</td>\n",
       "      <td>...</td>\n",
       "      <td>...</td>\n",
       "      <td>...</td>\n",
       "      <td>...</td>\n",
       "      <td>...</td>\n",
       "      <td>...</td>\n",
       "    </tr>\n",
       "    <tr>\n",
       "      <th>681524</th>\n",
       "      <td>1</td>\n",
       "      <td>2023-03-25</td>\n",
       "      <td>GA01050TDP</td>\n",
       "      <td>Child Admission</td>\n",
       "      <td>108</td>\n",
       "      <td>1 GA</td>\n",
       "      <td>Timed Ticketing GA</td>\n",
       "      <td>11295071</td>\n",
       "      <td>2023-03-25 15:46:00</td>\n",
       "      <td>16</td>\n",
       "      <td>...</td>\n",
       "      <td>0</td>\n",
       "      <td>0</td>\n",
       "      <td>0</td>\n",
       "      <td>0</td>\n",
       "      <td>0</td>\n",
       "      <td>0</td>\n",
       "      <td>0</td>\n",
       "      <td>1</td>\n",
       "      <td>0</td>\n",
       "      <td>0</td>\n",
       "    </tr>\n",
       "    <tr>\n",
       "      <th>681525</th>\n",
       "      <td>1</td>\n",
       "      <td>2023-03-25</td>\n",
       "      <td>GA01050TDP</td>\n",
       "      <td>Child Admission</td>\n",
       "      <td>108</td>\n",
       "      <td>1 GA</td>\n",
       "      <td>Timed Ticketing GA</td>\n",
       "      <td>11295072</td>\n",
       "      <td>2023-03-25 15:46:00</td>\n",
       "      <td>16</td>\n",
       "      <td>...</td>\n",
       "      <td>0</td>\n",
       "      <td>0</td>\n",
       "      <td>0</td>\n",
       "      <td>0</td>\n",
       "      <td>0</td>\n",
       "      <td>0</td>\n",
       "      <td>0</td>\n",
       "      <td>1</td>\n",
       "      <td>0</td>\n",
       "      <td>0</td>\n",
       "    </tr>\n",
       "    <tr>\n",
       "      <th>681526</th>\n",
       "      <td>1</td>\n",
       "      <td>2023-03-25</td>\n",
       "      <td>GA01020TDP</td>\n",
       "      <td>Senior Admission</td>\n",
       "      <td>108</td>\n",
       "      <td>1 GA</td>\n",
       "      <td>Timed Ticketing GA</td>\n",
       "      <td>11295076</td>\n",
       "      <td>2023-03-25 15:47:00</td>\n",
       "      <td>16</td>\n",
       "      <td>...</td>\n",
       "      <td>0</td>\n",
       "      <td>0</td>\n",
       "      <td>0</td>\n",
       "      <td>0</td>\n",
       "      <td>0</td>\n",
       "      <td>0</td>\n",
       "      <td>0</td>\n",
       "      <td>0</td>\n",
       "      <td>0</td>\n",
       "      <td>1</td>\n",
       "    </tr>\n",
       "    <tr>\n",
       "      <th>681527</th>\n",
       "      <td>1</td>\n",
       "      <td>2023-03-25</td>\n",
       "      <td>GA01010TDP</td>\n",
       "      <td>Adult Admission</td>\n",
       "      <td>108</td>\n",
       "      <td>1 GA</td>\n",
       "      <td>Timed Ticketing GA</td>\n",
       "      <td>11295077</td>\n",
       "      <td>2023-03-25 15:47:00</td>\n",
       "      <td>16</td>\n",
       "      <td>...</td>\n",
       "      <td>0</td>\n",
       "      <td>0</td>\n",
       "      <td>0</td>\n",
       "      <td>1</td>\n",
       "      <td>0</td>\n",
       "      <td>0</td>\n",
       "      <td>0</td>\n",
       "      <td>0</td>\n",
       "      <td>0</td>\n",
       "      <td>0</td>\n",
       "    </tr>\n",
       "    <tr>\n",
       "      <th>681528</th>\n",
       "      <td>1</td>\n",
       "      <td>2023-03-25</td>\n",
       "      <td>GA01010TDP</td>\n",
       "      <td>Adult Admission</td>\n",
       "      <td>108</td>\n",
       "      <td>1 GA</td>\n",
       "      <td>Timed Ticketing GA</td>\n",
       "      <td>11295078</td>\n",
       "      <td>2023-03-25 15:47:00</td>\n",
       "      <td>16</td>\n",
       "      <td>...</td>\n",
       "      <td>0</td>\n",
       "      <td>0</td>\n",
       "      <td>0</td>\n",
       "      <td>1</td>\n",
       "      <td>0</td>\n",
       "      <td>0</td>\n",
       "      <td>0</td>\n",
       "      <td>0</td>\n",
       "      <td>0</td>\n",
       "      <td>0</td>\n",
       "    </tr>\n",
       "  </tbody>\n",
       "</table>\n",
       "<p>681529 rows × 36 columns</p>\n",
       "</div>"
      ],
      "text/plain": [
       "        admits    usedate                   plu              pluname   \n",
       "0            1 2022-02-22  GA01010TDP                Adult Admission  \\\n",
       "1            1 2022-02-22  GA01055TDP                 Teen Admission   \n",
       "2            1 2022-02-22  GA01060T              2 & Under Admission   \n",
       "3            1 2022-02-22  GA01060T              2 & Under Admission   \n",
       "4            1 2022-02-22  GA01010TDP                Adult Admission   \n",
       "...        ...        ...                   ...                  ...   \n",
       "681524       1 2023-03-25  GA01050TDP                Child Admission   \n",
       "681525       1 2023-03-25  GA01050TDP                Child Admission   \n",
       "681526       1 2023-03-25  GA01020TDP               Senior Admission   \n",
       "681527       1 2023-03-25  GA01010TDP                Adult Admission   \n",
       "681528       1 2023-03-25  GA01010TDP                Adult Admission   \n",
       "\n",
       "        accesscode accesscodegroup                  accesscodename   usageid   \n",
       "0              108            1 GA  Timed Ticketing GA              10000000  \\\n",
       "1              108            1 GA  Timed Ticketing GA              10000002   \n",
       "2              108            1 GA  Timed Ticketing GA              10000003   \n",
       "3              108            1 GA  Timed Ticketing GA              10000007   \n",
       "4              108            1 GA  Timed Ticketing GA              10000008   \n",
       "...            ...             ...                             ...       ...   \n",
       "681524         108            1 GA  Timed Ticketing GA              11295071   \n",
       "681525         108            1 GA  Timed Ticketing GA              11295072   \n",
       "681526         108            1 GA  Timed Ticketing GA              11295076   \n",
       "681527         108            1 GA  Timed Ticketing GA              11295077   \n",
       "681528         108            1 GA  Timed Ticketing GA              11295078   \n",
       "\n",
       "              saledatetime  salenode  ...  small_family_group   \n",
       "0      2022-02-22 13:46:00       406  ...                   0  \\\n",
       "1      2022-02-22 13:46:00       406  ...                   0   \n",
       "2      2022-02-22 13:46:00       406  ...                   0   \n",
       "3      2022-02-22 14:04:00        11  ...                   0   \n",
       "4      2022-02-22 14:04:00        11  ...                   0   \n",
       "...                    ...       ...  ...                 ...   \n",
       "681524 2023-03-25 15:46:00        16  ...                   0   \n",
       "681525 2023-03-25 15:46:00        16  ...                   0   \n",
       "681526 2023-03-25 15:47:00        16  ...                   0   \n",
       "681527 2023-03-25 15:47:00        16  ...                   0   \n",
       "681528 2023-03-25 15:47:00        16  ...                   0   \n",
       "\n",
       "       medium_family_group large_family_group adult student military  teen   \n",
       "0                        0                  0     1       0        0     0  \\\n",
       "1                        0                  0     0       0        0     1   \n",
       "2                        0                  0     0       0        0     0   \n",
       "3                        0                  0     0       0        0     0   \n",
       "4                        0                  0     1       0        0     0   \n",
       "...                    ...                ...   ...     ...      ...   ...   \n",
       "681524                   0                  0     0       0        0     0   \n",
       "681525                   0                  0     0       0        0     0   \n",
       "681526                   0                  0     0       0        0     0   \n",
       "681527                   0                  0     1       0        0     0   \n",
       "681528                   0                  0     1       0        0     0   \n",
       "\n",
       "        child  two_and_under  senior  \n",
       "0           0              0       0  \n",
       "1           0              0       0  \n",
       "2           0              1       0  \n",
       "3           0              1       0  \n",
       "4           0              0       0  \n",
       "...       ...            ...     ...  \n",
       "681524      1              0       0  \n",
       "681525      1              0       0  \n",
       "681526      0              0       1  \n",
       "681527      0              0       0  \n",
       "681528      0              0       0  \n",
       "\n",
       "[681529 rows x 36 columns]"
      ]
     },
     "execution_count": 45,
     "metadata": {},
     "output_type": "execute_result"
    }
   ],
   "source": [
    "#Group 'pluname' into separate columns for different demographic categories\n",
    "#Exclude -1 admits, Employees, Volunteers, Party\n",
    "\n",
    "#small family_or_group: duo, quad, 2-4 admits\n",
    "membership_ga_filtered_attendance_df['small_family_group'] = np.where(\n",
    "    (membership_ga_filtered_attendance_df['pluname'].str.contains('Duo', 'Quad') |\n",
    "    ((membership_ga_filtered_attendance_df['admits'] > 1) & (membership_ga_filtered_attendance_df['admits'] < 5))\n",
    "    ), 1, 0)\n",
    "#medium family_or_group: family, 5-6 admits\n",
    "membership_ga_filtered_attendance_df['medium_family_group'] = np.where(\n",
    "    (membership_ga_filtered_attendance_df['pluname'].str.contains('Family') |\n",
    "    ((membership_ga_filtered_attendance_df['admits'] >= 5) & (membership_ga_filtered_attendance_df['admits'] < 7))\n",
    "    ), 1, 0)\n",
    "#large family_or_group: premium, 7-16 admits\n",
    "membership_ga_filtered_attendance_df['large_family_group'] = np.where(\n",
    "    (membership_ga_filtered_attendance_df['pluname'].str.contains('Premium') |\n",
    "    ((membership_ga_filtered_attendance_df['admits'] >= 7) & (membership_ga_filtered_attendance_df['admits'] <= 20))\n",
    "    ), 1, 0)\n",
    "#adult: adult\n",
    "membership_ga_filtered_attendance_df['adult'] = np.where((membership_ga_filtered_attendance_df['pluname'].str.contains('Adult')), 1, 0)\n",
    "#student: student\n",
    "membership_ga_filtered_attendance_df['student'] = np.where((membership_ga_filtered_attendance_df['pluname'].str.contains('Student')), 1, 0)\n",
    "#military: military\n",
    "membership_ga_filtered_attendance_df['military'] = np.where((membership_ga_filtered_attendance_df['pluname'].str.contains('Military')), 1, 0)\n",
    "#teen: teen\n",
    "membership_ga_filtered_attendance_df['teen'] = np.where((membership_ga_filtered_attendance_df['pluname'].str.contains('Teen')), 1, 0)\n",
    "#child: child \n",
    "membership_ga_filtered_attendance_df['child'] = np.where((membership_ga_filtered_attendance_df['pluname'].str.contains('Child')), 1, 0)\n",
    "#two_and_under: 2 & Under\n",
    "membership_ga_filtered_attendance_df['two_and_under'] = np.where((membership_ga_filtered_attendance_df['pluname'].str.contains('2 & Under')), 1, 0)\n",
    "#senior: senior, grandparent\n",
    "membership_ga_filtered_attendance_df['senior'] = np.where((membership_ga_filtered_attendance_df['pluname'].str.contains('Senior', 'Grandparent')), 1, 0)\n",
    "\n",
    "expanded_attendance_df = membership_ga_filtered_attendance_df\n",
    "expanded_attendance_df\n"
   ]
  },
  {
   "cell_type": "code",
   "execution_count": 46,
   "id": "2a93da80-da05-41cd-86da-393921e482d0",
   "metadata": {},
   "outputs": [
    {
     "data": {
      "text/plain": [
       "Index(['admits', 'usedate', 'plu', 'pluname', 'accesscode', 'accesscodegroup',\n",
       "       'accesscodename', 'usageid', 'saledatetime', 'salenode', 'zipcode',\n",
       "       'city', 'county', 'stateloc', 'subgroup', 'maingroup', 'year', 'month',\n",
       "       'day', 'member', 'salt_lake_county', 'out_of_state', 'utah_county',\n",
       "       'other_in_state_county', 'davis_county', 'unknown_county',\n",
       "       'small_family_group', 'medium_family_group', 'large_family_group',\n",
       "       'adult', 'student', 'military', 'teen', 'child', 'two_and_under',\n",
       "       'senior'],\n",
       "      dtype='object')"
      ]
     },
     "execution_count": 46,
     "metadata": {},
     "output_type": "execute_result"
    }
   ],
   "source": [
    "expanded_attendance_df.columns"
   ]
  },
  {
   "cell_type": "code",
   "execution_count": 47,
   "id": "d3b484a4-8b34-47f1-afa8-1263ec4cb412",
   "metadata": {},
   "outputs": [
    {
     "data": {
      "text/html": [
       "<div>\n",
       "<style scoped>\n",
       "    .dataframe tbody tr th:only-of-type {\n",
       "        vertical-align: middle;\n",
       "    }\n",
       "\n",
       "    .dataframe tbody tr th {\n",
       "        vertical-align: top;\n",
       "    }\n",
       "\n",
       "    .dataframe thead th {\n",
       "        text-align: right;\n",
       "    }\n",
       "</style>\n",
       "<table border=\"1\" class=\"dataframe\">\n",
       "  <thead>\n",
       "    <tr style=\"text-align: right;\">\n",
       "      <th></th>\n",
       "      <th>year</th>\n",
       "      <th>month</th>\n",
       "      <th>member</th>\n",
       "      <th>small_family_group</th>\n",
       "      <th>medium_family_group</th>\n",
       "      <th>large_family_group</th>\n",
       "      <th>adult</th>\n",
       "      <th>student</th>\n",
       "      <th>military</th>\n",
       "      <th>teen</th>\n",
       "      <th>child</th>\n",
       "      <th>two_and_under</th>\n",
       "      <th>senior</th>\n",
       "      <th>salt_lake_county</th>\n",
       "      <th>out_of_state</th>\n",
       "      <th>utah_county</th>\n",
       "      <th>other_in_state_county</th>\n",
       "      <th>davis_county</th>\n",
       "      <th>unknown_county</th>\n",
       "    </tr>\n",
       "  </thead>\n",
       "  <tbody>\n",
       "    <tr>\n",
       "      <th>0</th>\n",
       "      <td>2022</td>\n",
       "      <td>2</td>\n",
       "      <td>0</td>\n",
       "      <td>0</td>\n",
       "      <td>0</td>\n",
       "      <td>0</td>\n",
       "      <td>1</td>\n",
       "      <td>0</td>\n",
       "      <td>0</td>\n",
       "      <td>0</td>\n",
       "      <td>0</td>\n",
       "      <td>0</td>\n",
       "      <td>0</td>\n",
       "      <td>1</td>\n",
       "      <td>0</td>\n",
       "      <td>0</td>\n",
       "      <td>0</td>\n",
       "      <td>0</td>\n",
       "      <td>0</td>\n",
       "    </tr>\n",
       "    <tr>\n",
       "      <th>1</th>\n",
       "      <td>2022</td>\n",
       "      <td>2</td>\n",
       "      <td>0</td>\n",
       "      <td>0</td>\n",
       "      <td>0</td>\n",
       "      <td>0</td>\n",
       "      <td>0</td>\n",
       "      <td>0</td>\n",
       "      <td>0</td>\n",
       "      <td>1</td>\n",
       "      <td>0</td>\n",
       "      <td>0</td>\n",
       "      <td>0</td>\n",
       "      <td>1</td>\n",
       "      <td>0</td>\n",
       "      <td>0</td>\n",
       "      <td>0</td>\n",
       "      <td>0</td>\n",
       "      <td>0</td>\n",
       "    </tr>\n",
       "    <tr>\n",
       "      <th>2</th>\n",
       "      <td>2022</td>\n",
       "      <td>2</td>\n",
       "      <td>0</td>\n",
       "      <td>0</td>\n",
       "      <td>0</td>\n",
       "      <td>0</td>\n",
       "      <td>0</td>\n",
       "      <td>0</td>\n",
       "      <td>0</td>\n",
       "      <td>0</td>\n",
       "      <td>0</td>\n",
       "      <td>1</td>\n",
       "      <td>0</td>\n",
       "      <td>1</td>\n",
       "      <td>0</td>\n",
       "      <td>0</td>\n",
       "      <td>0</td>\n",
       "      <td>0</td>\n",
       "      <td>0</td>\n",
       "    </tr>\n",
       "    <tr>\n",
       "      <th>3</th>\n",
       "      <td>2022</td>\n",
       "      <td>2</td>\n",
       "      <td>0</td>\n",
       "      <td>0</td>\n",
       "      <td>0</td>\n",
       "      <td>0</td>\n",
       "      <td>0</td>\n",
       "      <td>0</td>\n",
       "      <td>0</td>\n",
       "      <td>0</td>\n",
       "      <td>0</td>\n",
       "      <td>1</td>\n",
       "      <td>0</td>\n",
       "      <td>1</td>\n",
       "      <td>0</td>\n",
       "      <td>0</td>\n",
       "      <td>0</td>\n",
       "      <td>0</td>\n",
       "      <td>0</td>\n",
       "    </tr>\n",
       "    <tr>\n",
       "      <th>4</th>\n",
       "      <td>2022</td>\n",
       "      <td>2</td>\n",
       "      <td>0</td>\n",
       "      <td>0</td>\n",
       "      <td>0</td>\n",
       "      <td>0</td>\n",
       "      <td>1</td>\n",
       "      <td>0</td>\n",
       "      <td>0</td>\n",
       "      <td>0</td>\n",
       "      <td>0</td>\n",
       "      <td>0</td>\n",
       "      <td>0</td>\n",
       "      <td>1</td>\n",
       "      <td>0</td>\n",
       "      <td>0</td>\n",
       "      <td>0</td>\n",
       "      <td>0</td>\n",
       "      <td>0</td>\n",
       "    </tr>\n",
       "    <tr>\n",
       "      <th>...</th>\n",
       "      <td>...</td>\n",
       "      <td>...</td>\n",
       "      <td>...</td>\n",
       "      <td>...</td>\n",
       "      <td>...</td>\n",
       "      <td>...</td>\n",
       "      <td>...</td>\n",
       "      <td>...</td>\n",
       "      <td>...</td>\n",
       "      <td>...</td>\n",
       "      <td>...</td>\n",
       "      <td>...</td>\n",
       "      <td>...</td>\n",
       "      <td>...</td>\n",
       "      <td>...</td>\n",
       "      <td>...</td>\n",
       "      <td>...</td>\n",
       "      <td>...</td>\n",
       "      <td>...</td>\n",
       "    </tr>\n",
       "    <tr>\n",
       "      <th>681524</th>\n",
       "      <td>2023</td>\n",
       "      <td>3</td>\n",
       "      <td>0</td>\n",
       "      <td>0</td>\n",
       "      <td>0</td>\n",
       "      <td>0</td>\n",
       "      <td>0</td>\n",
       "      <td>0</td>\n",
       "      <td>0</td>\n",
       "      <td>0</td>\n",
       "      <td>1</td>\n",
       "      <td>0</td>\n",
       "      <td>0</td>\n",
       "      <td>0</td>\n",
       "      <td>0</td>\n",
       "      <td>0</td>\n",
       "      <td>1</td>\n",
       "      <td>0</td>\n",
       "      <td>0</td>\n",
       "    </tr>\n",
       "    <tr>\n",
       "      <th>681525</th>\n",
       "      <td>2023</td>\n",
       "      <td>3</td>\n",
       "      <td>0</td>\n",
       "      <td>0</td>\n",
       "      <td>0</td>\n",
       "      <td>0</td>\n",
       "      <td>0</td>\n",
       "      <td>0</td>\n",
       "      <td>0</td>\n",
       "      <td>0</td>\n",
       "      <td>1</td>\n",
       "      <td>0</td>\n",
       "      <td>0</td>\n",
       "      <td>0</td>\n",
       "      <td>0</td>\n",
       "      <td>0</td>\n",
       "      <td>1</td>\n",
       "      <td>0</td>\n",
       "      <td>0</td>\n",
       "    </tr>\n",
       "    <tr>\n",
       "      <th>681526</th>\n",
       "      <td>2023</td>\n",
       "      <td>3</td>\n",
       "      <td>0</td>\n",
       "      <td>0</td>\n",
       "      <td>0</td>\n",
       "      <td>0</td>\n",
       "      <td>0</td>\n",
       "      <td>0</td>\n",
       "      <td>0</td>\n",
       "      <td>0</td>\n",
       "      <td>0</td>\n",
       "      <td>0</td>\n",
       "      <td>1</td>\n",
       "      <td>1</td>\n",
       "      <td>0</td>\n",
       "      <td>0</td>\n",
       "      <td>0</td>\n",
       "      <td>0</td>\n",
       "      <td>0</td>\n",
       "    </tr>\n",
       "    <tr>\n",
       "      <th>681527</th>\n",
       "      <td>2023</td>\n",
       "      <td>3</td>\n",
       "      <td>0</td>\n",
       "      <td>0</td>\n",
       "      <td>0</td>\n",
       "      <td>0</td>\n",
       "      <td>1</td>\n",
       "      <td>0</td>\n",
       "      <td>0</td>\n",
       "      <td>0</td>\n",
       "      <td>0</td>\n",
       "      <td>0</td>\n",
       "      <td>0</td>\n",
       "      <td>1</td>\n",
       "      <td>0</td>\n",
       "      <td>0</td>\n",
       "      <td>0</td>\n",
       "      <td>0</td>\n",
       "      <td>0</td>\n",
       "    </tr>\n",
       "    <tr>\n",
       "      <th>681528</th>\n",
       "      <td>2023</td>\n",
       "      <td>3</td>\n",
       "      <td>0</td>\n",
       "      <td>0</td>\n",
       "      <td>0</td>\n",
       "      <td>0</td>\n",
       "      <td>1</td>\n",
       "      <td>0</td>\n",
       "      <td>0</td>\n",
       "      <td>0</td>\n",
       "      <td>0</td>\n",
       "      <td>0</td>\n",
       "      <td>0</td>\n",
       "      <td>1</td>\n",
       "      <td>0</td>\n",
       "      <td>0</td>\n",
       "      <td>0</td>\n",
       "      <td>0</td>\n",
       "      <td>0</td>\n",
       "    </tr>\n",
       "  </tbody>\n",
       "</table>\n",
       "<p>681529 rows × 19 columns</p>\n",
       "</div>"
      ],
      "text/plain": [
       "        year  month  member  small_family_group  medium_family_group   \n",
       "0       2022      2       0                   0                    0  \\\n",
       "1       2022      2       0                   0                    0   \n",
       "2       2022      2       0                   0                    0   \n",
       "3       2022      2       0                   0                    0   \n",
       "4       2022      2       0                   0                    0   \n",
       "...      ...    ...     ...                 ...                  ...   \n",
       "681524  2023      3       0                   0                    0   \n",
       "681525  2023      3       0                   0                    0   \n",
       "681526  2023      3       0                   0                    0   \n",
       "681527  2023      3       0                   0                    0   \n",
       "681528  2023      3       0                   0                    0   \n",
       "\n",
       "        large_family_group  adult  student  military  teen  child   \n",
       "0                        0      1        0         0     0      0  \\\n",
       "1                        0      0        0         0     1      0   \n",
       "2                        0      0        0         0     0      0   \n",
       "3                        0      0        0         0     0      0   \n",
       "4                        0      1        0         0     0      0   \n",
       "...                    ...    ...      ...       ...   ...    ...   \n",
       "681524                   0      0        0         0     0      1   \n",
       "681525                   0      0        0         0     0      1   \n",
       "681526                   0      0        0         0     0      0   \n",
       "681527                   0      1        0         0     0      0   \n",
       "681528                   0      1        0         0     0      0   \n",
       "\n",
       "        two_and_under  senior  salt_lake_county  out_of_state  utah_county   \n",
       "0                   0       0                 1             0            0  \\\n",
       "1                   0       0                 1             0            0   \n",
       "2                   1       0                 1             0            0   \n",
       "3                   1       0                 1             0            0   \n",
       "4                   0       0                 1             0            0   \n",
       "...               ...     ...               ...           ...          ...   \n",
       "681524              0       0                 0             0            0   \n",
       "681525              0       0                 0             0            0   \n",
       "681526              0       1                 1             0            0   \n",
       "681527              0       0                 1             0            0   \n",
       "681528              0       0                 1             0            0   \n",
       "\n",
       "        other_in_state_county  davis_county  unknown_county  \n",
       "0                           0             0               0  \n",
       "1                           0             0               0  \n",
       "2                           0             0               0  \n",
       "3                           0             0               0  \n",
       "4                           0             0               0  \n",
       "...                       ...           ...             ...  \n",
       "681524                      1             0               0  \n",
       "681525                      1             0               0  \n",
       "681526                      0             0               0  \n",
       "681527                      0             0               0  \n",
       "681528                      0             0               0  \n",
       "\n",
       "[681529 rows x 19 columns]"
      ]
     },
     "execution_count": 47,
     "metadata": {},
     "output_type": "execute_result"
    }
   ],
   "source": [
    "attendance_model_df = expanded_attendance_df.loc[:, \n",
    "    [\n",
    "    'year',\n",
    "    'month',\n",
    "    'member',\n",
    "    'small_family_group',\n",
    "    'medium_family_group',\n",
    "    'large_family_group', \n",
    "    'adult', \n",
    "    'student', \n",
    "    'military',\n",
    "    'teen',\n",
    "    'child',\n",
    "    'two_and_under', \n",
    "    'senior',\n",
    "    'salt_lake_county',\n",
    "    'out_of_state',\n",
    "    'utah_county',\n",
    "    'other_in_state_county',\n",
    "    'davis_county',\n",
    "    'unknown_county'\n",
    "    ]\n",
    "]\n",
    "attendance_model_df"
   ]
  },
  {
   "cell_type": "code",
   "execution_count": 48,
   "id": "45551709-7a63-4110-87e8-247bd598441e",
   "metadata": {},
   "outputs": [
    {
     "data": {
      "text/plain": [
       "year\n",
       "2022    518883\n",
       "2023    127273\n",
       "2021     35373\n",
       "Name: count, dtype: int64"
      ]
     },
     "execution_count": 48,
     "metadata": {},
     "output_type": "execute_result"
    }
   ],
   "source": [
    "attendance_model_df['year'].value_counts()"
   ]
  },
  {
   "cell_type": "code",
   "execution_count": 49,
   "id": "8913a8d0-8822-4d1e-bcbf-5b621aefcef3",
   "metadata": {},
   "outputs": [
    {
     "data": {
      "text/plain": [
       "month\n",
       "3     107053\n",
       "7      66368\n",
       "2      65258\n",
       "4      61373\n",
       "8      59983\n",
       "12     54890\n",
       "6      50618\n",
       "1      49030\n",
       "5      48132\n",
       "11     46438\n",
       "10     36608\n",
       "9      35778\n",
       "Name: count, dtype: int64"
      ]
     },
     "execution_count": 49,
     "metadata": {},
     "output_type": "execute_result"
    }
   ],
   "source": [
    "attendance_model_df['month'].value_counts()"
   ]
  },
  {
   "cell_type": "code",
   "execution_count": 50,
   "id": "0050ddca-65f1-4746-a264-7c91f7780194",
   "metadata": {},
   "outputs": [
    {
     "data": {
      "text/plain": [
       "member\n",
       "0    538091\n",
       "1    143438\n",
       "Name: count, dtype: int64"
      ]
     },
     "execution_count": 50,
     "metadata": {},
     "output_type": "execute_result"
    }
   ],
   "source": [
    "attendance_model_df['member'].value_counts()"
   ]
  },
  {
   "cell_type": "code",
   "execution_count": 51,
   "id": "7921195a-b6bf-4ff9-9104-e5061b70d2d1",
   "metadata": {},
   "outputs": [
    {
     "data": {
      "text/plain": [
       "small_family_group\n",
       "0    633162\n",
       "1     48367\n",
       "Name: count, dtype: int64"
      ]
     },
     "execution_count": 51,
     "metadata": {},
     "output_type": "execute_result"
    }
   ],
   "source": [
    "attendance_model_df['small_family_group'].value_counts()"
   ]
  },
  {
   "cell_type": "code",
   "execution_count": 52,
   "id": "9e169b3a-3bab-4d3d-86ac-14b351cfec36",
   "metadata": {},
   "outputs": [
    {
     "data": {
      "text/plain": [
       "medium_family_group\n",
       "0    640781\n",
       "1     40748\n",
       "Name: count, dtype: int64"
      ]
     },
     "execution_count": 52,
     "metadata": {},
     "output_type": "execute_result"
    }
   ],
   "source": [
    "attendance_model_df['medium_family_group'].value_counts()"
   ]
  },
  {
   "cell_type": "code",
   "execution_count": 53,
   "id": "cbdfa8af-4116-402c-ad56-4be7baf56ffe",
   "metadata": {},
   "outputs": [
    {
     "data": {
      "text/plain": [
       "large_family_group\n",
       "0    679969\n",
       "1      1560\n",
       "Name: count, dtype: int64"
      ]
     },
     "execution_count": 53,
     "metadata": {},
     "output_type": "execute_result"
    }
   ],
   "source": [
    "attendance_model_df['large_family_group'].value_counts()"
   ]
  },
  {
   "cell_type": "code",
   "execution_count": 54,
   "id": "6a3e1e96-0ff8-4ae9-a8ac-72658cbabd94",
   "metadata": {},
   "outputs": [
    {
     "data": {
      "text/plain": [
       "adult\n",
       "0    353003\n",
       "1    328526\n",
       "Name: count, dtype: int64"
      ]
     },
     "execution_count": 54,
     "metadata": {},
     "output_type": "execute_result"
    }
   ],
   "source": [
    "attendance_model_df['adult'].value_counts()"
   ]
  },
  {
   "cell_type": "code",
   "execution_count": 55,
   "id": "c0128742-c3df-4717-a021-1c4cd7493ff8",
   "metadata": {},
   "outputs": [
    {
     "data": {
      "text/plain": [
       "student\n",
       "0    654729\n",
       "1     26800\n",
       "Name: count, dtype: int64"
      ]
     },
     "execution_count": 55,
     "metadata": {},
     "output_type": "execute_result"
    }
   ],
   "source": [
    "attendance_model_df['student'].value_counts()"
   ]
  },
  {
   "cell_type": "code",
   "execution_count": 56,
   "id": "34fc4619-b8ff-485a-9cc2-1dfeaa566d48",
   "metadata": {},
   "outputs": [
    {
     "data": {
      "text/plain": [
       "military\n",
       "0    668993\n",
       "1     12536\n",
       "Name: count, dtype: int64"
      ]
     },
     "execution_count": 56,
     "metadata": {},
     "output_type": "execute_result"
    }
   ],
   "source": [
    "attendance_model_df['military'].value_counts()"
   ]
  },
  {
   "cell_type": "code",
   "execution_count": 57,
   "id": "929f3919-625f-4d17-853c-bd878a5cbb1f",
   "metadata": {},
   "outputs": [
    {
     "data": {
      "text/plain": [
       "teen\n",
       "0    645334\n",
       "1     36195\n",
       "Name: count, dtype: int64"
      ]
     },
     "execution_count": 57,
     "metadata": {},
     "output_type": "execute_result"
    }
   ],
   "source": [
    "attendance_model_df['teen'].value_counts()"
   ]
  },
  {
   "cell_type": "code",
   "execution_count": 58,
   "id": "3a6e44fc-eaea-4f11-b9cf-e243eda4834e",
   "metadata": {},
   "outputs": [
    {
     "data": {
      "text/plain": [
       "child\n",
       "0    544473\n",
       "1    137056\n",
       "Name: count, dtype: int64"
      ]
     },
     "execution_count": 58,
     "metadata": {},
     "output_type": "execute_result"
    }
   ],
   "source": [
    "attendance_model_df['child'].value_counts()"
   ]
  },
  {
   "cell_type": "code",
   "execution_count": 59,
   "id": "3501ad95-d74c-4bcb-b6e6-795e67595003",
   "metadata": {},
   "outputs": [
    {
     "data": {
      "text/plain": [
       "two_and_under\n",
       "0    635268\n",
       "1     46261\n",
       "Name: count, dtype: int64"
      ]
     },
     "execution_count": 59,
     "metadata": {},
     "output_type": "execute_result"
    }
   ],
   "source": [
    "attendance_model_df['two_and_under'].value_counts()"
   ]
  },
  {
   "cell_type": "code",
   "execution_count": 60,
   "id": "66ae640a-e8e5-49e4-9562-e2e303f99dd6",
   "metadata": {},
   "outputs": [
    {
     "data": {
      "text/plain": [
       "senior\n",
       "0    658814\n",
       "1     22715\n",
       "Name: count, dtype: int64"
      ]
     },
     "execution_count": 60,
     "metadata": {},
     "output_type": "execute_result"
    }
   ],
   "source": [
    "attendance_model_df['senior'].value_counts()"
   ]
  },
  {
   "cell_type": "code",
   "execution_count": 61,
   "id": "d3ddf149-af12-4879-9a19-0aea67029b17",
   "metadata": {},
   "outputs": [
    {
     "data": {
      "text/plain": [
       "salt_lake_county\n",
       "0    429811\n",
       "1    251718\n",
       "Name: count, dtype: int64"
      ]
     },
     "execution_count": 61,
     "metadata": {},
     "output_type": "execute_result"
    }
   ],
   "source": [
    "attendance_model_df['salt_lake_county'].value_counts()"
   ]
  },
  {
   "cell_type": "code",
   "execution_count": 62,
   "id": "7d8e88b1-2397-427b-ad66-15ad69ef7775",
   "metadata": {},
   "outputs": [
    {
     "data": {
      "text/plain": [
       "out_of_state\n",
       "0    545396\n",
       "1    136133\n",
       "Name: count, dtype: int64"
      ]
     },
     "execution_count": 62,
     "metadata": {},
     "output_type": "execute_result"
    }
   ],
   "source": [
    "attendance_model_df['out_of_state'].value_counts()"
   ]
  },
  {
   "cell_type": "code",
   "execution_count": 63,
   "id": "018f09dd-2294-41b7-958c-e200071be47e",
   "metadata": {},
   "outputs": [
    {
     "data": {
      "text/plain": [
       "utah_county\n",
       "0    557835\n",
       "1    123694\n",
       "Name: count, dtype: int64"
      ]
     },
     "execution_count": 63,
     "metadata": {},
     "output_type": "execute_result"
    }
   ],
   "source": [
    "attendance_model_df['utah_county'].value_counts()"
   ]
  },
  {
   "cell_type": "code",
   "execution_count": 64,
   "id": "3a2047f4-7550-430b-a875-eadf62e0d4fd",
   "metadata": {},
   "outputs": [
    {
     "data": {
      "text/plain": [
       "other_in_state_county\n",
       "0    590109\n",
       "1     91420\n",
       "Name: count, dtype: int64"
      ]
     },
     "execution_count": 64,
     "metadata": {},
     "output_type": "execute_result"
    }
   ],
   "source": [
    "attendance_model_df['other_in_state_county'].value_counts()"
   ]
  },
  {
   "cell_type": "code",
   "execution_count": 65,
   "id": "9ad6853a-49e1-4ade-b952-985c0b156279",
   "metadata": {},
   "outputs": [
    {
     "data": {
      "text/plain": [
       "davis_county\n",
       "0    640985\n",
       "1     40544\n",
       "Name: count, dtype: int64"
      ]
     },
     "execution_count": 65,
     "metadata": {},
     "output_type": "execute_result"
    }
   ],
   "source": [
    "attendance_model_df['davis_county'].value_counts()"
   ]
  },
  {
   "cell_type": "code",
   "execution_count": 66,
   "id": "f0d92e2f-0979-4513-8184-eadd102e96a1",
   "metadata": {},
   "outputs": [
    {
     "data": {
      "text/plain": [
       "unknown_county\n",
       "0    643509\n",
       "1     38020\n",
       "Name: count, dtype: int64"
      ]
     },
     "execution_count": 66,
     "metadata": {},
     "output_type": "execute_result"
    }
   ],
   "source": [
    "attendance_model_df['unknown_county'].value_counts()"
   ]
  },
  {
   "cell_type": "code",
   "execution_count": 67,
   "id": "79554aa6-b7ca-4493-a638-7035cb2fe88b",
   "metadata": {},
   "outputs": [],
   "source": [
    "#Export new dataframe to csv for modeling\n",
    "attendance_model_df.to_csv(\"./Resources/attendance_model_data.csv\", index=False)"
   ]
  },
  {
   "cell_type": "code",
   "execution_count": null,
   "id": "837c4cc5-a156-426d-aae3-121b6405765c",
   "metadata": {},
   "outputs": [],
   "source": []
  }
 ],
 "metadata": {
  "kernelspec": {
   "display_name": "Python 3 (ipykernel)",
   "language": "python",
   "name": "python3"
  },
  "language_info": {
   "codemirror_mode": {
    "name": "ipython",
    "version": 3
   },
   "file_extension": ".py",
   "mimetype": "text/x-python",
   "name": "python",
   "nbconvert_exporter": "python",
   "pygments_lexer": "ipython3",
   "version": "3.11.9"
  }
 },
 "nbformat": 4,
 "nbformat_minor": 5
}
