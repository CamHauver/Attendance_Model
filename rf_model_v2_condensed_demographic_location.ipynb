{
 "cells": [
  {
   "cell_type": "code",
   "execution_count": 2,
   "id": "284bd35b-ee54-48f0-8202-3a404e811d48",
   "metadata": {},
   "outputs": [],
   "source": [
    "# Initial imports\n",
    "import pandas as pd\n",
    "from pathlib import Path\n",
    "from sklearn.datasets import make_classification \n",
    "from imblearn.over_sampling import SMOTE \n",
    "from sklearn.ensemble import RandomForestClassifier\n",
    "from sklearn.preprocessing import StandardScaler\n",
    "from sklearn.model_selection import train_test_split\n",
    "from sklearn.metrics import confusion_matrix, accuracy_score, classification_report\n",
    "import time\n",
    "%matplotlib inline"
   ]
  },
  {
   "cell_type": "code",
   "execution_count": 3,
   "id": "b0491160-626a-4d6b-a892-ba22d1995737",
   "metadata": {},
   "outputs": [
    {
     "data": {
      "text/html": [
       "<div>\n",
       "<style scoped>\n",
       "    .dataframe tbody tr th:only-of-type {\n",
       "        vertical-align: middle;\n",
       "    }\n",
       "\n",
       "    .dataframe tbody tr th {\n",
       "        vertical-align: top;\n",
       "    }\n",
       "\n",
       "    .dataframe thead th {\n",
       "        text-align: right;\n",
       "    }\n",
       "</style>\n",
       "<table border=\"1\" class=\"dataframe\">\n",
       "  <thead>\n",
       "    <tr style=\"text-align: right;\">\n",
       "      <th></th>\n",
       "      <th>year</th>\n",
       "      <th>month</th>\n",
       "      <th>member</th>\n",
       "      <th>zipcode</th>\n",
       "      <th>adult</th>\n",
       "      <th>teen</th>\n",
       "      <th>child</th>\n",
       "      <th>small_family_group</th>\n",
       "      <th>medium_family_group</th>\n",
       "      <th>large_family_group</th>\n",
       "      <th>maingroup_Davis</th>\n",
       "      <th>maingroup_Salt Lake County</th>\n",
       "      <th>maingroup_Utah County</th>\n",
       "    </tr>\n",
       "  </thead>\n",
       "  <tbody>\n",
       "    <tr>\n",
       "      <th>0</th>\n",
       "      <td>2022</td>\n",
       "      <td>2</td>\n",
       "      <td>0</td>\n",
       "      <td>84129</td>\n",
       "      <td>1</td>\n",
       "      <td>0</td>\n",
       "      <td>0</td>\n",
       "      <td>0</td>\n",
       "      <td>0</td>\n",
       "      <td>0</td>\n",
       "      <td>0</td>\n",
       "      <td>1</td>\n",
       "      <td>0</td>\n",
       "    </tr>\n",
       "    <tr>\n",
       "      <th>1</th>\n",
       "      <td>2022</td>\n",
       "      <td>2</td>\n",
       "      <td>0</td>\n",
       "      <td>84129</td>\n",
       "      <td>0</td>\n",
       "      <td>1</td>\n",
       "      <td>0</td>\n",
       "      <td>0</td>\n",
       "      <td>0</td>\n",
       "      <td>0</td>\n",
       "      <td>0</td>\n",
       "      <td>1</td>\n",
       "      <td>0</td>\n",
       "    </tr>\n",
       "    <tr>\n",
       "      <th>2</th>\n",
       "      <td>2022</td>\n",
       "      <td>2</td>\n",
       "      <td>0</td>\n",
       "      <td>84129</td>\n",
       "      <td>0</td>\n",
       "      <td>0</td>\n",
       "      <td>0</td>\n",
       "      <td>0</td>\n",
       "      <td>0</td>\n",
       "      <td>0</td>\n",
       "      <td>0</td>\n",
       "      <td>1</td>\n",
       "      <td>0</td>\n",
       "    </tr>\n",
       "    <tr>\n",
       "      <th>3</th>\n",
       "      <td>2022</td>\n",
       "      <td>2</td>\n",
       "      <td>1</td>\n",
       "      <td>84010</td>\n",
       "      <td>0</td>\n",
       "      <td>0</td>\n",
       "      <td>0</td>\n",
       "      <td>0</td>\n",
       "      <td>0</td>\n",
       "      <td>0</td>\n",
       "      <td>1</td>\n",
       "      <td>0</td>\n",
       "      <td>0</td>\n",
       "    </tr>\n",
       "    <tr>\n",
       "      <th>4</th>\n",
       "      <td>2022</td>\n",
       "      <td>2</td>\n",
       "      <td>1</td>\n",
       "      <td>84010</td>\n",
       "      <td>0</td>\n",
       "      <td>0</td>\n",
       "      <td>0</td>\n",
       "      <td>0</td>\n",
       "      <td>0</td>\n",
       "      <td>0</td>\n",
       "      <td>1</td>\n",
       "      <td>0</td>\n",
       "      <td>0</td>\n",
       "    </tr>\n",
       "  </tbody>\n",
       "</table>\n",
       "</div>"
      ],
      "text/plain": [
       "   year  month  member  zipcode  adult  teen  child  small_family_group   \n",
       "0  2022      2       0    84129      1     0      0                   0  \\\n",
       "1  2022      2       0    84129      0     1      0                   0   \n",
       "2  2022      2       0    84129      0     0      0                   0   \n",
       "3  2022      2       1    84010      0     0      0                   0   \n",
       "4  2022      2       1    84010      0     0      0                   0   \n",
       "\n",
       "   medium_family_group  large_family_group  maingroup_Davis   \n",
       "0                    0                   0                0  \\\n",
       "1                    0                   0                0   \n",
       "2                    0                   0                0   \n",
       "3                    0                   0                1   \n",
       "4                    0                   0                1   \n",
       "\n",
       "   maingroup_Salt Lake County  maingroup_Utah County  \n",
       "0                           1                      0  \n",
       "1                           1                      0  \n",
       "2                           1                      0  \n",
       "3                           0                      0  \n",
       "4                           0                      0  "
      ]
     },
     "execution_count": 3,
     "metadata": {},
     "output_type": "execute_result"
    }
   ],
   "source": [
    "# Loading data\n",
    "attendance_model_df = pd.read_csv(\"./Resources/attendance_condensed_demographic_location_model_data.csv\")\n",
    "attendance_model_df.head()"
   ]
  },
  {
   "cell_type": "code",
   "execution_count": 4,
   "id": "2ac2da17-b1a5-4194-80cd-203957b91c58",
   "metadata": {},
   "outputs": [
    {
     "data": {
      "text/html": [
       "<div>\n",
       "<style scoped>\n",
       "    .dataframe tbody tr th:only-of-type {\n",
       "        vertical-align: middle;\n",
       "    }\n",
       "\n",
       "    .dataframe tbody tr th {\n",
       "        vertical-align: top;\n",
       "    }\n",
       "\n",
       "    .dataframe thead th {\n",
       "        text-align: right;\n",
       "    }\n",
       "</style>\n",
       "<table border=\"1\" class=\"dataframe\">\n",
       "  <thead>\n",
       "    <tr style=\"text-align: right;\">\n",
       "      <th></th>\n",
       "      <th>year</th>\n",
       "      <th>month</th>\n",
       "      <th>zipcode</th>\n",
       "      <th>adult</th>\n",
       "      <th>teen</th>\n",
       "      <th>child</th>\n",
       "      <th>small_family_group</th>\n",
       "      <th>medium_family_group</th>\n",
       "      <th>large_family_group</th>\n",
       "      <th>maingroup_Davis</th>\n",
       "      <th>maingroup_Salt Lake County</th>\n",
       "      <th>maingroup_Utah County</th>\n",
       "    </tr>\n",
       "  </thead>\n",
       "  <tbody>\n",
       "    <tr>\n",
       "      <th>0</th>\n",
       "      <td>2022</td>\n",
       "      <td>2</td>\n",
       "      <td>84129</td>\n",
       "      <td>1</td>\n",
       "      <td>0</td>\n",
       "      <td>0</td>\n",
       "      <td>0</td>\n",
       "      <td>0</td>\n",
       "      <td>0</td>\n",
       "      <td>0</td>\n",
       "      <td>1</td>\n",
       "      <td>0</td>\n",
       "    </tr>\n",
       "    <tr>\n",
       "      <th>1</th>\n",
       "      <td>2022</td>\n",
       "      <td>2</td>\n",
       "      <td>84129</td>\n",
       "      <td>0</td>\n",
       "      <td>1</td>\n",
       "      <td>0</td>\n",
       "      <td>0</td>\n",
       "      <td>0</td>\n",
       "      <td>0</td>\n",
       "      <td>0</td>\n",
       "      <td>1</td>\n",
       "      <td>0</td>\n",
       "    </tr>\n",
       "    <tr>\n",
       "      <th>2</th>\n",
       "      <td>2022</td>\n",
       "      <td>2</td>\n",
       "      <td>84129</td>\n",
       "      <td>0</td>\n",
       "      <td>0</td>\n",
       "      <td>0</td>\n",
       "      <td>0</td>\n",
       "      <td>0</td>\n",
       "      <td>0</td>\n",
       "      <td>0</td>\n",
       "      <td>1</td>\n",
       "      <td>0</td>\n",
       "    </tr>\n",
       "    <tr>\n",
       "      <th>3</th>\n",
       "      <td>2022</td>\n",
       "      <td>2</td>\n",
       "      <td>84010</td>\n",
       "      <td>0</td>\n",
       "      <td>0</td>\n",
       "      <td>0</td>\n",
       "      <td>0</td>\n",
       "      <td>0</td>\n",
       "      <td>0</td>\n",
       "      <td>1</td>\n",
       "      <td>0</td>\n",
       "      <td>0</td>\n",
       "    </tr>\n",
       "    <tr>\n",
       "      <th>4</th>\n",
       "      <td>2022</td>\n",
       "      <td>2</td>\n",
       "      <td>84010</td>\n",
       "      <td>0</td>\n",
       "      <td>0</td>\n",
       "      <td>0</td>\n",
       "      <td>0</td>\n",
       "      <td>0</td>\n",
       "      <td>0</td>\n",
       "      <td>1</td>\n",
       "      <td>0</td>\n",
       "      <td>0</td>\n",
       "    </tr>\n",
       "  </tbody>\n",
       "</table>\n",
       "</div>"
      ],
      "text/plain": [
       "   year  month  zipcode  adult  teen  child  small_family_group   \n",
       "0  2022      2    84129      1     0      0                   0  \\\n",
       "1  2022      2    84129      0     1      0                   0   \n",
       "2  2022      2    84129      0     0      0                   0   \n",
       "3  2022      2    84010      0     0      0                   0   \n",
       "4  2022      2    84010      0     0      0                   0   \n",
       "\n",
       "   medium_family_group  large_family_group  maingroup_Davis   \n",
       "0                    0                   0                0  \\\n",
       "1                    0                   0                0   \n",
       "2                    0                   0                0   \n",
       "3                    0                   0                1   \n",
       "4                    0                   0                1   \n",
       "\n",
       "   maingroup_Salt Lake County  maingroup_Utah County  \n",
       "0                           1                      0  \n",
       "1                           1                      0  \n",
       "2                           1                      0  \n",
       "3                           0                      0  \n",
       "4                           0                      0  "
      ]
     },
     "execution_count": 4,
     "metadata": {},
     "output_type": "execute_result"
    }
   ],
   "source": [
    "# Define features set\n",
    "X = attendance_model_df.copy()\n",
    "X.drop(\"member\", axis=1, inplace=True)\n",
    "X.head()"
   ]
  },
  {
   "cell_type": "code",
   "execution_count": 5,
   "id": "67dc2aa4-8d51-43fc-9581-b9304dc783f7",
   "metadata": {},
   "outputs": [
    {
     "data": {
      "text/plain": [
       "array([0, 0, 0, 1, 1], dtype=int64)"
      ]
     },
     "execution_count": 5,
     "metadata": {},
     "output_type": "execute_result"
    }
   ],
   "source": [
    "# Define target vector\n",
    "y = attendance_model_df[\"member\"].ravel()\n",
    "y[:5]"
   ]
  },
  {
   "cell_type": "code",
   "execution_count": 225,
   "id": "d5aa35ee-dc9d-4987-b6bf-37aded32eaf8",
   "metadata": {},
   "outputs": [
    {
     "name": "stdout",
     "output_type": "stream",
     "text": [
      "x_smote:\n",
      " [[ 1.05294356 -1.13538338 -0.45988525 ... -1.10842216 -0.48909746\n",
      "   1.03235201]\n",
      " [-0.03740528 -1.53702565 -1.78720424 ...  1.09409981  2.07033238\n",
      "   0.49617387]\n",
      " [-0.15968451 -0.39297893  0.30339965 ...  0.75905609 -0.93742198\n",
      "  -1.1983684 ]\n",
      " ...\n",
      " [ 0.50291642  1.22675996  0.61729861 ... -0.13349331 -0.21567724\n",
      "   0.33803427]\n",
      " [-0.3097584   1.79550836 -0.3699734  ...  0.83475935 -0.03771247\n",
      "   0.69572115]\n",
      " [-0.19197235  2.09537081 -1.03929606 ... -0.71363776 -1.35488239\n",
      "  -0.59602413]]\n",
      "y_smote:\n",
      " [0 0 1 ... 1 1 1]\n"
     ]
    }
   ],
   "source": [
    "# define dataset for model. Full dataset = 606729, with target variable ('member' = 1) = 235697. 20%-30% of this subset = 47,139 - 70709\n",
    "x, y = make_classification(n_samples=50000) \n",
    "smote = SMOTE() \n",
    "x_smote, y_smote = smote.fit_resample(x, y) \n",
    "  \n",
    "# print the features and the labels \n",
    "print('x_smote:\\n', x_smote) \n",
    "print('y_smote:\\n', y_smote) "
   ]
  },
  {
   "cell_type": "code",
   "execution_count": 226,
   "id": "dfd37752-ec39-4735-ba96-02ea9f1a4e2c",
   "metadata": {},
   "outputs": [],
   "source": [
    "# Splitting into Train and Test sets\n",
    "X_train, X_test, y_train, y_test = train_test_split(x_smote, y_smote, random_state=24)"
   ]
  },
  {
   "cell_type": "code",
   "execution_count": 227,
   "id": "1e30feb8-7aff-4935-982d-d1af8cbf69f1",
   "metadata": {},
   "outputs": [],
   "source": [
    "# Creating StandardScaler instance\n",
    "scaler = StandardScaler()\n",
    "# Fitting Standard Scaler\n",
    "X_scaler = scaler.fit(X_train)\n",
    "# Scaling data\n",
    "X_train_scaled = X_scaler.transform(X_train)\n",
    "X_test_scaled = X_scaler.transform(X_test)"
   ]
  },
  {
   "cell_type": "code",
   "execution_count": 228,
   "id": "a59127fe-92c9-4583-8ad2-106257a02c59",
   "metadata": {},
   "outputs": [],
   "source": [
    "# Fitting the Random Forest Model\n",
    "# Create a random forest classifier\n",
    "rf_model = RandomForestClassifier(n_estimators=6, max_depth=5, min_samples_split=4, min_samples_leaf=5, random_state=24)"
   ]
  },
  {
   "cell_type": "code",
   "execution_count": 229,
   "id": "1d7dca06-dafa-4abd-a641-8eed2241a8b5",
   "metadata": {},
   "outputs": [
    {
     "name": "stdout",
     "output_type": "stream",
     "text": [
      "Elapsed time:  0.702650785446167\n"
     ]
    }
   ],
   "source": [
    "# Fitting the model\n",
    "start_time = time.time()\n",
    "\n",
    "rf_model = rf_model.fit(X_train_scaled, y_train)\n",
    "\n",
    "end_time = time.time()\n",
    "print(\"Elapsed time: \", end_time - start_time)"
   ]
  },
  {
   "cell_type": "code",
   "execution_count": 230,
   "id": "fbe99613-6cfd-4405-988e-3ac9f1545e01",
   "metadata": {},
   "outputs": [],
   "source": [
    "# Making Predictions Using the testing data and the Random Forest Model\n",
    "predictions = rf_model.predict(X_test_scaled)"
   ]
  },
  {
   "cell_type": "code",
   "execution_count": 231,
   "id": "76777d5c-5eb9-4e29-9de7-e9e11396215d",
   "metadata": {},
   "outputs": [],
   "source": [
    "# Get the feature importance array\n",
    "importances = rf_model.feature_importances_"
   ]
  },
  {
   "cell_type": "code",
   "execution_count": 232,
   "id": "485c7f3d-ab8e-4fd5-8b9d-6f5d0813000f",
   "metadata": {},
   "outputs": [
    {
     "data": {
      "text/plain": [
       "[(0.3447946379594577, 'month'),\n",
       " (0.3113607818706035, 'teen'),\n",
       " (0.06079071081472879, 'maingroup_Salt Lake County'),\n",
       " (0.000630935487595529, 'small_family_group'),\n",
       " (0.0005221828294699924, 'adult'),\n",
       " (0.00043033535338749755, 'zipcode'),\n",
       " (0.00026174190236037605, 'medium_family_group'),\n",
       " (0.00016979499682410318, 'maingroup_Utah County'),\n",
       " (8.261143602895834e-05, 'year'),\n",
       " (8.205416028021815e-05, 'maingroup_Davis')]"
      ]
     },
     "execution_count": 232,
     "metadata": {},
     "output_type": "execute_result"
    }
   ],
   "source": [
    "# List the top 10 most important features\n",
    "importances_sorted = sorted(zip(rf_model.feature_importances_, X.columns), reverse=True)\n",
    "importances_sorted[:10]"
   ]
  },
  {
   "cell_type": "code",
   "execution_count": 233,
   "id": "58101e47-b050-43d0-ad34-10e0634b3192",
   "metadata": {},
   "outputs": [
    {
     "data": {
      "text/plain": [
       "<Axes: title={'center': 'Features Importances'}, ylabel='1'>"
      ]
     },
     "execution_count": 233,
     "metadata": {},
     "output_type": "execute_result"
    },
    {
     "data": {
      "image/png": "[encoded data removed]",
      "text/plain": [
       "<Figure size 640x480 with 1 Axes>"
      ]
     },
     "metadata": {},
     "output_type": "display_data"
    }
   ],
   "source": [
    "# Visualize the features by importance\n",
    "importances_df = pd.DataFrame(sorted(zip(rf_model.feature_importances_, X.columns), reverse=True))\n",
    "importances_df.set_index(importances_df[1], inplace=True)\n",
    "importances_df.drop(columns=1, inplace=True)\n",
    "importances_df.rename(columns={0: 'Feature Importances'}, inplace=True)\n",
    "importances_sorted = importances_df.sort_values(by='Feature Importances')\n",
    "importances_sorted.plot(kind='barh', color='lightgreen', title= 'Features Importances', legend=False)"
   ]
  },
  {
   "cell_type": "code",
   "execution_count": 234,
   "id": "9b51f1ea-c8ec-497e-bc9f-e142c9504332",
   "metadata": {},
   "outputs": [],
   "source": [
    "# Model Evaluation\n",
    "# Calculating the confusion matrix\n",
    "cm = confusion_matrix(y_test, predictions)\n",
    "cm_df = pd.DataFrame(\n",
    "    cm, index=[\"Actual 0\", \"Actual 1\"], columns=[\"Predicted 0\", \"Predicted 1\"]\n",
    ")"
   ]
  },
  {
   "cell_type": "code",
   "execution_count": 235,
   "id": "1c81c6d9-aa5b-4cc8-b68e-893bb6f942b8",
   "metadata": {},
   "outputs": [
    {
     "name": "stdout",
     "output_type": "stream",
     "text": [
      "Confusion Matrix\n"
     ]
    },
    {
     "data": {
      "text/html": [
       "<div>\n",
       "<style scoped>\n",
       "    .dataframe tbody tr th:only-of-type {\n",
       "        vertical-align: middle;\n",
       "    }\n",
       "\n",
       "    .dataframe tbody tr th {\n",
       "        vertical-align: top;\n",
       "    }\n",
       "\n",
       "    .dataframe thead th {\n",
       "        text-align: right;\n",
       "    }\n",
       "</style>\n",
       "<table border=\"1\" class=\"dataframe\">\n",
       "  <thead>\n",
       "    <tr style=\"text-align: right;\">\n",
       "      <th></th>\n",
       "      <th>Predicted 0</th>\n",
       "      <th>Predicted 1</th>\n",
       "    </tr>\n",
       "  </thead>\n",
       "  <tbody>\n",
       "    <tr>\n",
       "      <th>Actual 0</th>\n",
       "      <td>5589</td>\n",
       "      <td>631</td>\n",
       "    </tr>\n",
       "    <tr>\n",
       "      <th>Actual 1</th>\n",
       "      <td>591</td>\n",
       "      <td>5703</td>\n",
       "    </tr>\n",
       "  </tbody>\n",
       "</table>\n",
       "</div>"
      ],
      "text/plain": [
       "          Predicted 0  Predicted 1\n",
       "Actual 0         5589          631\n",
       "Actual 1          591         5703"
      ]
     },
     "metadata": {},
     "output_type": "display_data"
    },
    {
     "name": "stdout",
     "output_type": "stream",
     "text": [
      "Accuracy Score : 0.9023493687070481\n",
      "Classification Report\n",
      "              precision    recall  f1-score   support\n",
      "\n",
      "           0       0.90      0.90      0.90      6220\n",
      "           1       0.90      0.91      0.90      6294\n",
      "\n",
      "    accuracy                           0.90     12514\n",
      "   macro avg       0.90      0.90      0.90     12514\n",
      "weighted avg       0.90      0.90      0.90     12514\n",
      "\n"
     ]
    }
   ],
   "source": [
    "# Calculating the accuracy score\n",
    "acc_score = accuracy_score(y_test, predictions)\n",
    "# Displaying results\n",
    "print(\"Confusion Matrix\")\n",
    "display(cm_df)\n",
    "print(f\"Accuracy Score : {acc_score}\")\n",
    "print(\"Classification Report\")\n",
    "print(classification_report(y_test, predictions))"
   ]
  },
  {
   "cell_type": "code",
   "execution_count": null,
   "id": "08221803-570d-430d-86b2-ca9d477bfe6a",
   "metadata": {},
   "outputs": [],
   "source": []
  },
  {
   "cell_type": "code",
   "execution_count": null,
   "id": "686af21e-f726-42b0-8d73-5062fb47d4d4",
   "metadata": {},
   "outputs": [],
   "source": []
  }
 ],
 "metadata": {
  "kernelspec": {
   "display_name": "Python 3 (ipykernel)",
   "language": "python",
   "name": "python3"
  },
  "language_info": {
   "codemirror_mode": {
    "name": "ipython",
    "version": 3
   },
   "file_extension": ".py",
   "mimetype": "text/x-python",
   "name": "python",
   "nbconvert_exporter": "python",
   "pygments_lexer": "ipython3",
   "version": "3.11.9"
  }
 },
 "nbformat": 4,
 "nbformat_minor": 5
}
